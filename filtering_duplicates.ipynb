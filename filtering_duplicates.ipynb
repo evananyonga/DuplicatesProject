{
 "cells": [
  {
   "cell_type": "code",
   "execution_count": 1,
   "id": "e5817582",
   "metadata": {},
   "outputs": [
    {
     "name": "stderr",
     "output_type": "stream",
     "text": [
      "C:\\ProgramData\\Anaconda3\\lib\\site-packages\\fuzzywuzzy\\fuzz.py:11: UserWarning: Using slow pure-python SequenceMatcher. Install python-Levenshtein to remove this warning\n",
      "  warnings.warn('Using slow pure-python SequenceMatcher. Install python-Levenshtein to remove this warning')\n"
     ]
    }
   ],
   "source": [
    "import pandas as pd\n",
    "import numpy as np\n",
    "from fuzzywuzzy import fuzz"
   ]
  },
  {
   "cell_type": "code",
   "execution_count": null,
   "id": "76507cbd",
   "metadata": {},
   "outputs": [],
   "source": [
    "# products_sheet_id = \"1FB2bbvWE2nsf49KO_DkWzbL2hm9r4G8j\"\n",
    "# products_list = \"Tablib%20Dataset\"\n",
    "# url = f\"https://docs.google.com/spreadsheets/d/{products_sheet_id}/gviz/tq?tqx=out:csv&sheet={products_list}\""
   ]
  },
  {
   "cell_type": "code",
   "execution_count": 2,
   "id": "aaabb184",
   "metadata": {},
   "outputs": [],
   "source": [
    "pdt_df = pd.read_csv('full_products_list.csv')\n",
    "batches_df = pd.read_csv('batches_list.csv')\n",
    "recipe_df = pd.read_csv('recipe_list.csv')"
   ]
  },
  {
   "cell_type": "code",
   "execution_count": 4,
   "id": "9507e956",
   "metadata": {
    "scrolled": false
   },
   "outputs": [],
   "source": [
    "xls = pd.ExcelFile(r'C:\\Users\\NDA\\Desktop\\EVE\\TMCG\\documents\\duplicate_products.xlsx')"
   ]
  },
  {
   "cell_type": "code",
   "execution_count": 5,
   "id": "45fbb8d7",
   "metadata": {},
   "outputs": [],
   "source": [
    "dp_list = pd.read_excel(xls, 'copy_final_list_duplicates')\n",
    "unique_pdts_df = pd.read_excel(xls, 'unique final list')"
   ]
  },
  {
   "cell_type": "code",
   "execution_count": 6,
   "id": "fb3884c1",
   "metadata": {},
   "outputs": [],
   "source": [
    "new_dp_list = dp_list.drop(['Unnamed: 1', 'Unnamed: 2', 'Unnamed: 3', 'Unnamed: 4', 'Unnamed: 5', 'Unnamed: 8',\n",
    "                           'Unnamed: 9', 'Unnamed: 10', 'Unnamed: 11', 'Unnamed: 12', 'Unnamed: 13', 'Unnamed: 14',\n",
    "                           'Unnamed: 15', 'Unnamed: 16', 'Unnamed: 17', 'Unnamed: 18', 'Unnamed: 19', 'Unnamed: 20',\n",
    "                           'Unnamed: 21', 'Unnamed: 22', 'Unnamed: 23'], axis=1)"
   ]
  },
  {
   "cell_type": "code",
   "execution_count": 7,
   "id": "27149502",
   "metadata": {},
   "outputs": [],
   "source": [
    "new_dp_list = new_dp_list.rename(columns={'Eva': 'PRODUCT ID', 'Unnamed: 6': 'Generic Name', 'Unnamed: 7': 'Brand Name'})"
   ]
  },
  {
   "cell_type": "code",
   "execution_count": 8,
   "id": "c6ab8e20",
   "metadata": {},
   "outputs": [],
   "source": [
    "new_dp_list = new_dp_list.dropna(axis='rows')"
   ]
  },
  {
   "cell_type": "code",
   "execution_count": 9,
   "id": "7c21681f",
   "metadata": {},
   "outputs": [],
   "source": [
    "new_dp_list = new_dp_list.drop([new_dp_list.index[-1]])"
   ]
  },
  {
   "cell_type": "code",
   "execution_count": 10,
   "id": "791c66cb",
   "metadata": {},
   "outputs": [],
   "source": [
    "new_dp_list['PRODUCT ID'] = pd.to_numeric(new_dp_list['PRODUCT ID'], errors='ignore')"
   ]
  },
  {
   "cell_type": "code",
   "execution_count": 12,
   "id": "3bb381c7",
   "metadata": {},
   "outputs": [
    {
     "data": {
      "text/html": [
       "<div>\n",
       "<style scoped>\n",
       "    .dataframe tbody tr th:only-of-type {\n",
       "        vertical-align: middle;\n",
       "    }\n",
       "\n",
       "    .dataframe tbody tr th {\n",
       "        vertical-align: top;\n",
       "    }\n",
       "\n",
       "    .dataframe thead th {\n",
       "        text-align: right;\n",
       "    }\n",
       "</style>\n",
       "<table border=\"1\" class=\"dataframe\">\n",
       "  <thead>\n",
       "    <tr style=\"text-align: right;\">\n",
       "      <th></th>\n",
       "      <th>PRODUCT ID</th>\n",
       "      <th>Generic Name</th>\n",
       "      <th>Brand Name</th>\n",
       "    </tr>\n",
       "  </thead>\n",
       "  <tbody>\n",
       "    <tr>\n",
       "      <th>0</th>\n",
       "      <td>3951</td>\n",
       "      <td>Betadine Mouthwash Gargle</td>\n",
       "      <td>Betadine Mouthwash Gargle</td>\n",
       "    </tr>\n",
       "    <tr>\n",
       "      <th>1</th>\n",
       "      <td>387</td>\n",
       "      <td>Montelukast</td>\n",
       "      <td>DENK AIR JUNIOR 5mg</td>\n",
       "    </tr>\n",
       "    <tr>\n",
       "      <th>2</th>\n",
       "      <td>4933</td>\n",
       "      <td>Montelukast Tabs</td>\n",
       "      <td>Denk-air</td>\n",
       "    </tr>\n",
       "    <tr>\n",
       "      <th>3</th>\n",
       "      <td>4942</td>\n",
       "      <td>Montelukast Tabs</td>\n",
       "      <td>Denk-Air Junior</td>\n",
       "    </tr>\n",
       "    <tr>\n",
       "      <th>4</th>\n",
       "      <td>3146</td>\n",
       "      <td>Diclofenac Tabs</td>\n",
       "      <td>Diclomol SR</td>\n",
       "    </tr>\n",
       "  </tbody>\n",
       "</table>\n",
       "</div>"
      ],
      "text/plain": [
       "   PRODUCT ID               Generic Name                 Brand Name\n",
       "0        3951  Betadine Mouthwash Gargle  Betadine Mouthwash Gargle\n",
       "1         387                Montelukast        DENK AIR JUNIOR 5mg\n",
       "2        4933           Montelukast Tabs                   Denk-air\n",
       "3        4942           Montelukast Tabs            Denk-Air Junior\n",
       "4        3146            Diclofenac Tabs                Diclomol SR"
      ]
     },
     "execution_count": 12,
     "metadata": {},
     "output_type": "execute_result"
    }
   ],
   "source": [
    "new_dp_list.head()"
   ]
  },
  {
   "cell_type": "code",
   "execution_count": null,
   "id": "32411cde",
   "metadata": {},
   "outputs": [],
   "source": [
    "unique_pdts_df.columns"
   ]
  },
  {
   "cell_type": "code",
   "execution_count": 11,
   "id": "743e6fb5",
   "metadata": {},
   "outputs": [],
   "source": [
    "unique_pdts_df = unique_pdts_df.drop(['COUNTRY OF ORIGIN', 'FORMULATION', 'RETAIL PRICE PER SMALLEST UNIT', \n",
    "                                      'RETAIL PRICE PER SMALLEST UNIT.1', 'PACK SIZE', 'STRENGTH', 'eshop_id', \n",
    "                                      'Unnamed: 10', 'Unnamed: 11', 'Unnamed: 12', 'Unnamed: 13', 'Unnamed: 14', \n",
    "                                      'Unnamed: 15', 'Unnamed: 16', 'Unnamed: 17', 'Unnamed: 18', 'Unnamed: 19', \n",
    "                                      'Unnamed: 20', 'Unnamed: 21', 'Unnamed: 22', 'Unnamed: 23', 'Unnamed: 24', \n",
    "                                      'Unnamed: 25'], axis=1)"
   ]
  },
  {
   "cell_type": "code",
   "execution_count": 13,
   "id": "40e12ce4",
   "metadata": {},
   "outputs": [
    {
     "data": {
      "text/html": [
       "<div>\n",
       "<style scoped>\n",
       "    .dataframe tbody tr th:only-of-type {\n",
       "        vertical-align: middle;\n",
       "    }\n",
       "\n",
       "    .dataframe tbody tr th {\n",
       "        vertical-align: top;\n",
       "    }\n",
       "\n",
       "    .dataframe thead th {\n",
       "        text-align: right;\n",
       "    }\n",
       "</style>\n",
       "<table border=\"1\" class=\"dataframe\">\n",
       "  <thead>\n",
       "    <tr style=\"text-align: right;\">\n",
       "      <th></th>\n",
       "      <th>ID</th>\n",
       "      <th>GENERIC NAME</th>\n",
       "      <th>BRAND NAME</th>\n",
       "    </tr>\n",
       "  </thead>\n",
       "  <tbody>\n",
       "    <tr>\n",
       "      <th>0</th>\n",
       "      <td>5302</td>\n",
       "      <td>Glyceryl trinitrate</td>\n",
       "      <td>accord 500mcg</td>\n",
       "    </tr>\n",
       "    <tr>\n",
       "      <th>1</th>\n",
       "      <td>3949</td>\n",
       "      <td>Betadine Antiseptic Solution</td>\n",
       "      <td>Betadine Antiseptic Solution</td>\n",
       "    </tr>\n",
       "    <tr>\n",
       "      <th>2</th>\n",
       "      <td>715</td>\n",
       "      <td>Montelukast</td>\n",
       "      <td>DENK AIR 10MG</td>\n",
       "    </tr>\n",
       "    <tr>\n",
       "      <th>3</th>\n",
       "      <td>4328</td>\n",
       "      <td>Diclofenac SR Tabs</td>\n",
       "      <td>Diclomol</td>\n",
       "    </tr>\n",
       "    <tr>\n",
       "      <th>4</th>\n",
       "      <td>830</td>\n",
       "      <td>Doxazosin</td>\n",
       "      <td>DOXAZOSIN 4MG UK</td>\n",
       "    </tr>\n",
       "  </tbody>\n",
       "</table>\n",
       "</div>"
      ],
      "text/plain": [
       "     ID                  GENERIC NAME                    BRAND NAME\n",
       "0  5302           Glyceryl trinitrate                 accord 500mcg\n",
       "1  3949  Betadine Antiseptic Solution  Betadine Antiseptic Solution\n",
       "2   715                   Montelukast                 DENK AIR 10MG\n",
       "3  4328            Diclofenac SR Tabs                      Diclomol\n",
       "4   830                     Doxazosin              DOXAZOSIN 4MG UK"
      ]
     },
     "execution_count": 13,
     "metadata": {},
     "output_type": "execute_result"
    }
   ],
   "source": [
    "unique_pdts_df.head()"
   ]
  },
  {
   "cell_type": "code",
   "execution_count": 14,
   "id": "a90ecca8",
   "metadata": {},
   "outputs": [],
   "source": [
    "unique_pdts_df = unique_pdts_df.rename(columns={'ID': 'PRODUCT ID'})"
   ]
  },
  {
   "cell_type": "code",
   "execution_count": 16,
   "id": "6ef306a4",
   "metadata": {},
   "outputs": [],
   "source": [
    "new_dp_list.reset_index(drop=True, inplace=True)"
   ]
  },
  {
   "cell_type": "code",
   "execution_count": 17,
   "id": "0a118e6a",
   "metadata": {
    "scrolled": false
   },
   "outputs": [
    {
     "name": "stderr",
     "output_type": "stream",
     "text": [
      "<ipython-input-17-3f3e64898cba>:7: SettingWithCopyWarning: \n",
      "A value is trying to be set on a copy of a slice from a DataFrame\n",
      "\n",
      "See the caveats in the documentation: https://pandas.pydata.org/pandas-docs/stable/user_guide/indexing.html#returning-a-view-versus-a-copy\n",
      "  new_dp_list['NEW ID'][j] = unique_pdts_df['PRODUCT ID'][i]\n",
      "<ipython-input-17-3f3e64898cba>:8: SettingWithCopyWarning: \n",
      "A value is trying to be set on a copy of a slice from a DataFrame\n",
      "\n",
      "See the caveats in the documentation: https://pandas.pydata.org/pandas-docs/stable/user_guide/indexing.html#returning-a-view-versus-a-copy\n",
      "  new_dp_list['new_generic_name'][j] = unique_pdts_df['GENERIC NAME'][i]\n"
     ]
    }
   ],
   "source": [
    "new_dp_list['NEW ID'] = ''\n",
    "new_dp_list['new_generic_name'] = ''\n",
    "\n",
    "for i in range(len(unique_pdts_df)):\n",
    "    for j in range(len(new_dp_list)):        \n",
    "        if unique_pdts_df['GENERIC NAME'][i].lower() in new_dp_list['Generic Name'][j].lower():\n",
    "            new_dp_list['NEW ID'][j] = unique_pdts_df['PRODUCT ID'][i]\n",
    "            new_dp_list['new_generic_name'][j] = unique_pdts_df['GENERIC NAME'][i]        "
   ]
  },
  {
   "cell_type": "code",
   "execution_count": null,
   "id": "024dfe98",
   "metadata": {},
   "outputs": [],
   "source": [
    "# pdt_df.columns"
   ]
  },
  {
   "cell_type": "code",
   "execution_count": null,
   "id": "8a3b1345",
   "metadata": {},
   "outputs": [],
   "source": [
    "new_pdt_df= pdt_df.drop(['COUNTRY OF ORIGIN', 'FORMULATION', 'PACK SIZE', 'RETAIL PRICE PER SMALLEST UNIT', \n",
    "             'RETAIL PRICE PER SMALLEST UNIT.1', 'PACK SIZE', 'STRENGTH', 'eshop_id'], axis=1)"
   ]
  },
  {
   "cell_type": "code",
   "execution_count": null,
   "id": "bc8b1192",
   "metadata": {},
   "outputs": [],
   "source": [
    "# new_pdt_df.dtypes"
   ]
  },
  {
   "cell_type": "code",
   "execution_count": null,
   "id": "97fdfa40",
   "metadata": {},
   "outputs": [],
   "source": [
    "new_batches_df= batches_df.drop(['id', 'created', 'modified', 'initial_item_count', \n",
    "             'cost_price', 'item_count', 'expiration_date', 'manufacturing_date'], axis=1)"
   ]
  },
  {
   "cell_type": "code",
   "execution_count": null,
   "id": "18d625ee",
   "metadata": {},
   "outputs": [],
   "source": [
    "# new_batches_df.info()"
   ]
  },
  {
   "cell_type": "code",
   "execution_count": null,
   "id": "67f21e53",
   "metadata": {},
   "outputs": [],
   "source": [
    "# recipe_df.columns"
   ]
  },
  {
   "cell_type": "code",
   "execution_count": null,
   "id": "6358f6ee",
   "metadata": {},
   "outputs": [],
   "source": [
    "new_recipe_df = recipe_df.drop(['id', 'created', 'modified', 'prescription', 'dosage', 'tablets', 'quantity', 'frequency', \n",
    "                                'duration', 'route', 'price_discount', 'serving_pharmacy', 'price_controller', 'rx_price',\n",
    "                               'external_price', 'requires_approval', 'approved', 'dropped', 'canceling_party', \n",
    "                                'reason_for_cancelation', 'authorized_by_tmcg', 'authorized_by_insurer', 'client_decision', \n",
    "                                'insurer_code'], axis=1)"
   ]
  },
  {
   "cell_type": "code",
   "execution_count": null,
   "id": "2dea8bec",
   "metadata": {},
   "outputs": [],
   "source": [
    "# new_recipe_df.info()"
   ]
  },
  {
   "cell_type": "code",
   "execution_count": null,
   "id": "a4148ba6",
   "metadata": {},
   "outputs": [],
   "source": [
    "# new_recipe_df.head()"
   ]
  },
  {
   "cell_type": "code",
   "execution_count": null,
   "id": "4fc9bb86",
   "metadata": {},
   "outputs": [],
   "source": [
    "dp_list.head()"
   ]
  },
  {
   "cell_type": "code",
   "execution_count": null,
   "id": "54375c92",
   "metadata": {},
   "outputs": [],
   "source": [
    "# unique_pdts_df.info()"
   ]
  },
  {
   "cell_type": "code",
   "execution_count": null,
   "id": "b39ec8dd",
   "metadata": {},
   "outputs": [],
   "source": [
    "# dp_list.columns"
   ]
  },
  {
   "cell_type": "code",
   "execution_count": null,
   "id": "0f2c2f48",
   "metadata": {},
   "outputs": [],
   "source": [
    "# dp_list.info()"
   ]
  },
  {
   "cell_type": "code",
   "execution_count": null,
   "id": "4b5bc5ff",
   "metadata": {},
   "outputs": [],
   "source": [
    "new_dp_list.head()"
   ]
  },
  {
   "cell_type": "code",
   "execution_count": null,
   "id": "91b62e5c",
   "metadata": {
    "scrolled": false
   },
   "outputs": [],
   "source": [
    "new_dp_list.info()"
   ]
  },
  {
   "cell_type": "code",
   "execution_count": null,
   "id": "88398417",
   "metadata": {},
   "outputs": [],
   "source": [
    "# unique_pdts_df.head(49)"
   ]
  },
  {
   "cell_type": "code",
   "execution_count": null,
   "id": "3c45a2ad",
   "metadata": {
    "scrolled": false
   },
   "outputs": [],
   "source": [
    "# new_dp_list['PRODUCT ID'].to_list()"
   ]
  },
  {
   "cell_type": "code",
   "execution_count": null,
   "id": "e41d443b",
   "metadata": {},
   "outputs": [],
   "source": []
  },
  {
   "cell_type": "code",
   "execution_count": null,
   "id": "a3709a0e",
   "metadata": {},
   "outputs": [],
   "source": [
    "new_dp_list.tail()"
   ]
  },
  {
   "cell_type": "code",
   "execution_count": null,
   "id": "86995fe3",
   "metadata": {},
   "outputs": [],
   "source": [
    "new_dp_list.tail()"
   ]
  },
  {
   "cell_type": "code",
   "execution_count": null,
   "id": "32051e14",
   "metadata": {},
   "outputs": [],
   "source": [
    "new_dp_list.info()"
   ]
  },
  {
   "cell_type": "code",
   "execution_count": null,
   "id": "4a67bd76",
   "metadata": {
    "scrolled": false
   },
   "outputs": [],
   "source": [
    "# new_dp_list['PRODUCT ID'].to_list()"
   ]
  },
  {
   "cell_type": "code",
   "execution_count": null,
   "id": "b5557a6b",
   "metadata": {},
   "outputs": [],
   "source": [
    "new_pdt_df = new_pdt_df.rename(columns={'ID': 'PRODUCT ID'})"
   ]
  },
  {
   "cell_type": "code",
   "execution_count": null,
   "id": "18611922",
   "metadata": {},
   "outputs": [],
   "source": [
    "new_pdt_df.head()"
   ]
  },
  {
   "cell_type": "code",
   "execution_count": null,
   "id": "f99625f7",
   "metadata": {},
   "outputs": [],
   "source": [
    "merged_pdt_dup = pd.merge(new_dp_list, new_pdt_df, on=['PRODUCT ID'], how='inner')"
   ]
  },
  {
   "cell_type": "code",
   "execution_count": null,
   "id": "afc090b6",
   "metadata": {},
   "outputs": [],
   "source": [
    "# merged_pdt_dup.head(51)"
   ]
  },
  {
   "cell_type": "code",
   "execution_count": null,
   "id": "fc8f5ec3",
   "metadata": {},
   "outputs": [],
   "source": [
    "merged_batch_dup = pd.merge(new_dp_list, new_batches_df, on=['PRODUCT ID'], how='inner')"
   ]
  },
  {
   "cell_type": "code",
   "execution_count": null,
   "id": "0fd10d1f",
   "metadata": {},
   "outputs": [],
   "source": [
    "merged_batch_dup.info()"
   ]
  },
  {
   "cell_type": "code",
   "execution_count": null,
   "id": "d0795cbd",
   "metadata": {},
   "outputs": [],
   "source": [
    "new_dp_list.shape"
   ]
  },
  {
   "cell_type": "code",
   "execution_count": null,
   "id": "384c8135",
   "metadata": {},
   "outputs": [],
   "source": [
    "# new_recipe_df"
   ]
  },
  {
   "cell_type": "code",
   "execution_count": null,
   "id": "fe194e21",
   "metadata": {},
   "outputs": [],
   "source": [
    "new_recipe_df = new_recipe_df.rename(columns={'product_id': 'PRODUCT ID'})"
   ]
  },
  {
   "cell_type": "code",
   "execution_count": null,
   "id": "fb70d27a",
   "metadata": {},
   "outputs": [],
   "source": [
    "new_recipe_df.head()"
   ]
  },
  {
   "cell_type": "code",
   "execution_count": null,
   "id": "e551b33f",
   "metadata": {},
   "outputs": [],
   "source": [
    "merged_recipe_dup = pd.merge(new_dp_list, new_recipe_df, on=['PRODUCT ID'], how='inner')"
   ]
  },
  {
   "cell_type": "code",
   "execution_count": null,
   "id": "5f2b6441",
   "metadata": {},
   "outputs": [],
   "source": [
    "merged_recipe_dup.info()"
   ]
  },
  {
   "cell_type": "code",
   "execution_count": null,
   "id": "2d5f3036",
   "metadata": {},
   "outputs": [],
   "source": [
    "# new_pdt_df\n",
    "# new_batches_df\n",
    "# new_recipe_df\n",
    "\n",
    "# merged_pdt_dup\n",
    "# merged_batch_dup\n",
    "# merged_recipe_dup"
   ]
  },
  {
   "cell_type": "code",
   "execution_count": null,
   "id": "4340d966",
   "metadata": {},
   "outputs": [],
   "source": [
    "unique_pdts_df.head()"
   ]
  },
  {
   "cell_type": "code",
   "execution_count": null,
   "id": "81c5e663",
   "metadata": {},
   "outputs": [],
   "source": [
    "merged_batch_dup.head()"
   ]
  },
  {
   "cell_type": "code",
   "execution_count": null,
   "id": "eb25e03a",
   "metadata": {},
   "outputs": [],
   "source": [
    "new_batch = merged_batch_dup.replace()"
   ]
  },
  {
   "cell_type": "code",
   "execution_count": null,
   "id": "38308c32",
   "metadata": {},
   "outputs": [],
   "source": [
    "# for prod in merged_batch_dup['Generic Name']:\n",
    "#     if np.where(merged_batch_dup['Generic Name'] == unique_pdts_df['GENERIC NAME'], True, False):\n",
    "#         print(prod)"
   ]
  },
  {
   "cell_type": "code",
   "execution_count": null,
   "id": "b68d9ee9",
   "metadata": {},
   "outputs": [],
   "source": [
    "merged_series = merged_batch_dup['Generic Name']\n",
    "unique_series = unique_pdts_df['GENERIC NAME']"
   ]
  },
  {
   "cell_type": "code",
   "execution_count": null,
   "id": "5ad12649",
   "metadata": {},
   "outputs": [],
   "source": [
    "merged_batch_dup.columns"
   ]
  },
  {
   "cell_type": "code",
   "execution_count": null,
   "id": "a5147cd3",
   "metadata": {},
   "outputs": [],
   "source": [
    "# merged_row = merged_batch_dup.loc[['Montelukast']]\n",
    "# merged_row"
   ]
  },
  {
   "cell_type": "code",
   "execution_count": null,
   "id": "15c3f4cb",
   "metadata": {},
   "outputs": [],
   "source": [
    "merged_batch_dup['Generic Name'].unique()"
   ]
  },
  {
   "cell_type": "code",
   "execution_count": null,
   "id": "1c426f16",
   "metadata": {},
   "outputs": [],
   "source": [
    "unique_pdts_df['GENERIC NAME'].unique()"
   ]
  },
  {
   "cell_type": "code",
   "execution_count": null,
   "id": "6cd2b627",
   "metadata": {},
   "outputs": [],
   "source": [
    "unique_pdts_df.columns"
   ]
  },
  {
   "cell_type": "code",
   "execution_count": null,
   "id": "f5357ed6",
   "metadata": {},
   "outputs": [],
   "source": [
    "pdt_df.head()"
   ]
  },
  {
   "cell_type": "code",
   "execution_count": null,
   "id": "3439ec08",
   "metadata": {},
   "outputs": [],
   "source": [
    "pdt_df['NEW ID'] = \"\""
   ]
  },
  {
   "cell_type": "code",
   "execution_count": null,
   "id": "6db6aa28",
   "metadata": {},
   "outputs": [],
   "source": [
    "for i in range(len(unique_pdts_df)):\n",
    "    for j in range(len(pdt_df)):\n",
    "#         if unique_pdts_df['GENERIC NAME'][i] == pdt_df['GENERIC NAME'][j]:\n",
    "#             pdt_df['NEW ID'][j] = unique_pdts_df['PRODUCT ID'][i]\n",
    "        if unique_pdts_df['GENERIC NAME'][i].lower() in pdt_df['GENERIC NAME'][j].lower():\n",
    "            pdt_df['NEW ID'][j] = unique_pdts_df['PRODUCT ID'][i]"
   ]
  },
  {
   "cell_type": "code",
   "execution_count": null,
   "id": "f280030f",
   "metadata": {},
   "outputs": [],
   "source": [
    "# unique_pdts_df[unique_pdts_df['GENERIC NAME'] == 'Montelukast']"
   ]
  },
  {
   "cell_type": "code",
   "execution_count": null,
   "id": "676aada1",
   "metadata": {},
   "outputs": [],
   "source": [
    "pdt_df.head()"
   ]
  },
  {
   "cell_type": "code",
   "execution_count": null,
   "id": "3929a50c",
   "metadata": {},
   "outputs": [],
   "source": [
    "for prod in merged_batch_dup['Generic Name']:\n",
    "    for p in unique_pdts_df['GENERIC NAME']:\n",
    "        if prod == p:\n",
    "#             print(merged_batch_dup['PRODUCT ID'])\n",
    "            undf = merged_batch_dup.replace('Montelukast', 'otherklast', inplace=True)"
   ]
  },
  {
   "cell_type": "code",
   "execution_count": null,
   "id": "ccd5caaa",
   "metadata": {},
   "outputs": [],
   "source": [
    "print(undf)"
   ]
  },
  {
   "cell_type": "code",
   "execution_count": null,
   "id": "f9a31d99",
   "metadata": {},
   "outputs": [],
   "source": [
    "undf.type()"
   ]
  },
  {
   "cell_type": "code",
   "execution_count": null,
   "id": "c1109215",
   "metadata": {},
   "outputs": [],
   "source": [
    "unique_pdts_df.head()"
   ]
  },
  {
   "cell_type": "code",
   "execution_count": null,
   "id": "a23c7b13",
   "metadata": {},
   "outputs": [],
   "source": [
    "pdt_df[pdt_df['NEW ID'] != \"\"]"
   ]
  },
  {
   "cell_type": "code",
   "execution_count": null,
   "id": "e5d68179",
   "metadata": {
    "scrolled": true
   },
   "outputs": [],
   "source": [
    "list(pdt_df['GENERIC NAME'].unique())"
   ]
  },
  {
   "cell_type": "code",
   "execution_count": null,
   "id": "3854ccf5",
   "metadata": {},
   "outputs": [],
   "source": [
    "unique_pdts_df['GENERIC NAME'].unique()"
   ]
  },
  {
   "cell_type": "code",
   "execution_count": null,
   "id": "508e243f",
   "metadata": {},
   "outputs": [],
   "source": [
    "'Montelukast'in(pdt_df['GENERIC NAME'])"
   ]
  },
  {
   "cell_type": "code",
   "execution_count": null,
   "id": "65f3ed46",
   "metadata": {},
   "outputs": [],
   "source": [
    "unfilled.reset_index(drop=True, inplace=True)"
   ]
  },
  {
   "cell_type": "code",
   "execution_count": null,
   "id": "d5fbf684",
   "metadata": {},
   "outputs": [],
   "source": [
    "for i in range(len(unique_pdts_df)):\n",
    "    for j in range(len(unfilled)):\n",
    "        str_a  = unique_pdts_df['GENERIC NAME'][i].lower()\n",
    "        str_b = unfilled['Generic Name'][j].lower()\n",
    "        ratio = fuzz.partial_ratio(str_b, str_a)            \n",
    "        if ratio >= 70:\n",
    "            unfilled['new_generic_name'][j] = unique_pdts_df['GENERIC NAME'][i]\n",
    "            unfilled['NEW ID'][j] = unique_pdts_df['PRODUCT ID'][i]"
   ]
  },
  {
   "cell_type": "code",
   "execution_count": null,
   "id": "02a175fe",
   "metadata": {
    "scrolled": false
   },
   "outputs": [],
   "source": [
    "unfilled"
   ]
  },
  {
   "cell_type": "code",
   "execution_count": null,
   "id": "82b692f8",
   "metadata": {},
   "outputs": [],
   "source": [
    "sorted_df = pd.concat([unfilled, filled], axis=0).sort_values('Generic Name')"
   ]
  },
  {
   "cell_type": "code",
   "execution_count": null,
   "id": "53f82e09",
   "metadata": {},
   "outputs": [],
   "source": [
    "sorted_df.reset_index(drop=True, inplace=True)"
   ]
  },
  {
   "cell_type": "code",
   "execution_count": null,
   "id": "91416353",
   "metadata": {},
   "outputs": [],
   "source": [
    "sorted_df"
   ]
  },
  {
   "cell_type": "code",
   "execution_count": null,
   "id": "91bd675d",
   "metadata": {},
   "outputs": [],
   "source": [
    "filled = new_dp_list[new_dp_list['NEW ID'] != '']\n",
    "filled"
   ]
  },
  {
   "cell_type": "code",
   "execution_count": null,
   "id": "9196b6fe",
   "metadata": {},
   "outputs": [],
   "source": [
    "unfilled = new_dp_list[new_dp_list['NEW ID'] == '']\n",
    "unfilled"
   ]
  },
  {
   "cell_type": "code",
   "execution_count": null,
   "id": "7a9f7d4c",
   "metadata": {},
   "outputs": [],
   "source": []
  },
  {
   "cell_type": "code",
   "execution_count": null,
   "id": "0605d861",
   "metadata": {},
   "outputs": [],
   "source": [
    "new_dp_list.head(20)"
   ]
  },
  {
   "cell_type": "code",
   "execution_count": null,
   "id": "99d45296",
   "metadata": {},
   "outputs": [],
   "source": [
    "new_dp_list.columns"
   ]
  },
  {
   "cell_type": "code",
   "execution_count": null,
   "id": "4654a12e",
   "metadata": {},
   "outputs": [],
   "source": []
  },
  {
   "cell_type": "code",
   "execution_count": null,
   "id": "1eaee953",
   "metadata": {},
   "outputs": [],
   "source": [
    "new_dp_list[new_dp_list['Generic Name'] == 'Diclofenac 12.5mg Suppositories']"
   ]
  },
  {
   "cell_type": "code",
   "execution_count": null,
   "id": "b21920bf",
   "metadata": {},
   "outputs": [],
   "source": [
    "unique_pdts_df[unique_pdts_df['GENERIC NAME'] == 'Diclofenac']"
   ]
  },
  {
   "cell_type": "code",
   "execution_count": null,
   "id": "56f0e0cb",
   "metadata": {},
   "outputs": [],
   "source": [
    "new_dp_list.head(10)"
   ]
  },
  {
   "cell_type": "code",
   "execution_count": null,
   "id": "c379e153",
   "metadata": {},
   "outputs": [],
   "source": [
    "print(new_dp_list['Generic Name'])"
   ]
  },
  {
   "cell_type": "code",
   "execution_count": null,
   "id": "1494d9d6",
   "metadata": {},
   "outputs": [],
   "source": [
    "new_dp_list.info()"
   ]
  },
  {
   "cell_type": "code",
   "execution_count": null,
   "id": "3292f21b",
   "metadata": {},
   "outputs": [],
   "source": [
    "unique_pdts_df[unique_pdts_df['GENERIC NAME'].str.contains('Loratadine')]"
   ]
  },
  {
   "cell_type": "code",
   "execution_count": null,
   "id": "a779929a",
   "metadata": {},
   "outputs": [],
   "source": [
    "pattern = \"+./'\""
   ]
  },
  {
   "cell_type": "code",
   "execution_count": null,
   "id": "dd760aac",
   "metadata": {},
   "outputs": [],
   "source": [
    "unique_pdts_df.loc['Diclofenac 12.5mg Suppositories', 'GENERIC NAME']"
   ]
  },
  {
   "cell_type": "code",
   "execution_count": null,
   "id": "7ed73fbe",
   "metadata": {},
   "outputs": [],
   "source": [
    "#         if unique_pdts_df['GENERIC NAME'][i] == pdt_df['GENERIC NAME'][j]:\n",
    "#             pdt_df['NEW ID'][j] = unique_pdts_df['PRODUCT ID'][i]\n",
    "#         elif new_dp_list['Generic Name'][j].lower().contains(pat=\"+./'\", regex=True) in new_dp_list['Generic Name'][j].lower():\n",
    "#             new_dp_list['NEW ID'][j] = unique_pdts_df['PRODUCT ID'][i]"
   ]
  }
 ],
 "metadata": {
  "kernelspec": {
   "display_name": "Python 3",
   "language": "python",
   "name": "python3"
  },
  "language_info": {
   "codemirror_mode": {
    "name": "ipython",
    "version": 3
   },
   "file_extension": ".py",
   "mimetype": "text/x-python",
   "name": "python",
   "nbconvert_exporter": "python",
   "pygments_lexer": "ipython3",
   "version": "3.8.8"
  }
 },
 "nbformat": 4,
 "nbformat_minor": 5
}
