{
 "cells": [
  {
   "cell_type": "code",
   "execution_count": 1,
   "id": "e5817582",
   "metadata": {},
   "outputs": [
    {
     "name": "stderr",
     "output_type": "stream",
     "text": [
      "C:\\ProgramData\\Anaconda3\\lib\\site-packages\\fuzzywuzzy\\fuzz.py:11: UserWarning: Using slow pure-python SequenceMatcher. Install python-Levenshtein to remove this warning\n",
      "  warnings.warn('Using slow pure-python SequenceMatcher. Install python-Levenshtein to remove this warning')\n"
     ]
    }
   ],
   "source": [
    "import pandas as pd\n",
    "import numpy as np\n",
    "from fuzzywuzzy import fuzz"
   ]
  },
  {
   "cell_type": "code",
   "execution_count": null,
   "id": "76507cbd",
   "metadata": {},
   "outputs": [],
   "source": [
    "# products_sheet_id = \"1FB2bbvWE2nsf49KO_DkWzbL2hm9r4G8j\"\n",
    "# products_list = \"Tablib%20Dataset\"\n",
    "# url = f\"https://docs.google.com/spreadsheets/d/{products_sheet_id}/gviz/tq?tqx=out:csv&sheet={products_list}\""
   ]
  },
  {
   "cell_type": "code",
   "execution_count": 2,
   "id": "aaabb184",
   "metadata": {},
   "outputs": [],
   "source": [
    "# convert csv datasets into dataframes\n",
    "\n",
    "pdt_df = pd.read_csv('full_products_list.csv')\n",
    "batches_df = pd.read_csv('batches_list.csv')\n",
    "recipe_df = pd.read_csv('recipe_list.csv')"
   ]
  },
  {
   "cell_type": "code",
   "execution_count": 3,
   "id": "9507e956",
   "metadata": {
    "scrolled": false
   },
   "outputs": [],
   "source": [
    "# import excel file from an absolute path with pandas\n",
    "\n",
    "xls = pd.ExcelFile(r'C:\\Users\\NDA\\Desktop\\EVE\\TMCG\\documents\\duplicate_products.xlsx')"
   ]
  },
  {
   "cell_type": "code",
   "execution_count": 4,
   "id": "45fbb8d7",
   "metadata": {},
   "outputs": [],
   "source": [
    "# convert xls datasets on sheet names into dataframes\n",
    "\n",
    "dp_list = pd.read_excel(xls, 'copy_final_list_duplicates')\n",
    "unique_pdts_df = pd.read_excel(xls, 'unique final list')"
   ]
  },
  {
   "cell_type": "code",
   "execution_count": 5,
   "id": "fb3884c1",
   "metadata": {},
   "outputs": [],
   "source": [
    "# drop unwanted columns from the duplicates list dataframe\n",
    "\n",
    "new_dp_list = dp_list.drop(['Unnamed: 1', 'Unnamed: 2', 'Unnamed: 3', 'Unnamed: 4', 'Unnamed: 5', 'Unnamed: 8',\n",
    "                           'Unnamed: 9', 'Unnamed: 10', 'Unnamed: 11', 'Unnamed: 12', 'Unnamed: 13', 'Unnamed: 14',\n",
    "                           'Unnamed: 15', 'Unnamed: 16', 'Unnamed: 17', 'Unnamed: 18', 'Unnamed: 19', 'Unnamed: 20',\n",
    "                           'Unnamed: 21', 'Unnamed: 22', 'Unnamed: 23'], axis=1)"
   ]
  },
  {
   "cell_type": "code",
   "execution_count": 6,
   "id": "27149502",
   "metadata": {},
   "outputs": [],
   "source": [
    "# cleanup data by renaming pandas series with more meaningfull names\n",
    "\n",
    "new_dp_list = new_dp_list.rename(columns={'Eva': 'PRODUCT ID', 'Unnamed: 6': 'GENERIC NAME', 'Unnamed: 7': 'BRAND NAME'})"
   ]
  },
  {
   "cell_type": "code",
   "execution_count": 7,
   "id": "c6ab8e20",
   "metadata": {},
   "outputs": [],
   "source": [
    "# drop null values based on rows\n",
    "\n",
    "new_dp_list = new_dp_list.dropna(axis='rows')"
   ]
  },
  {
   "cell_type": "code",
   "execution_count": null,
   "id": "bf738eb5",
   "metadata": {},
   "outputs": [],
   "source": [
    "# unique_pdts_df"
   ]
  },
  {
   "cell_type": "code",
   "execution_count": null,
   "id": "9ab2e92d",
   "metadata": {},
   "outputs": [],
   "source": [
    "# check to see if dataset is now clean \n",
    "\n",
    "new_dp_list.tail()"
   ]
  },
  {
   "cell_type": "code",
   "execution_count": 8,
   "id": "7c21681f",
   "metadata": {},
   "outputs": [],
   "source": [
    "# remove the inverse labels\n",
    "\n",
    "new_dp_list = new_dp_list.drop([new_dp_list.index[-1]])"
   ]
  },
  {
   "cell_type": "code",
   "execution_count": null,
   "id": "b9e7ff43",
   "metadata": {},
   "outputs": [],
   "source": [
    "# check to see whether id has numerical values\n",
    "# re-check after running next cell\n",
    "\n",
    "new_dp_list.info()"
   ]
  },
  {
   "cell_type": "code",
   "execution_count": 9,
   "id": "791c66cb",
   "metadata": {},
   "outputs": [],
   "source": [
    "# convert product id into numeric \n",
    "\n",
    "new_dp_list['PRODUCT ID'] = pd.to_numeric(new_dp_list['PRODUCT ID'], errors='ignore')"
   ]
  },
  {
   "cell_type": "code",
   "execution_count": null,
   "id": "0576265a",
   "metadata": {},
   "outputs": [],
   "source": [
    "new_row = unique_pdts_df.iloc[14]\n",
    "new_row"
   ]
  },
  {
   "cell_type": "code",
   "execution_count": null,
   "id": "cc93adb3",
   "metadata": {},
   "outputs": [],
   "source": [
    "new_dp_list = new_dp_list.append(new_row, ignore_index=True)"
   ]
  },
  {
   "cell_type": "code",
   "execution_count": null,
   "id": "3bb381c7",
   "metadata": {},
   "outputs": [],
   "source": [
    "new_dp_list.head()"
   ]
  },
  {
   "cell_type": "code",
   "execution_count": null,
   "id": "8dafd8fe",
   "metadata": {},
   "outputs": [],
   "source": [
    "new_dp_list"
   ]
  },
  {
   "cell_type": "code",
   "execution_count": null,
   "id": "32411cde",
   "metadata": {},
   "outputs": [],
   "source": [
    "# check unique products dataframe\n",
    "\n",
    "unique_pdts_df.columns"
   ]
  },
  {
   "cell_type": "code",
   "execution_count": 10,
   "id": "743e6fb5",
   "metadata": {},
   "outputs": [],
   "source": [
    "# drop unnecessary columns from unique lists\n",
    "\n",
    "unique_pdts_df = unique_pdts_df.drop(['COUNTRY OF ORIGIN', 'FORMULATION', 'RETAIL PRICE PER SMALLEST UNIT', \n",
    "                                      'RETAIL PRICE PER SMALLEST UNIT.1', 'PACK SIZE', 'STRENGTH', 'eshop_id', \n",
    "                                      'Unnamed: 10', 'Unnamed: 11', 'Unnamed: 12', 'Unnamed: 13', 'Unnamed: 14', \n",
    "                                      'Unnamed: 15', 'Unnamed: 16', 'Unnamed: 17', 'Unnamed: 18', 'Unnamed: 19', \n",
    "                                      'Unnamed: 20', 'Unnamed: 21', 'Unnamed: 22', 'Unnamed: 23', 'Unnamed: 24', \n",
    "                                      'Unnamed: 25'], axis=1)"
   ]
  },
  {
   "cell_type": "code",
   "execution_count": 11,
   "id": "a90ecca8",
   "metadata": {},
   "outputs": [],
   "source": [
    "# change column name into product id for easy manipulation\n",
    "\n",
    "unique_pdts_df = unique_pdts_df.rename(columns={'ID': 'PRODUCT ID'})"
   ]
  },
  {
   "cell_type": "code",
   "execution_count": null,
   "id": "0efd005b",
   "metadata": {},
   "outputs": [],
   "source": [
    "# unique_pdts_df = unique_pdts_df.drop(labels=14, axis=0)"
   ]
  },
  {
   "cell_type": "code",
   "execution_count": null,
   "id": "c4f26d75",
   "metadata": {},
   "outputs": [],
   "source": [
    "# unique_pdts_df.reset_index(drop=True, inplace=True)"
   ]
  },
  {
   "cell_type": "code",
   "execution_count": null,
   "id": "64015481",
   "metadata": {},
   "outputs": [],
   "source": [
    "unique_pdts_df"
   ]
  },
  {
   "cell_type": "code",
   "execution_count": 12,
   "id": "56131008",
   "metadata": {},
   "outputs": [],
   "source": [
    "# give proper indices to the dataset\n",
    "\n",
    "new_dp_list.reset_index(drop=True, inplace=True)"
   ]
  },
  {
   "cell_type": "code",
   "execution_count": 13,
   "id": "c44a9eb6",
   "metadata": {
    "scrolled": false
   },
   "outputs": [
    {
     "name": "stderr",
     "output_type": "stream",
     "text": [
      "<ipython-input-13-459ad8c5262c>:17: SettingWithCopyWarning: \n",
      "A value is trying to be set on a copy of a slice from a DataFrame\n",
      "\n",
      "See the caveats in the documentation: https://pandas.pydata.org/pandas-docs/stable/user_guide/indexing.html#returning-a-view-versus-a-copy\n",
      "  new_dp_list['NEW ID'][j] = unique_pdts_df['PRODUCT ID'][i]\n",
      "<ipython-input-13-459ad8c5262c>:18: SettingWithCopyWarning: \n",
      "A value is trying to be set on a copy of a slice from a DataFrame\n",
      "\n",
      "See the caveats in the documentation: https://pandas.pydata.org/pandas-docs/stable/user_guide/indexing.html#returning-a-view-versus-a-copy\n",
      "  new_dp_list['new_generic_name'][j] = unique_pdts_df['GENERIC NAME'][i]\n"
     ]
    }
   ],
   "source": [
    "# create a new column on which we will compare our product ids\n",
    "new_dp_list['NEW ID'] = ''\n",
    "\n",
    "# create a new column on which we will compare our generic names\n",
    "new_dp_list['new_generic_name'] = ''\n",
    "\n",
    "# loop through the unique products dataframe using its index\n",
    "for i in range(len(unique_pdts_df)):\n",
    "    \n",
    "   # loop through the list of duplicates using its index\n",
    "    for j in range(len(new_dp_list)):\n",
    "        \n",
    "       # compare the two pandas series on generic names. Coerce them to lowercase for proper comparison\n",
    "        if unique_pdts_df['GENERIC NAME'][i].lower() in new_dp_list['GENERIC NAME'][j].lower():\n",
    "            \n",
    "            # assign the new ids to the resulting product from unique products loop and do the same for generic name\n",
    "            new_dp_list['NEW ID'][j] = unique_pdts_df['PRODUCT ID'][i]\n",
    "            new_dp_list['new_generic_name'][j] = unique_pdts_df['GENERIC NAME'][i]        "
   ]
  },
  {
   "cell_type": "code",
   "execution_count": 14,
   "id": "2373fe61",
   "metadata": {},
   "outputs": [],
   "source": [
    "# subset the rows that were filled\n",
    "filled = new_dp_list[new_dp_list['NEW ID'] != '']\n",
    "\n",
    "# filled"
   ]
  },
  {
   "cell_type": "code",
   "execution_count": 15,
   "id": "31f6f39a",
   "metadata": {},
   "outputs": [],
   "source": [
    "# subset the unfilled rows\n",
    "unfilled = new_dp_list[new_dp_list['NEW ID'] == '']\n",
    "\n",
    "# unfilled"
   ]
  },
  {
   "cell_type": "code",
   "execution_count": 16,
   "id": "d1515dbe",
   "metadata": {},
   "outputs": [],
   "source": [
    "# re-index the dataframe because dropping out rows has messed up with its indexing\n",
    "\n",
    "unfilled.reset_index(drop=True, inplace=True)"
   ]
  },
  {
   "cell_type": "code",
   "execution_count": 17,
   "id": "93f10545",
   "metadata": {},
   "outputs": [
    {
     "data": {
      "text/html": [
       "<div>\n",
       "<style scoped>\n",
       "    .dataframe tbody tr th:only-of-type {\n",
       "        vertical-align: middle;\n",
       "    }\n",
       "\n",
       "    .dataframe tbody tr th {\n",
       "        vertical-align: top;\n",
       "    }\n",
       "\n",
       "    .dataframe thead th {\n",
       "        text-align: right;\n",
       "    }\n",
       "</style>\n",
       "<table border=\"1\" class=\"dataframe\">\n",
       "  <thead>\n",
       "    <tr style=\"text-align: right;\">\n",
       "      <th></th>\n",
       "      <th>PRODUCT ID</th>\n",
       "      <th>GENERIC NAME</th>\n",
       "      <th>BRAND NAME</th>\n",
       "    </tr>\n",
       "  </thead>\n",
       "  <tbody>\n",
       "    <tr>\n",
       "      <th>0</th>\n",
       "      <td>5302</td>\n",
       "      <td>Glyceryl trinitrate</td>\n",
       "      <td>accord 500mcg</td>\n",
       "    </tr>\n",
       "    <tr>\n",
       "      <th>1</th>\n",
       "      <td>3949</td>\n",
       "      <td>Betadine Antiseptic Solution</td>\n",
       "      <td>Betadine Antiseptic Solution</td>\n",
       "    </tr>\n",
       "    <tr>\n",
       "      <th>2</th>\n",
       "      <td>715</td>\n",
       "      <td>Montelukast</td>\n",
       "      <td>DENK AIR 10MG</td>\n",
       "    </tr>\n",
       "    <tr>\n",
       "      <th>3</th>\n",
       "      <td>4328</td>\n",
       "      <td>Diclofenac SR Tabs</td>\n",
       "      <td>Diclomol</td>\n",
       "    </tr>\n",
       "    <tr>\n",
       "      <th>4</th>\n",
       "      <td>830</td>\n",
       "      <td>Doxazosin</td>\n",
       "      <td>DOXAZOSIN 4MG UK</td>\n",
       "    </tr>\n",
       "    <tr>\n",
       "      <th>5</th>\n",
       "      <td>4392</td>\n",
       "      <td>Duo Cortexin Adult</td>\n",
       "      <td>Duo Cortexin Adult</td>\n",
       "    </tr>\n",
       "    <tr>\n",
       "      <th>6</th>\n",
       "      <td>295</td>\n",
       "      <td>Dihdroartemisinine,Piperaquine</td>\n",
       "      <td>DUO-COTECXIN 40/320</td>\n",
       "    </tr>\n",
       "    <tr>\n",
       "      <th>7</th>\n",
       "      <td>4337</td>\n",
       "      <td>Diclofenac Injection</td>\n",
       "      <td>Dynapar AQ</td>\n",
       "    </tr>\n",
       "    <tr>\n",
       "      <th>8</th>\n",
       "      <td>5569</td>\n",
       "      <td>Dynapar Injection</td>\n",
       "      <td>DYNAPAR INJECTION</td>\n",
       "    </tr>\n",
       "    <tr>\n",
       "      <th>9</th>\n",
       "      <td>4403</td>\n",
       "      <td>E nat caps</td>\n",
       "      <td>E nat caps</td>\n",
       "    </tr>\n",
       "    <tr>\n",
       "      <th>10</th>\n",
       "      <td>212</td>\n",
       "      <td>Mometasone</td>\n",
       "      <td>ELOCOM  CREAM</td>\n",
       "    </tr>\n",
       "    <tr>\n",
       "      <th>11</th>\n",
       "      <td>5043</td>\n",
       "      <td>Vitamin E</td>\n",
       "      <td>ENAT 400mg</td>\n",
       "    </tr>\n",
       "    <tr>\n",
       "      <th>12</th>\n",
       "      <td>4256</td>\n",
       "      <td>Crotamiton Cream</td>\n",
       "      <td>Eurax</td>\n",
       "    </tr>\n",
       "    <tr>\n",
       "      <th>13</th>\n",
       "      <td>4745</td>\n",
       "      <td>Levothyroxine Tabs</td>\n",
       "      <td>Euthyrox</td>\n",
       "    </tr>\n",
       "    <tr>\n",
       "      <th>14</th>\n",
       "      <td>3816</td>\n",
       "      <td>Amlodipine besilate,Valsartan</td>\n",
       "      <td>EXFORGE 10/160MG (TURKEY)</td>\n",
       "    </tr>\n",
       "    <tr>\n",
       "      <th>15</th>\n",
       "      <td>5303</td>\n",
       "      <td>Amlodipine/ Valsartan</td>\n",
       "      <td>Exforge 10mg/160mg</td>\n",
       "    </tr>\n",
       "    <tr>\n",
       "      <th>16</th>\n",
       "      <td>5044</td>\n",
       "      <td>Face sheild</td>\n",
       "      <td>FACE SHEILD</td>\n",
       "    </tr>\n",
       "    <tr>\n",
       "      <th>17</th>\n",
       "      <td>4686</td>\n",
       "      <td>Ketoprofen Gel</td>\n",
       "      <td>Fastum</td>\n",
       "    </tr>\n",
       "    <tr>\n",
       "      <th>18</th>\n",
       "      <td>5353</td>\n",
       "      <td>Levonorgestrel</td>\n",
       "      <td>i-pill</td>\n",
       "    </tr>\n",
       "    <tr>\n",
       "      <th>19</th>\n",
       "      <td>5145</td>\n",
       "      <td>Herbal Cough Mixture</td>\n",
       "      <td>KABUUTI SYRUP Herbal Cough Mixture 100 ml Bottle</td>\n",
       "    </tr>\n",
       "    <tr>\n",
       "      <th>20</th>\n",
       "      <td>569</td>\n",
       "      <td>Lamotrigine</td>\n",
       "      <td>LAMOTRIGINE 100MG UK</td>\n",
       "    </tr>\n",
       "    <tr>\n",
       "      <th>21</th>\n",
       "      <td>166</td>\n",
       "      <td>Metronidazole</td>\n",
       "      <td>METROGYL 200MG TABS</td>\n",
       "    </tr>\n",
       "    <tr>\n",
       "      <th>22</th>\n",
       "      <td>5533</td>\n",
       "      <td>Desmopressin</td>\n",
       "      <td>Minirin 120mcg</td>\n",
       "    </tr>\n",
       "    <tr>\n",
       "      <th>23</th>\n",
       "      <td>4786</td>\n",
       "      <td>Loratadine</td>\n",
       "      <td>MOSEDIN 5MG/5ML 60ML</td>\n",
       "    </tr>\n",
       "    <tr>\n",
       "      <th>24</th>\n",
       "      <td>5134</td>\n",
       "      <td>Fluoxetine</td>\n",
       "      <td>NUZAC 20</td>\n",
       "    </tr>\n",
       "    <tr>\n",
       "      <th>25</th>\n",
       "      <td>4855</td>\n",
       "      <td>Metformin</td>\n",
       "      <td>PANFOR 500MG SR</td>\n",
       "    </tr>\n",
       "    <tr>\n",
       "      <th>26</th>\n",
       "      <td>638</td>\n",
       "      <td>Azithromycin</td>\n",
       "      <td>ZAHA SUSPENSION 15ml</td>\n",
       "    </tr>\n",
       "    <tr>\n",
       "      <th>27</th>\n",
       "      <td>126</td>\n",
       "      <td>Desloratidine 5mg</td>\n",
       "      <td>AERIUS</td>\n",
       "    </tr>\n",
       "    <tr>\n",
       "      <th>28</th>\n",
       "      <td>5208</td>\n",
       "      <td>Atorvastatin 20mg tabs</td>\n",
       "      <td>ATORFIT-20</td>\n",
       "    </tr>\n",
       "    <tr>\n",
       "      <th>29</th>\n",
       "      <td>3925</td>\n",
       "      <td>Beechams Max strength ALL IN ONE Caps</td>\n",
       "      <td>Beechams Max strength ALL IN ONE Caps</td>\n",
       "    </tr>\n",
       "    <tr>\n",
       "      <th>30</th>\n",
       "      <td>3352</td>\n",
       "      <td>Betadine Mouthwash Gargle</td>\n",
       "      <td>Betadine Mouthwash Gargle</td>\n",
       "    </tr>\n",
       "    <tr>\n",
       "      <th>31</th>\n",
       "      <td>4594</td>\n",
       "      <td>Hyoscine Butylbromide Syp</td>\n",
       "      <td>Bispanol</td>\n",
       "    </tr>\n",
       "    <tr>\n",
       "      <th>32</th>\n",
       "      <td>4944</td>\n",
       "      <td>Montelukast+Levocetrizine Tabs</td>\n",
       "      <td>Brezethy-L</td>\n",
       "    </tr>\n",
       "    <tr>\n",
       "      <th>33</th>\n",
       "      <td>696</td>\n",
       "      <td>Clopidogrel</td>\n",
       "      <td>CLOPIDOGREL 75MG  UK</td>\n",
       "    </tr>\n",
       "    <tr>\n",
       "      <th>34</th>\n",
       "      <td>4056</td>\n",
       "      <td>Caustic Pencil</td>\n",
       "      <td>Caustic Pencil</td>\n",
       "    </tr>\n",
       "    <tr>\n",
       "      <th>35</th>\n",
       "      <td>3532</td>\n",
       "      <td>Ciprofloxacin Tabs</td>\n",
       "      <td>Ciprodenk</td>\n",
       "    </tr>\n",
       "    <tr>\n",
       "      <th>36</th>\n",
       "      <td>4334</td>\n",
       "      <td>Diclofenac Supp</td>\n",
       "      <td>Diclogesic 12.5mg</td>\n",
       "    </tr>\n",
       "    <tr>\n",
       "      <th>37</th>\n",
       "      <td>902</td>\n",
       "      <td>Face Mask</td>\n",
       "      <td>Disposable Surgical Face Mask 50's</td>\n",
       "    </tr>\n",
       "    <tr>\n",
       "      <th>38</th>\n",
       "      <td>4029</td>\n",
       "      <td>Captopril Tabs</td>\n",
       "      <td>Epsitron, Cyprus</td>\n",
       "    </tr>\n",
       "    <tr>\n",
       "      <th>39</th>\n",
       "      <td>5347</td>\n",
       "      <td>FLUCONAZOLE</td>\n",
       "      <td>FLUCAZ 100MG</td>\n",
       "    </tr>\n",
       "    <tr>\n",
       "      <th>40</th>\n",
       "      <td>4945</td>\n",
       "      <td>Montelukast+Levocetrizine Tabs</td>\n",
       "      <td>L-Montus</td>\n",
       "    </tr>\n",
       "    <tr>\n",
       "      <th>41</th>\n",
       "      <td>647</td>\n",
       "      <td>Losartan</td>\n",
       "      <td>Losartan potassium 100mg</td>\n",
       "    </tr>\n",
       "    <tr>\n",
       "      <th>42</th>\n",
       "      <td>346</td>\n",
       "      <td>Miconazole, Clobestol, Gentamycin</td>\n",
       "      <td>MCG CREAM 15G</td>\n",
       "    </tr>\n",
       "    <tr>\n",
       "      <th>43</th>\n",
       "      <td>4867</td>\n",
       "      <td>Methotrexate Tabs</td>\n",
       "      <td>Methotrexate 2.5 mg Tablets</td>\n",
       "    </tr>\n",
       "    <tr>\n",
       "      <th>44</th>\n",
       "      <td>5337</td>\n",
       "      <td>N'rgy plus 30's</td>\n",
       "      <td>N'RGY PLUS CAPS</td>\n",
       "    </tr>\n",
       "    <tr>\n",
       "      <th>45</th>\n",
       "      <td>2614</td>\n",
       "      <td>Amlodipine Tabs</td>\n",
       "      <td>Norvasc 5</td>\n",
       "    </tr>\n",
       "    <tr>\n",
       "      <th>46</th>\n",
       "      <td>173</td>\n",
       "      <td>Lidocaine</td>\n",
       "      <td>ORACURE GEL</td>\n",
       "    </tr>\n",
       "    <tr>\n",
       "      <th>47</th>\n",
       "      <td>5152</td>\n",
       "      <td>Promethazine</td>\n",
       "      <td>PROMETHAZINE INJ 50mg/2 ml 10 InJection</td>\n",
       "    </tr>\n",
       "    <tr>\n",
       "      <th>48</th>\n",
       "      <td>4442</td>\n",
       "      <td>Felodipine SR Tabs</td>\n",
       "      <td>Vascalpha</td>\n",
       "    </tr>\n",
       "  </tbody>\n",
       "</table>\n",
       "</div>"
      ],
      "text/plain": [
       "    PRODUCT ID                           GENERIC NAME  \\\n",
       "0         5302                    Glyceryl trinitrate   \n",
       "1         3949           Betadine Antiseptic Solution   \n",
       "2          715                            Montelukast   \n",
       "3         4328                     Diclofenac SR Tabs   \n",
       "4          830                              Doxazosin   \n",
       "5         4392                     Duo Cortexin Adult   \n",
       "6          295         Dihdroartemisinine,Piperaquine   \n",
       "7         4337                   Diclofenac Injection   \n",
       "8         5569                      Dynapar Injection   \n",
       "9         4403                             E nat caps   \n",
       "10         212                             Mometasone   \n",
       "11        5043                              Vitamin E   \n",
       "12        4256                       Crotamiton Cream   \n",
       "13        4745                     Levothyroxine Tabs   \n",
       "14        3816          Amlodipine besilate,Valsartan   \n",
       "15        5303                  Amlodipine/ Valsartan   \n",
       "16        5044                            Face sheild   \n",
       "17        4686                         Ketoprofen Gel   \n",
       "18        5353                         Levonorgestrel   \n",
       "19        5145                   Herbal Cough Mixture   \n",
       "20         569                            Lamotrigine   \n",
       "21         166                          Metronidazole   \n",
       "22        5533                           Desmopressin   \n",
       "23        4786                             Loratadine   \n",
       "24        5134                             Fluoxetine   \n",
       "25        4855                              Metformin   \n",
       "26         638                           Azithromycin   \n",
       "27         126                      Desloratidine 5mg   \n",
       "28        5208                 Atorvastatin 20mg tabs   \n",
       "29        3925  Beechams Max strength ALL IN ONE Caps   \n",
       "30        3352              Betadine Mouthwash Gargle   \n",
       "31        4594              Hyoscine Butylbromide Syp   \n",
       "32        4944         Montelukast+Levocetrizine Tabs   \n",
       "33         696                            Clopidogrel   \n",
       "34        4056                         Caustic Pencil   \n",
       "35        3532                     Ciprofloxacin Tabs   \n",
       "36        4334                        Diclofenac Supp   \n",
       "37         902                              Face Mask   \n",
       "38        4029                         Captopril Tabs   \n",
       "39        5347                            FLUCONAZOLE   \n",
       "40        4945         Montelukast+Levocetrizine Tabs   \n",
       "41         647                               Losartan   \n",
       "42         346      Miconazole, Clobestol, Gentamycin   \n",
       "43        4867                      Methotrexate Tabs   \n",
       "44        5337                        N'rgy plus 30's   \n",
       "45        2614                        Amlodipine Tabs   \n",
       "46         173                              Lidocaine   \n",
       "47        5152                           Promethazine   \n",
       "48        4442                     Felodipine SR Tabs   \n",
       "\n",
       "                                          BRAND NAME  \n",
       "0                                      accord 500mcg  \n",
       "1                       Betadine Antiseptic Solution  \n",
       "2                                      DENK AIR 10MG  \n",
       "3                                           Diclomol  \n",
       "4                                   DOXAZOSIN 4MG UK  \n",
       "5                                 Duo Cortexin Adult  \n",
       "6                                DUO-COTECXIN 40/320  \n",
       "7                                         Dynapar AQ  \n",
       "8                                  DYNAPAR INJECTION  \n",
       "9                                         E nat caps  \n",
       "10                                     ELOCOM  CREAM  \n",
       "11                                        ENAT 400mg  \n",
       "12                                             Eurax  \n",
       "13                                          Euthyrox  \n",
       "14                         EXFORGE 10/160MG (TURKEY)  \n",
       "15                                Exforge 10mg/160mg  \n",
       "16                                       FACE SHEILD  \n",
       "17                                            Fastum  \n",
       "18                                            i-pill  \n",
       "19  KABUUTI SYRUP Herbal Cough Mixture 100 ml Bottle  \n",
       "20                              LAMOTRIGINE 100MG UK  \n",
       "21                               METROGYL 200MG TABS  \n",
       "22                                    Minirin 120mcg  \n",
       "23                              MOSEDIN 5MG/5ML 60ML  \n",
       "24                                          NUZAC 20  \n",
       "25                                   PANFOR 500MG SR  \n",
       "26                              ZAHA SUSPENSION 15ml  \n",
       "27                                            AERIUS  \n",
       "28                                        ATORFIT-20  \n",
       "29             Beechams Max strength ALL IN ONE Caps  \n",
       "30                         Betadine Mouthwash Gargle  \n",
       "31                                          Bispanol  \n",
       "32                                        Brezethy-L  \n",
       "33                              CLOPIDOGREL 75MG  UK  \n",
       "34                                    Caustic Pencil  \n",
       "35                                         Ciprodenk  \n",
       "36                                 Diclogesic 12.5mg  \n",
       "37                Disposable Surgical Face Mask 50's  \n",
       "38                                  Epsitron, Cyprus  \n",
       "39                                      FLUCAZ 100MG  \n",
       "40                                          L-Montus  \n",
       "41                          Losartan potassium 100mg  \n",
       "42                                     MCG CREAM 15G  \n",
       "43                       Methotrexate 2.5 mg Tablets  \n",
       "44                                   N'RGY PLUS CAPS  \n",
       "45                                         Norvasc 5  \n",
       "46                                       ORACURE GEL  \n",
       "47           PROMETHAZINE INJ 50mg/2 ml 10 InJection  \n",
       "48                                         Vascalpha  "
      ]
     },
     "execution_count": 17,
     "metadata": {},
     "output_type": "execute_result"
    }
   ],
   "source": [
    "unique_pdts_df"
   ]
  },
  {
   "cell_type": "code",
   "execution_count": null,
   "id": "ae9f6b6d",
   "metadata": {},
   "outputs": [],
   "source": [
    "new_dp_list"
   ]
  },
  {
   "cell_type": "code",
   "execution_count": null,
   "id": "0b62ec75",
   "metadata": {},
   "outputs": [],
   "source": [
    "new_dp_list.head()"
   ]
  },
  {
   "cell_type": "code",
   "execution_count": 25,
   "id": "cdcadfee",
   "metadata": {},
   "outputs": [
    {
     "data": {
      "text/plain": [
       "{3951: [3352],\n",
       " 387: [715],\n",
       " 4933: [715],\n",
       " 4942: [715],\n",
       " 3146: [],\n",
       " 5312: [830],\n",
       " 5416: [],\n",
       " 3819: [],\n",
       " 5304: [5303],\n",
       " 5239: [],\n",
       " 4685: [4686],\n",
       " 4672: [],\n",
       " 5444: [569],\n",
       " 4896: [166],\n",
       " 4888: [166],\n",
       " 209: [166],\n",
       " 5033: [5533],\n",
       " 530: [],\n",
       " 418: [],\n",
       " 261: [],\n",
       " 4477: [5134],\n",
       " 4865: [4855],\n",
       " 3915: [638],\n",
       " 3904: [638],\n",
       " 3304: [638],\n",
       " 253: [],\n",
       " 5234: [],\n",
       " 3325: [3925],\n",
       " 2725: [3925],\n",
       " 3952: [3352, 4594],\n",
       " 4595: [715],\n",
       " 719: [696],\n",
       " 4057: [4056],\n",
       " 4132: [3532],\n",
       " 5391: [],\n",
       " 5390: [],\n",
       " 5389: [],\n",
       " 5031: [902],\n",
       " 394: [902],\n",
       " 902: [902],\n",
       " 4031: [4029],\n",
       " 5378: [5347],\n",
       " 4729: [715],\n",
       " 5370: [647],\n",
       " 540: [],\n",
       " 4868: [4867],\n",
       " 5380: [],\n",
       " 5379: [],\n",
       " 3814: [2614],\n",
       " 538: [173],\n",
       " 636: [5152],\n",
       " 5394: [4442]}"
      ]
     },
     "execution_count": 25,
     "metadata": {},
     "output_type": "execute_result"
    }
   ],
   "source": [
    "unique_dict = {k:[] for k in new_dp_list['PRODUCT ID']}\n",
    "\n",
    "for i in range(len(unique_pdts_df)):\n",
    "    \n",
    "   # loop through the list of duplicates using its index\n",
    "    for j in range(len(new_dp_list)):\n",
    "        \n",
    "       # compare the two pandas series on generic names. Coerce them to lowercase for proper comparison\n",
    "        if unique_pdts_df['GENERIC NAME'][i].lower() in new_dp_list['GENERIC NAME'][j].lower():\n",
    "            \n",
    "            unique_dict[new_dp_list['PRODUCT ID'][j]].append(unique_pdts_df['PRODUCT ID'][i])\n",
    "            \n",
    "unique_dict\n",
    "\n",
    "# loop through the unique products dataframe using its index\n",
    "# for i in range(len(unique_pdts_df)):\n",
    "# #     print(unique_dict)\n",
    "    \n",
    "#     for key, val in unique_dict.items():\n",
    "# #         if unique_pdts_df['GENERIC NAME'][i].lower() in new_dp_list['Generic Name'][j].lower():\n",
    "#         val.append(unique_pdts_df['PRODUCT ID'][i])\n",
    "# #         print(val)\n",
    "       "
   ]
  },
  {
   "cell_type": "code",
   "execution_count": 18,
   "id": "c4a48892",
   "metadata": {},
   "outputs": [
    {
     "data": {
      "text/plain": [
       "{'betadine mouthwash gargle': [3352, 3352],\n",
       " 'montelukast': [715],\n",
       " 'montelukast tabs': [715, 715],\n",
       " 'diclofenac tabs': [],\n",
       " 'doxazosin': [830],\n",
       " 'levothyroxine': [],\n",
       " 'amlodipine besilate,valsatan': [],\n",
       " 'amlodipine/ valsartan': [5303],\n",
       " 'face shields': [],\n",
       " 'ketoprofen gel': [4686],\n",
       " 'kabuuti herbal cough syrup': [],\n",
       " 'lamotrigine': [569],\n",
       " 'metronidazole gel': [166],\n",
       " 'metronidazole susp': [166],\n",
       " 'metronidazole': [166],\n",
       " 'desmopressin': [5533],\n",
       " 'loratidine': [],\n",
       " 'fluoxetine caps': [5134],\n",
       " 'metformin sr tabs': [4855],\n",
       " 'azithromycin susp': [638, 638, 638],\n",
       " 'desloratidine': [],\n",
       " 'atorvastatin 20mg': [],\n",
       " 'beechams max strength all in one caps': [3925, 3925],\n",
       " 'hyoscine butylbromide syp': [4594],\n",
       " 'levocetirizine+montelukast tab': [715],\n",
       " 'clopidogrel': [696],\n",
       " 'caustic pencil': [4056],\n",
       " 'ciprofloxacin tabs': [3532],\n",
       " 'diclofenac 12.5mg suppositories': [],\n",
       " 'face mask': [902, 902, 902],\n",
       " 'captopril tabs': [4029],\n",
       " 'fluconazole': [5347],\n",
       " 'levocetirizine&montelukast tabs': [715],\n",
       " 'losartan potassium': [647],\n",
       " 'miconazole, clebetasol and gentamycin': [],\n",
       " 'methotrexate tabs': [4867],\n",
       " \"n'rgy + plus 30's\": [],\n",
       " 'amlodipine tabs': [2614],\n",
       " 'cetylpyridinium chloride and lidocaine': [173],\n",
       " 'promethazine': [5152],\n",
       " 'felodipine sr tabs': [4442]}"
      ]
     },
     "execution_count": 18,
     "metadata": {},
     "output_type": "execute_result"
    }
   ],
   "source": [
    "unique_dict = {k.lower():[] for k in new_dp_list['GENERIC NAME']}\n",
    "\n",
    "for i in range(len(unique_pdts_df)):\n",
    "    \n",
    "   # loop through the list of duplicates using its index\n",
    "    for j in range(len(new_dp_list)):\n",
    "        \n",
    "       # compare the two pandas series on generic names. Coerce them to lowercase for proper comparison\n",
    "        if unique_pdts_df['GENERIC NAME'][i].lower() in new_dp_list['GENERIC NAME'][j].lower():\n",
    "            \n",
    "            unique_dict[new_dp_list['GENERIC NAME'][j].lower()].append(unique_pdts_df['PRODUCT ID'][i])\n",
    "            \n",
    "unique_dict"
   ]
  },
  {
   "cell_type": "code",
   "execution_count": 26,
   "id": "28cb7191",
   "metadata": {
    "scrolled": false
   },
   "outputs": [
    {
     "data": {
      "text/plain": [
       "{3951: [3352],\n",
       " 387: [715],\n",
       " 4933: [715],\n",
       " 4942: [715],\n",
       " 3146: [],\n",
       " 5312: [830],\n",
       " 5416: [4745],\n",
       " 3819: [3816],\n",
       " 5304: [5303],\n",
       " 5239: [5044],\n",
       " 4685: [4686],\n",
       " 4672: [],\n",
       " 5444: [569],\n",
       " 4896: [166],\n",
       " 4888: [166],\n",
       " 209: [166],\n",
       " 5033: [5533],\n",
       " 530: [4786],\n",
       " 418: [4786],\n",
       " 261: [4786],\n",
       " 4477: [5134],\n",
       " 4865: [4855],\n",
       " 3915: [638],\n",
       " 3904: [638],\n",
       " 3304: [638],\n",
       " 253: [4786],\n",
       " 5234: [5208],\n",
       " 3325: [3925],\n",
       " 2725: [3925],\n",
       " 3952: [3352, 4594],\n",
       " 4595: [715],\n",
       " 719: [696],\n",
       " 4057: [4056],\n",
       " 4132: [3532],\n",
       " 5391: [],\n",
       " 5390: [],\n",
       " 5389: [],\n",
       " 5031: [902],\n",
       " 394: [902],\n",
       " 902: [902],\n",
       " 4031: [4029],\n",
       " 5378: [5347],\n",
       " 4729: [715],\n",
       " 5370: [647],\n",
       " 540: [],\n",
       " 4868: [4867],\n",
       " 5380: [5337],\n",
       " 5379: [5337],\n",
       " 3814: [2614],\n",
       " 538: [173],\n",
       " 636: [5152],\n",
       " 5394: [4442]}"
      ]
     },
     "execution_count": 26,
     "metadata": {},
     "output_type": "execute_result"
    }
   ],
   "source": [
    "# loop through the unique products dataframe using its index\n",
    "for i in range(len(unique_pdts_df)):\n",
    "    \n",
    "    # loop through the list of duplicates using its index\n",
    "    for j in range(len(new_dp_list)):\n",
    "        if len(unique_dict[new_dp_list['PRODUCT ID'][j]]) == 0:\n",
    "        \n",
    "            # extract string from the product\n",
    "            str_a  = unique_pdts_df['GENERIC NAME'][i].lower()\n",
    "            str_b = new_dp_list['GENERIC NAME'][j].lower()\n",
    "\n",
    "            # assign ratio to both strings\n",
    "            ratio = fuzz.partial_ratio(str_b, str_a)            \n",
    "\n",
    "            # sent conditon for comparing the series\n",
    "            if ratio >= 81:\n",
    "                unique_dict[new_dp_list['PRODUCT ID'][j]].append(unique_pdts_df['PRODUCT ID'][i])\n",
    "unique_dict\n",
    "\n",
    "    #                 unique_dict[key] = str_b\n",
    "    #                 unique_dict.append([str_a])\n",
    "    #                 print(unique_dict)\n",
    "    #                 unfilled['new_generic_name'][j] = unique_pdts_df['GENERIC NAME'][i]\n",
    "    #                 unfilled['NEW ID'][j] = unique_pdts_df['PRODUCT ID'][i]"
   ]
  },
  {
   "cell_type": "code",
   "execution_count": 19,
   "id": "9b2b9b0e",
   "metadata": {},
   "outputs": [
    {
     "data": {
      "text/plain": [
       "{'betadine mouthwash gargle': [3352, 3352],\n",
       " 'montelukast': [715],\n",
       " 'montelukast tabs': [715, 715],\n",
       " 'diclofenac tabs': [],\n",
       " 'doxazosin': [830],\n",
       " 'levothyroxine': [4745],\n",
       " 'amlodipine besilate,valsatan': [3816],\n",
       " 'amlodipine/ valsartan': [5303],\n",
       " 'face shields': [5044],\n",
       " 'ketoprofen gel': [4686],\n",
       " 'kabuuti herbal cough syrup': [],\n",
       " 'lamotrigine': [569],\n",
       " 'metronidazole gel': [166],\n",
       " 'metronidazole susp': [166],\n",
       " 'metronidazole': [166],\n",
       " 'desmopressin': [5533],\n",
       " 'loratidine': [4786],\n",
       " 'fluoxetine caps': [5134],\n",
       " 'metformin sr tabs': [4855],\n",
       " 'azithromycin susp': [638, 638, 638],\n",
       " 'desloratidine': [4786],\n",
       " 'atorvastatin 20mg': [5208],\n",
       " 'beechams max strength all in one caps': [3925, 3925],\n",
       " 'hyoscine butylbromide syp': [4594],\n",
       " 'levocetirizine+montelukast tab': [715],\n",
       " 'clopidogrel': [696],\n",
       " 'caustic pencil': [4056],\n",
       " 'ciprofloxacin tabs': [3532],\n",
       " 'diclofenac 12.5mg suppositories': [],\n",
       " 'face mask': [902, 902, 902],\n",
       " 'captopril tabs': [4029],\n",
       " 'fluconazole': [5347],\n",
       " 'levocetirizine&montelukast tabs': [715],\n",
       " 'losartan potassium': [647],\n",
       " 'miconazole, clebetasol and gentamycin': [],\n",
       " 'methotrexate tabs': [4867],\n",
       " \"n'rgy + plus 30's\": [5337],\n",
       " 'amlodipine tabs': [2614],\n",
       " 'cetylpyridinium chloride and lidocaine': [173],\n",
       " 'promethazine': [5152],\n",
       " 'felodipine sr tabs': [4442]}"
      ]
     },
     "execution_count": 19,
     "metadata": {},
     "output_type": "execute_result"
    }
   ],
   "source": [
    "# loop through the unique products dataframe using its index\n",
    "for i in range(len(unique_pdts_df)):\n",
    "    \n",
    "    # loop through the list of duplicates using its index\n",
    "    for j in range(len(new_dp_list)):\n",
    "        if len(unique_dict[new_dp_list['GENERIC NAME'][j].lower()]) == 0:\n",
    "        \n",
    "            # extract string from the product\n",
    "            str_a  = unique_pdts_df['GENERIC NAME'][i].lower()\n",
    "            str_b = new_dp_list['GENERIC NAME'][j].lower()\n",
    "\n",
    "            # assign ratio to both strings\n",
    "            ratio = fuzz.partial_ratio(str_b, str_a)            \n",
    "\n",
    "            # sent conditon for comparing the series\n",
    "            if ratio >= 81:\n",
    "                unique_dict[new_dp_list['GENERIC NAME'][j].lower()].append(unique_pdts_df['PRODUCT ID'][i])\n",
    "unique_dict"
   ]
  },
  {
   "cell_type": "code",
   "execution_count": 20,
   "id": "5460fa6a",
   "metadata": {},
   "outputs": [],
   "source": [
    "unique_dict['miconazole, clebetasol and gentamycin'].append(346)\n",
    "unique_dict['diclofenac 12.5mg suppositories'].append(4334)\n",
    "unique_dict['kabuuti herbal cough syrup'].append(5145)\n",
    "unique_dict['diclofenac tabs'].append(4328)\n",
    "unique_dict['amlodipine besilate,valsatan'].append(5303)"
   ]
  },
  {
   "cell_type": "code",
   "execution_count": null,
   "id": "d924ed23",
   "metadata": {},
   "outputs": [],
   "source": [
    "unique_dict[540].append(346)\n",
    "unique_dict[5391, 5390, 5391].append(4334)\n",
    "unique_dict[4672].append(5145)\n",
    "unique_dict[3146].append(4328)\n",
    "unique_dict['amlodipine besilate,valsatan'].append(5303)"
   ]
  },
  {
   "cell_type": "code",
   "execution_count": 21,
   "id": "fdfb7dd3",
   "metadata": {},
   "outputs": [
    {
     "data": {
      "text/plain": [
       "{'betadine mouthwash gargle': [3352, 3352],\n",
       " 'montelukast': [715],\n",
       " 'montelukast tabs': [715, 715],\n",
       " 'diclofenac tabs': [4328],\n",
       " 'doxazosin': [830],\n",
       " 'levothyroxine': [4745],\n",
       " 'amlodipine besilate,valsatan': [3816, 5303],\n",
       " 'amlodipine/ valsartan': [5303],\n",
       " 'face shields': [5044],\n",
       " 'ketoprofen gel': [4686],\n",
       " 'kabuuti herbal cough syrup': [5145],\n",
       " 'lamotrigine': [569],\n",
       " 'metronidazole gel': [166],\n",
       " 'metronidazole susp': [166],\n",
       " 'metronidazole': [166],\n",
       " 'desmopressin': [5533],\n",
       " 'loratidine': [4786],\n",
       " 'fluoxetine caps': [5134],\n",
       " 'metformin sr tabs': [4855],\n",
       " 'azithromycin susp': [638, 638, 638],\n",
       " 'desloratidine': [4786],\n",
       " 'atorvastatin 20mg': [5208],\n",
       " 'beechams max strength all in one caps': [3925, 3925],\n",
       " 'hyoscine butylbromide syp': [4594],\n",
       " 'levocetirizine+montelukast tab': [715],\n",
       " 'clopidogrel': [696],\n",
       " 'caustic pencil': [4056],\n",
       " 'ciprofloxacin tabs': [3532],\n",
       " 'diclofenac 12.5mg suppositories': [4334],\n",
       " 'face mask': [902, 902, 902],\n",
       " 'captopril tabs': [4029],\n",
       " 'fluconazole': [5347],\n",
       " 'levocetirizine&montelukast tabs': [715],\n",
       " 'losartan potassium': [647],\n",
       " 'miconazole, clebetasol and gentamycin': [346],\n",
       " 'methotrexate tabs': [4867],\n",
       " \"n'rgy + plus 30's\": [5337],\n",
       " 'amlodipine tabs': [2614],\n",
       " 'cetylpyridinium chloride and lidocaine': [173],\n",
       " 'promethazine': [5152],\n",
       " 'felodipine sr tabs': [4442]}"
      ]
     },
     "execution_count": 21,
     "metadata": {},
     "output_type": "execute_result"
    }
   ],
   "source": [
    "unique_dict"
   ]
  },
  {
   "cell_type": "code",
   "execution_count": 23,
   "id": "7e290110",
   "metadata": {},
   "outputs": [
    {
     "data": {
      "text/plain": [
       "3816"
      ]
     },
     "execution_count": 23,
     "metadata": {},
     "output_type": "execute_result"
    }
   ],
   "source": [
    "unique_dict['amlodipine besilate,valsatan'].pop(0)"
   ]
  },
  {
   "cell_type": "code",
   "execution_count": 24,
   "id": "dcf30c4a",
   "metadata": {},
   "outputs": [
    {
     "data": {
      "text/plain": [
       "{'betadine mouthwash gargle': [3352, 3352],\n",
       " 'montelukast': [715],\n",
       " 'montelukast tabs': [715, 715],\n",
       " 'diclofenac tabs': [4328],\n",
       " 'doxazosin': [830],\n",
       " 'levothyroxine': [4745],\n",
       " 'amlodipine besilate,valsatan': [5303],\n",
       " 'amlodipine/ valsartan': [5303],\n",
       " 'face shields': [5044],\n",
       " 'ketoprofen gel': [4686],\n",
       " 'kabuuti herbal cough syrup': [5145],\n",
       " 'lamotrigine': [569],\n",
       " 'metronidazole gel': [166],\n",
       " 'metronidazole susp': [166],\n",
       " 'metronidazole': [166],\n",
       " 'desmopressin': [5533],\n",
       " 'loratidine': [4786],\n",
       " 'fluoxetine caps': [5134],\n",
       " 'metformin sr tabs': [4855],\n",
       " 'azithromycin susp': [638, 638, 638],\n",
       " 'desloratidine': [4786],\n",
       " 'atorvastatin 20mg': [5208],\n",
       " 'beechams max strength all in one caps': [3925, 3925],\n",
       " 'hyoscine butylbromide syp': [4594],\n",
       " 'levocetirizine+montelukast tab': [715],\n",
       " 'clopidogrel': [696],\n",
       " 'caustic pencil': [4056],\n",
       " 'ciprofloxacin tabs': [3532],\n",
       " 'diclofenac 12.5mg suppositories': [4334],\n",
       " 'face mask': [902, 902, 902],\n",
       " 'captopril tabs': [4029],\n",
       " 'fluconazole': [5347],\n",
       " 'levocetirizine&montelukast tabs': [715],\n",
       " 'losartan potassium': [647],\n",
       " 'miconazole, clebetasol and gentamycin': [346],\n",
       " 'methotrexate tabs': [4867],\n",
       " \"n'rgy + plus 30's\": [5337],\n",
       " 'amlodipine tabs': [2614],\n",
       " 'cetylpyridinium chloride and lidocaine': [173],\n",
       " 'promethazine': [5152],\n",
       " 'felodipine sr tabs': [4442]}"
      ]
     },
     "execution_count": 24,
     "metadata": {},
     "output_type": "execute_result"
    }
   ],
   "source": [
    "unique_dict"
   ]
  },
  {
   "cell_type": "code",
   "execution_count": null,
   "id": "147352c4",
   "metadata": {},
   "outputs": [],
   "source": [
    "# loop through the unique products dataframe using its index\n",
    "for i in range(len(unique_pdts_df)):\n",
    "\n",
    "    # loop through the list of duplicates using its index\n",
    "    for j in range(len(unfilled)):\n",
    "        \n",
    "        # extract string from the product\n",
    "        str_a  = unique_pdts_df['GENERIC NAME'][i].lower()\n",
    "        str_b = unfilled['GENERIC NAME'][j].lower()\n",
    "        \n",
    "        # assign ratio to both strings\n",
    "        ratio = fuzz.partial_ratio(str_b, str_a)            \n",
    "        \n",
    "        # sent conditon for comparing the series\n",
    "        if ratio >= 81:\n",
    "            print(str_b, ':', str_a, ':', ratio)\n",
    "            unfilled['new_generic_name'][j] = unique_pdts_df['GENERIC NAME'][i]\n",
    "            unfilled['NEW ID'][j] = unique_pdts_df['PRODUCT ID'][i]            \n",
    "#                 unique_dict[key] = str_b\n",
    "#                 unique_dict.append([str_a])\n",
    "#                 print(unique_dict)\n",
    "#                 unfilled['new_generic_name'][j] = unique_pdts_df['GENERIC NAME'][i]\n",
    "#                 unfilled['NEW ID'][j] = unique_pdts_df['PRODUCT ID'][i]"
   ]
  },
  {
   "cell_type": "code",
   "execution_count": null,
   "id": "651b557b",
   "metadata": {},
   "outputs": [],
   "source": []
  },
  {
   "cell_type": "code",
   "execution_count": null,
   "id": "38466c76",
   "metadata": {},
   "outputs": [],
   "source": [
    "unfilled"
   ]
  },
  {
   "cell_type": "code",
   "execution_count": null,
   "id": "d214f2ac",
   "metadata": {},
   "outputs": [],
   "source": [
    "dict_new = my_dict[str_b] == [str_a]\n",
    "            print(dict_new)"
   ]
  },
  {
   "cell_type": "code",
   "execution_count": null,
   "id": "1e4aede9",
   "metadata": {},
   "outputs": [],
   "source": [
    "fuzz_filter(unique_pdts_df, unfilled).head()"
   ]
  },
  {
   "cell_type": "code",
   "execution_count": null,
   "id": "adc51859",
   "metadata": {
    "scrolled": false
   },
   "outputs": [],
   "source": [
    "unfilled"
   ]
  },
  {
   "cell_type": "code",
   "execution_count": null,
   "id": "97a4d34c",
   "metadata": {},
   "outputs": [],
   "source": [
    "# combine the dataframes into one dataframe\n",
    "combined_df = pd.concat([unfilled, filled], axis=0).sort_values('Generic Name')"
   ]
  },
  {
   "cell_type": "code",
   "execution_count": null,
   "id": "5d625baa",
   "metadata": {},
   "outputs": [],
   "source": [
    "# re-index the dataframe\n",
    "combined_df.reset_index(drop=True, inplace=True)"
   ]
  },
  {
   "cell_type": "code",
   "execution_count": null,
   "id": "5d1ac105",
   "metadata": {},
   "outputs": [],
   "source": [
    "# combined_df"
   ]
  },
  {
   "cell_type": "markdown",
   "id": "55436f01",
   "metadata": {},
   "source": [
    "### The product dataset"
   ]
  },
  {
   "cell_type": "code",
   "execution_count": null,
   "id": "024dfe98",
   "metadata": {},
   "outputs": [],
   "source": [
    "# investigate the products on columns\n",
    "pdt_df.columns"
   ]
  },
  {
   "cell_type": "code",
   "execution_count": null,
   "id": "8a3b1345",
   "metadata": {},
   "outputs": [],
   "source": [
    "# new_pdt_df= pdt_df.drop(['COUNTRY OF ORIGIN', 'FORMULATION', 'PACK SIZE', 'RETAIL PRICE PER SMALLEST UNIT', \n",
    "#              'RETAIL PRICE PER SMALLEST UNIT.1', 'PACK SIZE', 'STRENGTH', 'eshop_id'], axis=1)"
   ]
  },
  {
   "cell_type": "code",
   "execution_count": null,
   "id": "bc8b1192",
   "metadata": {},
   "outputs": [],
   "source": [
    "# investigate the product's types\n",
    "pdt_df.dtypes"
   ]
  },
  {
   "cell_type": "code",
   "execution_count": null,
   "id": "a09bca58",
   "metadata": {},
   "outputs": [],
   "source": [
    "new_dp_list.head()"
   ]
  },
  {
   "cell_type": "code",
   "execution_count": null,
   "id": "efedbf86",
   "metadata": {},
   "outputs": [],
   "source": [
    "# change product's id for ease in comparing with other dataframes\n",
    "new_pdt_df = pdt_df.rename(columns={'ID': 'PRODUCT ID'})\n"
   ]
  },
  {
   "cell_type": "code",
   "execution_count": null,
   "id": "a15aeb17",
   "metadata": {},
   "outputs": [],
   "source": [
    "# check to find out whether the new_product_df id is identical to the duplicate list id \n",
    "merged_pdt_df = new_pdt_df['PRODUCT ID'].isin(new_dp_list['PRODUCT ID'])"
   ]
  },
  {
   "cell_type": "code",
   "execution_count": null,
   "id": "9ecaacaa",
   "metadata": {},
   "outputs": [],
   "source": [
    "# drop the identical ids\n",
    "new_pdt_df.drop(new_pdt_df[merged_pdt_df].index, inplace=True)"
   ]
  },
  {
   "cell_type": "code",
   "execution_count": null,
   "id": "d79885df",
   "metadata": {},
   "outputs": [],
   "source": [
    "# checkout the new dataframe\n",
    "new_pdt_df.info()"
   ]
  },
  {
   "cell_type": "code",
   "execution_count": null,
   "id": "808dad18",
   "metadata": {},
   "outputs": [],
   "source": [
    "# test on a product from the duplicates list\n",
    "new_pdt_df[new_pdt_df['PRODUCT ID'] == 3951]"
   ]
  },
  {
   "cell_type": "code",
   "execution_count": null,
   "id": "8a46b61e",
   "metadata": {},
   "outputs": [],
   "source": [
    "# merged_pdt_df[merged_pdt_df['PRODUCT ID'] == 3951]"
   ]
  },
  {
   "cell_type": "markdown",
   "id": "7df176c9",
   "metadata": {},
   "source": [
    "### The batches dataframe"
   ]
  },
  {
   "cell_type": "code",
   "execution_count": null,
   "id": "18d625ee",
   "metadata": {},
   "outputs": [],
   "source": [
    "batches_df.info()"
   ]
  },
  {
   "cell_type": "code",
   "execution_count": null,
   "id": "4d3cd659",
   "metadata": {},
   "outputs": [],
   "source": [
    "# cleanup data by renaming pandas series with more meaningfull names\n",
    "batches_df = batches_df.rename(columns={'product__generic_name': 'Generic Name', 'product__brand_name': 'Brand Name'})"
   ]
  },
  {
   "cell_type": "code",
   "execution_count": null,
   "id": "c12af8eb",
   "metadata": {},
   "outputs": [],
   "source": [
    "new_dp_list.info()"
   ]
  },
  {
   "cell_type": "code",
   "execution_count": null,
   "id": "20c1e134",
   "metadata": {},
   "outputs": [],
   "source": [
    "# create a new column on which we will compare our product ids\n",
    "batches_df['NEW ID'] = ''\n",
    "\n",
    "# create a new column on which we will compare our generic names\n",
    "batches_df['new_generic_name'] = ''\n",
    "\n",
    "# loop through the unique products dataframe using its index\n",
    "for i in range(len(unique_pdts_df)):\n",
    "    \n",
    "   # loop through the list of duplicates using its index\n",
    "    for j in range(len(new_dp_list)):\n",
    "        generic_unique = unique_pdts_df['GENERIC NAME'][i].lower()\n",
    "        generic_batch = batches_df['Generic Name'][j].lower()\n",
    "        \n",
    "       # compare the two pandas series on generic names. Coerce them to lowercase for proper comparison\n",
    "        if generic_unique in generic_batch:\n",
    "            \n",
    "            # assign the new ids to the resulting product from unique products loop and do the same for generic name\n",
    "            batches_df['NEW ID'][j] = unique_pdts_df['PRODUCT ID'][i]\n",
    "            batches_df['new_generic_name'][j] = unique_pdts_df['GENERIC NAME'][i]  "
   ]
  },
  {
   "cell_type": "code",
   "execution_count": null,
   "id": "ca871ff7",
   "metadata": {},
   "outputs": [],
   "source": [
    "batches_df.head()"
   ]
  },
  {
   "cell_type": "code",
   "execution_count": null,
   "id": "53fbe734",
   "metadata": {},
   "outputs": [],
   "source": [
    "# subset the rows that were filled\n",
    "filled_batches = batches_df[batches_df['NEW ID'] != '']\n",
    "\n",
    "filled_batches"
   ]
  },
  {
   "cell_type": "code",
   "execution_count": null,
   "id": "54775957",
   "metadata": {},
   "outputs": [],
   "source": [
    "# subset the rows that were not filled\n",
    "unfilled_batches = batches_df[batches_df['NEW ID'] == '']\n",
    "\n",
    "unfilled_batches"
   ]
  },
  {
   "cell_type": "code",
   "execution_count": null,
   "id": "3d34398f",
   "metadata": {},
   "outputs": [],
   "source": [
    "unfilled_batches.reset_index(drop=True, inplace=True)"
   ]
  },
  {
   "cell_type": "code",
   "execution_count": null,
   "id": "33e8918b",
   "metadata": {
    "scrolled": true
   },
   "outputs": [],
   "source": [
    "# loop through the unique products dataframe using its index\n",
    "for i in range(len(unique_pdts_df)):\n",
    "    \n",
    "    # loop through the list of duplicates using its index\n",
    "    for j in range(len(unfilled_batches)):\n",
    "        \n",
    "        # extract string from the product\n",
    "        str_a  = unique_pdts_df['GENERIC NAME'][i]\n",
    "        str_b = unfilled_batches['Generic Name'][j]\n",
    "        \n",
    "        # assign ratio to both strings\n",
    "        ratio = fuzz.partial_ratio(str_b, str_a)\n",
    "     \n",
    "        # sent conditon for comparing the series\n",
    "        if ratio >= 100:\n",
    "            print(str_a, ':', str_b, ':', ratio)            \n",
    "            unfilled_batches['new_generic_name'][j] = unique_pdts_df['GENERIC NAME'][i]\n",
    "            unfilled_batches['NEW ID'][j] = unique_pdts_df['PRODUCT ID'][i]"
   ]
  },
  {
   "cell_type": "code",
   "execution_count": null,
   "id": "4380637d",
   "metadata": {},
   "outputs": [],
   "source": [
    "# loop through the unique products dataframe using its index\n",
    "for i in range(len(unique_pdts_df)):\n",
    "    \n",
    "    # loop through the list of duplicates using its index\n",
    "    for j in range(len(unfilled_batches)):\n",
    "        \n",
    "        # extract string from the product\n",
    "        str_a  = unique_pdts_df['GENERIC NAME'][i]\n",
    "        str_b = unfilled_batches['Generic Name'][j]\n",
    "        unique_brand = unique_pdts_df['BRAND NAME'][i].lower()\n",
    "        batch_brand = batches_df['Brand Name'][j].lower()\n",
    "        \n",
    "        # assign ratio to both strings\n",
    "        first_ratio = fuzz.partial_ratio(str_b, str_a)\n",
    "        second_ratio = fuzz.partial_ratio(batch_brand, unique_brand)\n",
    "     \n",
    "        # sent conditon for comparing the series\n",
    "        if first_ratio >= 80 and second_ratio >= 80:\n",
    "            print(str_a, ':', str_b, ':', first_ratio, second_ratio)            \n",
    "            unfilled_batches['new_generic_name'][j] = unique_pdts_df['GENERIC NAME'][i]\n",
    "            unfilled_batches['NEW ID'][j] = unique_pdts_df['PRODUCT ID'][i]"
   ]
  },
  {
   "cell_type": "code",
   "execution_count": null,
   "id": "72ef8236",
   "metadata": {},
   "outputs": [],
   "source": [
    "unfilled_batches.head()"
   ]
  },
  {
   "cell_type": "code",
   "execution_count": null,
   "id": "befc0d04",
   "metadata": {},
   "outputs": [],
   "source": [
    "unfilled_batches = unfilled_batches[unfilled_batches['NEW ID'] != '']\n",
    "unfilled_batches"
   ]
  },
  {
   "cell_type": "code",
   "execution_count": null,
   "id": "67f21e53",
   "metadata": {},
   "outputs": [],
   "source": [
    "# recipe_df.columns"
   ]
  },
  {
   "cell_type": "code",
   "execution_count": null,
   "id": "6358f6ee",
   "metadata": {},
   "outputs": [],
   "source": [
    "new_recipe_df = recipe_df.drop(['id', 'created', 'modified', 'prescription', 'dosage', 'tablets', 'quantity', 'frequency', \n",
    "                                'duration', 'route', 'price_discount', 'serving_pharmacy', 'price_controller', 'rx_price',\n",
    "                               'external_price', 'requires_approval', 'approved', 'dropped', 'canceling_party', \n",
    "                                'reason_for_cancelation', 'authorized_by_tmcg', 'authorized_by_insurer', 'client_decision', \n",
    "                                'insurer_code'], axis=1)"
   ]
  },
  {
   "cell_type": "code",
   "execution_count": null,
   "id": "2dea8bec",
   "metadata": {},
   "outputs": [],
   "source": [
    "# new_recipe_df.info()"
   ]
  },
  {
   "cell_type": "code",
   "execution_count": null,
   "id": "a4148ba6",
   "metadata": {},
   "outputs": [],
   "source": [
    "# new_recipe_df.head()"
   ]
  },
  {
   "cell_type": "code",
   "execution_count": null,
   "id": "4fc9bb86",
   "metadata": {},
   "outputs": [],
   "source": [
    "dp_list.head()"
   ]
  },
  {
   "cell_type": "code",
   "execution_count": null,
   "id": "54375c92",
   "metadata": {},
   "outputs": [],
   "source": [
    "# unique_pdts_df.info()"
   ]
  },
  {
   "cell_type": "code",
   "execution_count": null,
   "id": "b39ec8dd",
   "metadata": {},
   "outputs": [],
   "source": [
    "# dp_list.columns"
   ]
  },
  {
   "cell_type": "code",
   "execution_count": null,
   "id": "0f2c2f48",
   "metadata": {},
   "outputs": [],
   "source": [
    "# dp_list.info()"
   ]
  },
  {
   "cell_type": "code",
   "execution_count": null,
   "id": "4b5bc5ff",
   "metadata": {},
   "outputs": [],
   "source": [
    "new_dp_list.head()"
   ]
  },
  {
   "cell_type": "code",
   "execution_count": null,
   "id": "91b62e5c",
   "metadata": {
    "scrolled": false
   },
   "outputs": [],
   "source": [
    "new_dp_list.info()"
   ]
  },
  {
   "cell_type": "code",
   "execution_count": null,
   "id": "88398417",
   "metadata": {},
   "outputs": [],
   "source": [
    "# unique_pdts_df.head(49)"
   ]
  },
  {
   "cell_type": "code",
   "execution_count": null,
   "id": "3c45a2ad",
   "metadata": {
    "scrolled": false
   },
   "outputs": [],
   "source": [
    "# new_dp_list['PRODUCT ID'].to_list()"
   ]
  },
  {
   "cell_type": "code",
   "execution_count": null,
   "id": "e41d443b",
   "metadata": {},
   "outputs": [],
   "source": []
  },
  {
   "cell_type": "code",
   "execution_count": null,
   "id": "a3709a0e",
   "metadata": {},
   "outputs": [],
   "source": [
    "new_dp_list.tail()"
   ]
  },
  {
   "cell_type": "code",
   "execution_count": null,
   "id": "86995fe3",
   "metadata": {},
   "outputs": [],
   "source": [
    "new_dp_list.tail()"
   ]
  },
  {
   "cell_type": "code",
   "execution_count": null,
   "id": "32051e14",
   "metadata": {},
   "outputs": [],
   "source": [
    "new_dp_list.info()"
   ]
  },
  {
   "cell_type": "code",
   "execution_count": null,
   "id": "4a67bd76",
   "metadata": {
    "scrolled": false
   },
   "outputs": [],
   "source": [
    "# new_dp_list['PRODUCT ID'].to_list()"
   ]
  },
  {
   "cell_type": "code",
   "execution_count": null,
   "id": "b5557a6b",
   "metadata": {},
   "outputs": [],
   "source": [
    "new_pdt_df = new_pdt_df.rename(columns={'ID': 'PRODUCT ID'})"
   ]
  },
  {
   "cell_type": "code",
   "execution_count": null,
   "id": "18611922",
   "metadata": {},
   "outputs": [],
   "source": [
    "new_pdt_df.head()"
   ]
  },
  {
   "cell_type": "code",
   "execution_count": null,
   "id": "f99625f7",
   "metadata": {},
   "outputs": [],
   "source": [
    "merged_pdt_dup = pd.merge(new_dp_list, new_pdt_df, on=['PRODUCT ID'], how='inner')"
   ]
  },
  {
   "cell_type": "code",
   "execution_count": null,
   "id": "afc090b6",
   "metadata": {},
   "outputs": [],
   "source": [
    "# merged_pdt_dup.head(51)"
   ]
  },
  {
   "cell_type": "code",
   "execution_count": null,
   "id": "fc8f5ec3",
   "metadata": {},
   "outputs": [],
   "source": [
    "merged_batch_dup = pd.merge(new_dp_list, new_batches_df, on=['PRODUCT ID'], how='inner')"
   ]
  },
  {
   "cell_type": "code",
   "execution_count": null,
   "id": "0fd10d1f",
   "metadata": {},
   "outputs": [],
   "source": [
    "merged_batch_dup.info()"
   ]
  },
  {
   "cell_type": "code",
   "execution_count": null,
   "id": "d0795cbd",
   "metadata": {},
   "outputs": [],
   "source": [
    "new_dp_list.shape"
   ]
  },
  {
   "cell_type": "code",
   "execution_count": null,
   "id": "384c8135",
   "metadata": {},
   "outputs": [],
   "source": [
    "# new_recipe_df"
   ]
  },
  {
   "cell_type": "code",
   "execution_count": null,
   "id": "fe194e21",
   "metadata": {},
   "outputs": [],
   "source": [
    "new_recipe_df = new_recipe_df.rename(columns={'product_id': 'PRODUCT ID'})"
   ]
  },
  {
   "cell_type": "code",
   "execution_count": null,
   "id": "fb70d27a",
   "metadata": {},
   "outputs": [],
   "source": [
    "new_recipe_df.head()"
   ]
  },
  {
   "cell_type": "code",
   "execution_count": null,
   "id": "e551b33f",
   "metadata": {},
   "outputs": [],
   "source": [
    "merged_recipe_dup = pd.merge(new_dp_list, new_recipe_df, on=['PRODUCT ID'], how='inner')"
   ]
  },
  {
   "cell_type": "code",
   "execution_count": null,
   "id": "5f2b6441",
   "metadata": {},
   "outputs": [],
   "source": [
    "merged_recipe_dup.info()"
   ]
  },
  {
   "cell_type": "code",
   "execution_count": null,
   "id": "2d5f3036",
   "metadata": {},
   "outputs": [],
   "source": [
    "# new_pdt_df\n",
    "# new_batches_df\n",
    "# new_recipe_df\n",
    "\n",
    "# merged_pdt_dup\n",
    "# merged_batch_dup\n",
    "# merged_recipe_dup"
   ]
  },
  {
   "cell_type": "code",
   "execution_count": null,
   "id": "4340d966",
   "metadata": {},
   "outputs": [],
   "source": [
    "unique_pdts_df.head()"
   ]
  },
  {
   "cell_type": "code",
   "execution_count": null,
   "id": "81c5e663",
   "metadata": {},
   "outputs": [],
   "source": [
    "merged_batch_dup.head()"
   ]
  },
  {
   "cell_type": "code",
   "execution_count": null,
   "id": "eb25e03a",
   "metadata": {},
   "outputs": [],
   "source": [
    "new_batch = merged_batch_dup.replace()"
   ]
  },
  {
   "cell_type": "code",
   "execution_count": null,
   "id": "38308c32",
   "metadata": {},
   "outputs": [],
   "source": [
    "# for prod in merged_batch_dup['Generic Name']:\n",
    "#     if np.where(merged_batch_dup['Generic Name'] == unique_pdts_df['GENERIC NAME'], True, False):\n",
    "#         print(prod)"
   ]
  },
  {
   "cell_type": "code",
   "execution_count": null,
   "id": "b68d9ee9",
   "metadata": {},
   "outputs": [],
   "source": [
    "merged_series = merged_batch_dup['Generic Name']\n",
    "unique_series = unique_pdts_df['GENERIC NAME']"
   ]
  },
  {
   "cell_type": "code",
   "execution_count": null,
   "id": "5ad12649",
   "metadata": {},
   "outputs": [],
   "source": [
    "merged_batch_dup.columns"
   ]
  },
  {
   "cell_type": "code",
   "execution_count": null,
   "id": "a5147cd3",
   "metadata": {},
   "outputs": [],
   "source": [
    "# merged_row = merged_batch_dup.loc[['Montelukast']]\n",
    "# merged_row"
   ]
  },
  {
   "cell_type": "code",
   "execution_count": null,
   "id": "15c3f4cb",
   "metadata": {},
   "outputs": [],
   "source": [
    "merged_batch_dup['Generic Name'].unique()"
   ]
  },
  {
   "cell_type": "code",
   "execution_count": null,
   "id": "1c426f16",
   "metadata": {},
   "outputs": [],
   "source": [
    "unique_pdts_df['GENERIC NAME'].unique()"
   ]
  },
  {
   "cell_type": "code",
   "execution_count": null,
   "id": "6cd2b627",
   "metadata": {},
   "outputs": [],
   "source": [
    "unique_pdts_df.columns"
   ]
  },
  {
   "cell_type": "code",
   "execution_count": null,
   "id": "f5357ed6",
   "metadata": {},
   "outputs": [],
   "source": [
    "pdt_df.head()"
   ]
  },
  {
   "cell_type": "code",
   "execution_count": null,
   "id": "b85755a2",
   "metadata": {},
   "outputs": [],
   "source": [
    "pdt_df['NEW ID'] = \"\""
   ]
  },
  {
   "cell_type": "code",
   "execution_count": null,
   "id": "aea12765",
   "metadata": {},
   "outputs": [],
   "source": [
    "for i in range(len(unique_pdts_df)):\n",
    "    for j in range(len(pdt_df)):\n",
    "#         if unique_pdts_df['GENERIC NAME'][i] == pdt_df['GENERIC NAME'][j]:\n",
    "#             pdt_df['NEW ID'][j] = unique_pdts_df['PRODUCT ID'][i]\n",
    "        if unique_pdts_df['GENERIC NAME'][i].lower() in pdt_df['GENERIC NAME'][j].lower():\n",
    "            pdt_df['NEW ID'][j] = unique_pdts_df['PRODUCT ID'][i]"
   ]
  },
  {
   "cell_type": "code",
   "execution_count": null,
   "id": "f280030f",
   "metadata": {},
   "outputs": [],
   "source": [
    "# unique_pdts_df[unique_pdts_df['GENERIC NAME'] == 'Montelukast']"
   ]
  },
  {
   "cell_type": "code",
   "execution_count": null,
   "id": "c5bc1513",
   "metadata": {},
   "outputs": [],
   "source": [
    "pdt_df.head()"
   ]
  },
  {
   "cell_type": "code",
   "execution_count": null,
   "id": "474f6bc7",
   "metadata": {},
   "outputs": [],
   "source": [
    "unique_pdts_df.head()"
   ]
  },
  {
   "cell_type": "code",
   "execution_count": null,
   "id": "37fc607e",
   "metadata": {},
   "outputs": [],
   "source": [
    "pdt_df[pdt_df['NEW ID'] != \"\"]"
   ]
  },
  {
   "cell_type": "code",
   "execution_count": null,
   "id": "8295f69e",
   "metadata": {
    "scrolled": true
   },
   "outputs": [],
   "source": [
    "list(pdt_df['GENERIC NAME'].unique())"
   ]
  },
  {
   "cell_type": "code",
   "execution_count": null,
   "id": "89affb56",
   "metadata": {},
   "outputs": [],
   "source": [
    "unique_pdts_df['GENERIC NAME'].unique()"
   ]
  },
  {
   "cell_type": "code",
   "execution_count": null,
   "id": "f058cd40",
   "metadata": {},
   "outputs": [],
   "source": [
    "'Montelukast'in(pdt_df['GENERIC NAME'])"
   ]
  },
  {
   "cell_type": "code",
   "execution_count": null,
   "id": "4ccf6fd3",
   "metadata": {},
   "outputs": [],
   "source": []
  },
  {
   "cell_type": "code",
   "execution_count": null,
   "id": "9b5d3cba",
   "metadata": {},
   "outputs": [],
   "source": [
    "new_dp_list.head(20)"
   ]
  },
  {
   "cell_type": "code",
   "execution_count": null,
   "id": "db545799",
   "metadata": {},
   "outputs": [],
   "source": [
    "new_dp_list.columns"
   ]
  },
  {
   "cell_type": "code",
   "execution_count": null,
   "id": "2df2879d",
   "metadata": {},
   "outputs": [],
   "source": []
  },
  {
   "cell_type": "code",
   "execution_count": null,
   "id": "ac4ed5a8",
   "metadata": {},
   "outputs": [],
   "source": [
    "new_dp_list[new_dp_list['Generic Name'] == 'Diclofenac 12.5mg Suppositories']"
   ]
  },
  {
   "cell_type": "code",
   "execution_count": null,
   "id": "59281233",
   "metadata": {},
   "outputs": [],
   "source": [
    "unique_pdts_df[unique_pdts_df['GENERIC NAME'] == 'Diclofenac']"
   ]
  },
  {
   "cell_type": "code",
   "execution_count": null,
   "id": "fb17570f",
   "metadata": {},
   "outputs": [],
   "source": [
    "new_dp_list.head(10)"
   ]
  },
  {
   "cell_type": "code",
   "execution_count": null,
   "id": "a5e2a8b1",
   "metadata": {},
   "outputs": [],
   "source": [
    "print(new_dp_list['Generic Name'])"
   ]
  },
  {
   "cell_type": "code",
   "execution_count": null,
   "id": "3597f5b7",
   "metadata": {},
   "outputs": [],
   "source": [
    "new_dp_list.info()"
   ]
  },
  {
   "cell_type": "code",
   "execution_count": null,
   "id": "004e0515",
   "metadata": {},
   "outputs": [],
   "source": [
    "unique_pdts_df[unique_pdts_df['GENERIC NAME'].str.contains('Loratadine')]"
   ]
  },
  {
   "cell_type": "code",
   "execution_count": null,
   "id": "6581ff9e",
   "metadata": {},
   "outputs": [],
   "source": [
    "pattern = \"+./'\""
   ]
  },
  {
   "cell_type": "code",
   "execution_count": null,
   "id": "5f926c9b",
   "metadata": {},
   "outputs": [],
   "source": [
    "unique_pdts_df.loc['Diclofenac 12.5mg Suppositories', 'GENERIC NAME']"
   ]
  },
  {
   "cell_type": "code",
   "execution_count": null,
   "id": "d3a722e6",
   "metadata": {},
   "outputs": [],
   "source": [
    "#         if unique_pdts_df['GENERIC NAME'][i] == pdt_df['GENERIC NAME'][j]:\n",
    "#             pdt_df['NEW ID'][j] = unique_pdts_df['PRODUCT ID'][i]\n",
    "#         elif new_dp_list['Generic Name'][j].lower().contains(pat=\"+./'\", regex=True) in new_dp_list['Generic Name'][j].lower():\n",
    "#             new_dp_list['NEW ID'][j] = unique_pdts_df['PRODUCT ID'][i]"
   ]
  }
 ],
 "metadata": {
  "kernelspec": {
   "display_name": "Python 3",
   "language": "python",
   "name": "python3"
  },
  "language_info": {
   "codemirror_mode": {
    "name": "ipython",
    "version": 3
   },
   "file_extension": ".py",
   "mimetype": "text/x-python",
   "name": "python",
   "nbconvert_exporter": "python",
   "pygments_lexer": "ipython3",
   "version": "3.8.8"
  }
 },
 "nbformat": 4,
 "nbformat_minor": 5
}
