{
 "cells": [
  {
   "cell_type": "code",
   "execution_count": 1,
   "id": "e5817582",
   "metadata": {},
   "outputs": [
    {
     "name": "stderr",
     "output_type": "stream",
     "text": [
      "C:\\ProgramData\\Anaconda3\\lib\\site-packages\\fuzzywuzzy\\fuzz.py:11: UserWarning: Using slow pure-python SequenceMatcher. Install python-Levenshtein to remove this warning\n",
      "  warnings.warn('Using slow pure-python SequenceMatcher. Install python-Levenshtein to remove this warning')\n"
     ]
    }
   ],
   "source": [
    "import pandas as pd\n",
    "import numpy as np\n",
    "from fuzzywuzzy import fuzz"
   ]
  },
  {
   "cell_type": "code",
   "execution_count": null,
   "id": "76507cbd",
   "metadata": {},
   "outputs": [],
   "source": [
    "# products_sheet_id = \"1FB2bbvWE2nsf49KO_DkWzbL2hm9r4G8j\"\n",
    "# products_list = \"Tablib%20Dataset\"\n",
    "# url = f\"https://docs.google.com/spreadsheets/d/{products_sheet_id}/gviz/tq?tqx=out:csv&sheet={products_list}\""
   ]
  },
  {
   "cell_type": "code",
   "execution_count": 2,
   "id": "aaabb184",
   "metadata": {},
   "outputs": [],
   "source": [
    "# convert csv datasets into dataframes\n",
    "\n",
    "pdt_df = pd.read_csv('full_products_list.csv')\n",
    "batches_df = pd.read_csv('batches_list.csv')\n",
    "recipe_df = pd.read_csv('recipe_list.csv')"
   ]
  },
  {
   "cell_type": "code",
   "execution_count": 3,
   "id": "9507e956",
   "metadata": {
    "scrolled": false
   },
   "outputs": [],
   "source": [
    "# import excel file from an absolute path with pandas\n",
    "\n",
    "xls = pd.ExcelFile(r'C:\\Users\\NDA\\Desktop\\EVE\\TMCG\\documents\\duplicate_products.xlsx')"
   ]
  },
  {
   "cell_type": "code",
   "execution_count": 4,
   "id": "45fbb8d7",
   "metadata": {},
   "outputs": [],
   "source": [
    "# convert xls datasets on sheet names into dataframes\n",
    "\n",
    "dp_list = pd.read_excel(xls, 'copy_final_list_duplicates')\n",
    "unique_pdts_df = pd.read_excel(xls, 'unique final list')"
   ]
  },
  {
   "cell_type": "code",
   "execution_count": 5,
   "id": "fb3884c1",
   "metadata": {},
   "outputs": [],
   "source": [
    "# drop unwanted columns from the duplicates list dataframe\n",
    "\n",
    "new_dp_list = dp_list.drop(['Unnamed: 1', 'Unnamed: 2', 'Unnamed: 3', 'Unnamed: 4', 'Unnamed: 5', 'Unnamed: 8',\n",
    "                           'Unnamed: 9', 'Unnamed: 10', 'Unnamed: 11', 'Unnamed: 12', 'Unnamed: 13', 'Unnamed: 14',\n",
    "                           'Unnamed: 15', 'Unnamed: 16', 'Unnamed: 17', 'Unnamed: 18', 'Unnamed: 19', 'Unnamed: 20',\n",
    "                           'Unnamed: 21', 'Unnamed: 22', 'Unnamed: 23'], axis=1)"
   ]
  },
  {
   "cell_type": "code",
   "execution_count": 6,
   "id": "27149502",
   "metadata": {},
   "outputs": [],
   "source": [
    "# cleanup data by renaming pandas series with more meaningfull names\n",
    "\n",
    "new_dp_list = new_dp_list.rename(columns={'Eva': 'PRODUCT ID', 'Unnamed: 6': 'GENERIC NAME', 'Unnamed: 7': 'BRAND NAME'})"
   ]
  },
  {
   "cell_type": "code",
   "execution_count": 7,
   "id": "c6ab8e20",
   "metadata": {},
   "outputs": [],
   "source": [
    "# drop null values based on rows\n",
    "\n",
    "new_dp_list = new_dp_list.dropna(axis='rows')"
   ]
  },
  {
   "cell_type": "code",
   "execution_count": null,
   "id": "69cf8895",
   "metadata": {},
   "outputs": [],
   "source": [
    "# unique_pdts_df"
   ]
  },
  {
   "cell_type": "code",
   "execution_count": null,
   "id": "9ab2e92d",
   "metadata": {},
   "outputs": [],
   "source": [
    "# check to see if dataset is now clean \n",
    "\n",
    "new_dp_list.tail()"
   ]
  },
  {
   "cell_type": "code",
   "execution_count": 8,
   "id": "7c21681f",
   "metadata": {},
   "outputs": [],
   "source": [
    "# remove the inverse labels\n",
    "\n",
    "new_dp_list = new_dp_list.drop([new_dp_list.index[-1]])"
   ]
  },
  {
   "cell_type": "code",
   "execution_count": null,
   "id": "b9e7ff43",
   "metadata": {},
   "outputs": [],
   "source": [
    "# check to see whether id has numerical values\n",
    "# re-check after running next cell\n",
    "\n",
    "new_dp_list.info()"
   ]
  },
  {
   "cell_type": "code",
   "execution_count": 9,
   "id": "791c66cb",
   "metadata": {},
   "outputs": [],
   "source": [
    "# convert product id into numeric \n",
    "\n",
    "new_dp_list['PRODUCT ID'] = pd.to_numeric(new_dp_list['PRODUCT ID'], errors='ignore')"
   ]
  },
  {
   "cell_type": "code",
   "execution_count": null,
   "id": "e965466d",
   "metadata": {},
   "outputs": [],
   "source": [
    "# new_row = unique_pdts_df.iloc[14]\n",
    "# new_row"
   ]
  },
  {
   "cell_type": "code",
   "execution_count": null,
   "id": "aae68847",
   "metadata": {},
   "outputs": [],
   "source": [
    "# new_dp_list = new_dp_list.append(new_row, ignore_index=True)"
   ]
  },
  {
   "cell_type": "code",
   "execution_count": null,
   "id": "3bb381c7",
   "metadata": {},
   "outputs": [],
   "source": [
    "new_dp_list.head()"
   ]
  },
  {
   "cell_type": "code",
   "execution_count": null,
   "id": "5d350a1b",
   "metadata": {},
   "outputs": [],
   "source": [
    "new_dp_list"
   ]
  },
  {
   "cell_type": "code",
   "execution_count": null,
   "id": "32411cde",
   "metadata": {},
   "outputs": [],
   "source": [
    "# check unique products dataframe\n",
    "\n",
    "unique_pdts_df.columns"
   ]
  },
  {
   "cell_type": "code",
   "execution_count": 10,
   "id": "743e6fb5",
   "metadata": {},
   "outputs": [],
   "source": [
    "# drop unnecessary columns from unique lists\n",
    "\n",
    "unique_pdts_df = unique_pdts_df.drop(['COUNTRY OF ORIGIN', 'FORMULATION', 'RETAIL PRICE PER SMALLEST UNIT', \n",
    "                                      'RETAIL PRICE PER SMALLEST UNIT.1', 'PACK SIZE', 'STRENGTH', 'eshop_id', \n",
    "                                      'Unnamed: 10', 'Unnamed: 11', 'Unnamed: 12', 'Unnamed: 13', 'Unnamed: 14', \n",
    "                                      'Unnamed: 15', 'Unnamed: 16', 'Unnamed: 17', 'Unnamed: 18', 'Unnamed: 19', \n",
    "                                      'Unnamed: 20', 'Unnamed: 21', 'Unnamed: 22', 'Unnamed: 23', 'Unnamed: 24', \n",
    "                                      'Unnamed: 25'], axis=1)"
   ]
  },
  {
   "cell_type": "code",
   "execution_count": 11,
   "id": "a90ecca8",
   "metadata": {},
   "outputs": [],
   "source": [
    "# change column name into product id for easy manipulation\n",
    "\n",
    "unique_pdts_df = unique_pdts_df.rename(columns={'ID': 'PRODUCT ID'})"
   ]
  },
  {
   "cell_type": "code",
   "execution_count": null,
   "id": "0a5ded37",
   "metadata": {},
   "outputs": [],
   "source": [
    "# unique_pdts_df = unique_pdts_df.drop(labels=14, axis=0)"
   ]
  },
  {
   "cell_type": "code",
   "execution_count": null,
   "id": "efab8fe1",
   "metadata": {},
   "outputs": [],
   "source": [
    "# unique_pdts_df.reset_index(drop=True, inplace=True)"
   ]
  },
  {
   "cell_type": "code",
   "execution_count": null,
   "id": "2edea1d3",
   "metadata": {},
   "outputs": [],
   "source": [
    "unique_pdts_df"
   ]
  },
  {
   "cell_type": "code",
   "execution_count": 12,
   "id": "56131008",
   "metadata": {},
   "outputs": [],
   "source": [
    "# give proper indices to the dataset\n",
    "\n",
    "new_dp_list.reset_index(drop=True, inplace=True)"
   ]
  },
  {
   "cell_type": "code",
   "execution_count": 13,
   "id": "c44a9eb6",
   "metadata": {
    "scrolled": false
   },
   "outputs": [
    {
     "name": "stderr",
     "output_type": "stream",
     "text": [
      "<ipython-input-13-459ad8c5262c>:17: SettingWithCopyWarning: \n",
      "A value is trying to be set on a copy of a slice from a DataFrame\n",
      "\n",
      "See the caveats in the documentation: https://pandas.pydata.org/pandas-docs/stable/user_guide/indexing.html#returning-a-view-versus-a-copy\n",
      "  new_dp_list['NEW ID'][j] = unique_pdts_df['PRODUCT ID'][i]\n",
      "<ipython-input-13-459ad8c5262c>:18: SettingWithCopyWarning: \n",
      "A value is trying to be set on a copy of a slice from a DataFrame\n",
      "\n",
      "See the caveats in the documentation: https://pandas.pydata.org/pandas-docs/stable/user_guide/indexing.html#returning-a-view-versus-a-copy\n",
      "  new_dp_list['new_generic_name'][j] = unique_pdts_df['GENERIC NAME'][i]\n"
     ]
    }
   ],
   "source": [
    "# create a new column on which we will compare our product ids\n",
    "new_dp_list['NEW ID'] = ''\n",
    "\n",
    "# create a new column on which we will compare our generic names\n",
    "new_dp_list['new_generic_name'] = ''\n",
    "\n",
    "# loop through the unique products dataframe using its index\n",
    "for i in range(len(unique_pdts_df)):\n",
    "    \n",
    "   # loop through the list of duplicates using its index\n",
    "    for j in range(len(new_dp_list)):\n",
    "        \n",
    "       # compare the two pandas series on generic names. Coerce them to lowercase for proper comparison\n",
    "        if unique_pdts_df['GENERIC NAME'][i].lower() in new_dp_list['GENERIC NAME'][j].lower():\n",
    "            \n",
    "            # assign the new ids to the resulting product from unique products loop and do the same for generic name\n",
    "            new_dp_list['NEW ID'][j] = unique_pdts_df['PRODUCT ID'][i]\n",
    "            new_dp_list['new_generic_name'][j] = unique_pdts_df['GENERIC NAME'][i]        "
   ]
  },
  {
   "cell_type": "code",
   "execution_count": 14,
   "id": "2373fe61",
   "metadata": {},
   "outputs": [],
   "source": [
    "# subset the rows that were filled\n",
    "filled = new_dp_list[new_dp_list['NEW ID'] != '']\n",
    "\n",
    "# filled"
   ]
  },
  {
   "cell_type": "code",
   "execution_count": 15,
   "id": "31f6f39a",
   "metadata": {},
   "outputs": [],
   "source": [
    "# subset the unfilled rows\n",
    "unfilled = new_dp_list[new_dp_list['NEW ID'] == '']\n",
    "\n",
    "# unfilled"
   ]
  },
  {
   "cell_type": "code",
   "execution_count": 16,
   "id": "d1515dbe",
   "metadata": {},
   "outputs": [],
   "source": [
    "# re-index the dataframe because dropping out rows has messed up with its indexing\n",
    "\n",
    "unfilled.reset_index(drop=True, inplace=True)"
   ]
  },
  {
   "cell_type": "code",
   "execution_count": null,
   "id": "5723ca51",
   "metadata": {},
   "outputs": [],
   "source": [
    "# unique_pdts_df"
   ]
  },
  {
   "cell_type": "code",
   "execution_count": null,
   "id": "5268ae11",
   "metadata": {},
   "outputs": [],
   "source": [
    "new_dp_list"
   ]
  },
  {
   "cell_type": "code",
   "execution_count": null,
   "id": "90e57539",
   "metadata": {},
   "outputs": [],
   "source": [
    "new_dp_list.head()"
   ]
  },
  {
   "cell_type": "code",
   "execution_count": 17,
   "id": "6c4ffaab",
   "metadata": {},
   "outputs": [
    {
     "data": {
      "text/plain": [
       "{3951: [3352],\n",
       " 387: [715],\n",
       " 4933: [715],\n",
       " 4942: [715],\n",
       " 3146: [],\n",
       " 5312: [830],\n",
       " 5416: [],\n",
       " 3819: [],\n",
       " 5304: [5303],\n",
       " 5239: [],\n",
       " 4685: [4686],\n",
       " 4672: [],\n",
       " 5444: [569],\n",
       " 4896: [166],\n",
       " 4888: [166],\n",
       " 209: [166],\n",
       " 5033: [5533],\n",
       " 530: [],\n",
       " 418: [],\n",
       " 261: [],\n",
       " 4477: [5134],\n",
       " 4865: [4855],\n",
       " 3915: [638],\n",
       " 3904: [638],\n",
       " 3304: [638],\n",
       " 253: [],\n",
       " 5234: [],\n",
       " 3325: [3925],\n",
       " 2725: [3925],\n",
       " 3952: [3352, 4594],\n",
       " 4595: [715],\n",
       " 719: [696],\n",
       " 4057: [4056],\n",
       " 4132: [3532],\n",
       " 5391: [],\n",
       " 5390: [],\n",
       " 5389: [],\n",
       " 5031: [902],\n",
       " 394: [902],\n",
       " 902: [902],\n",
       " 4031: [4029],\n",
       " 5378: [5347],\n",
       " 4729: [715],\n",
       " 5370: [647],\n",
       " 540: [],\n",
       " 4868: [4867],\n",
       " 5380: [],\n",
       " 5379: [],\n",
       " 3814: [2614],\n",
       " 538: [173],\n",
       " 636: [5152],\n",
       " 5394: [4442]}"
      ]
     },
     "execution_count": 17,
     "metadata": {},
     "output_type": "execute_result"
    }
   ],
   "source": [
    "unique_dict = {k:[] for k in new_dp_list['PRODUCT ID']}\n",
    "\n",
    "for i in range(len(unique_pdts_df)):\n",
    "    \n",
    "   # loop through the list of duplicates using its index\n",
    "    for j in range(len(new_dp_list)):\n",
    "        \n",
    "       # compare the two pandas series on generic names. Coerce them to lowercase for proper comparison\n",
    "        if unique_pdts_df['GENERIC NAME'][i].lower() in new_dp_list['GENERIC NAME'][j].lower():\n",
    "            \n",
    "            unique_dict[new_dp_list['PRODUCT ID'][j]].append(unique_pdts_df['PRODUCT ID'][i])\n",
    "            \n",
    "unique_dict\n",
    "\n",
    "# loop through the unique products dataframe using its index\n",
    "# for i in range(len(unique_pdts_df)):\n",
    "# #     print(unique_dict)\n",
    "    \n",
    "#     for key, val in unique_dict.items():\n",
    "# #         if unique_pdts_df['GENERIC NAME'][i].lower() in new_dp_list['Generic Name'][j].lower():\n",
    "#         val.append(unique_pdts_df['PRODUCT ID'][i])\n",
    "# #         print(val)\n",
    "       "
   ]
  },
  {
   "cell_type": "code",
   "execution_count": null,
   "id": "e5b80ffd",
   "metadata": {},
   "outputs": [],
   "source": [
    "unique_dict = {k.lower():[] for k in new_dp_list['GENERIC NAME']}\n",
    "\n",
    "for i in range(len(unique_pdts_df)):\n",
    "    \n",
    "   # loop through the list of duplicates using its index\n",
    "    for j in range(len(new_dp_list)):\n",
    "        \n",
    "       # compare the two pandas series on generic names. Coerce them to lowercase for proper comparison\n",
    "        if unique_pdts_df['GENERIC NAME'][i].lower() in new_dp_list['GENERIC NAME'][j].lower():\n",
    "            \n",
    "            unique_dict[new_dp_list['GENERIC NAME'][j].lower()].append(unique_pdts_df['PRODUCT ID'][i])\n",
    "            \n",
    "unique_dict"
   ]
  },
  {
   "cell_type": "code",
   "execution_count": 18,
   "id": "28cb7191",
   "metadata": {
    "scrolled": false
   },
   "outputs": [
    {
     "data": {
      "text/plain": [
       "{3951: [3352],\n",
       " 387: [715],\n",
       " 4933: [715],\n",
       " 4942: [715],\n",
       " 3146: [],\n",
       " 5312: [830],\n",
       " 5416: [4745],\n",
       " 3819: [3816],\n",
       " 5304: [5303],\n",
       " 5239: [5044],\n",
       " 4685: [4686],\n",
       " 4672: [],\n",
       " 5444: [569],\n",
       " 4896: [166],\n",
       " 4888: [166],\n",
       " 209: [166],\n",
       " 5033: [5533],\n",
       " 530: [4786],\n",
       " 418: [4786],\n",
       " 261: [4786],\n",
       " 4477: [5134],\n",
       " 4865: [4855],\n",
       " 3915: [638],\n",
       " 3904: [638],\n",
       " 3304: [638],\n",
       " 253: [4786],\n",
       " 5234: [5208],\n",
       " 3325: [3925],\n",
       " 2725: [3925],\n",
       " 3952: [3352, 4594],\n",
       " 4595: [715],\n",
       " 719: [696],\n",
       " 4057: [4056],\n",
       " 4132: [3532],\n",
       " 5391: [],\n",
       " 5390: [],\n",
       " 5389: [],\n",
       " 5031: [902],\n",
       " 394: [902],\n",
       " 902: [902],\n",
       " 4031: [4029],\n",
       " 5378: [5347],\n",
       " 4729: [715],\n",
       " 5370: [647],\n",
       " 540: [],\n",
       " 4868: [4867],\n",
       " 5380: [5337],\n",
       " 5379: [5337],\n",
       " 3814: [2614],\n",
       " 538: [173],\n",
       " 636: [5152],\n",
       " 5394: [4442]}"
      ]
     },
     "execution_count": 18,
     "metadata": {},
     "output_type": "execute_result"
    }
   ],
   "source": [
    "# loop through the unique products dataframe using its index\n",
    "for i in range(len(unique_pdts_df)):\n",
    "    \n",
    "    # loop through the list of duplicates using its index\n",
    "    for j in range(len(new_dp_list)):\n",
    "        if len(unique_dict[new_dp_list['PRODUCT ID'][j]]) == 0:\n",
    "        \n",
    "            # extract string from the product\n",
    "            str_a  = unique_pdts_df['GENERIC NAME'][i].lower()\n",
    "            str_b = new_dp_list['GENERIC NAME'][j].lower()\n",
    "\n",
    "            # assign ratio to both strings\n",
    "            ratio = fuzz.partial_ratio(str_b, str_a)            \n",
    "\n",
    "            # sent conditon for comparing the series\n",
    "            if ratio >= 81:\n",
    "                unique_dict[new_dp_list['PRODUCT ID'][j]].append(unique_pdts_df['PRODUCT ID'][i])\n",
    "unique_dict\n",
    "\n",
    "    #                 unique_dict[key] = str_b\n",
    "    #                 unique_dict.append([str_a])\n",
    "    #                 print(unique_dict)\n",
    "    #                 unfilled['new_generic_name'][j] = unique_pdts_df['GENERIC NAME'][i]\n",
    "    #                 unfilled['NEW ID'][j] = unique_pdts_df['PRODUCT ID'][i]"
   ]
  },
  {
   "cell_type": "code",
   "execution_count": null,
   "id": "e5aafb78",
   "metadata": {},
   "outputs": [],
   "source": [
    "# loop through the unique products dataframe using its index\n",
    "for i in range(len(unique_pdts_df)):\n",
    "    \n",
    "    # loop through the list of duplicates using its index\n",
    "    for j in range(len(new_dp_list)):\n",
    "        if len(unique_dict[new_dp_list['GENERIC NAME'][j].lower()]) == 0:\n",
    "        \n",
    "            # extract string from the product\n",
    "            str_a  = unique_pdts_df['GENERIC NAME'][i].lower()\n",
    "            str_b = new_dp_list['GENERIC NAME'][j].lower()\n",
    "\n",
    "            # assign ratio to both strings\n",
    "            ratio = fuzz.partial_ratio(str_b, str_a)            \n",
    "\n",
    "            # sent conditon for comparing the series\n",
    "            if ratio >= 81:\n",
    "                unique_dict[new_dp_list['GENERIC NAME'][j].lower()].append(unique_pdts_df['PRODUCT ID'][i])\n",
    "unique_dict"
   ]
  },
  {
   "cell_type": "code",
   "execution_count": null,
   "id": "423cdc0b",
   "metadata": {},
   "outputs": [],
   "source": [
    "unique_dict['miconazole, clebetasol and gentamycin'].append(346)\n",
    "unique_dict['diclofenac 12.5mg suppositories'].append(4334)\n",
    "unique_dict['kabuuti herbal cough syrup'].append(5145)\n",
    "unique_dict['diclofenac tabs'].append(4328)\n",
    "unique_dict['amlodipine besilate,valsatan'].append(5303)"
   ]
  },
  {
   "cell_type": "code",
   "execution_count": 19,
   "id": "2fcc2434",
   "metadata": {},
   "outputs": [
    {
     "data": {
      "text/plain": [
       "4594"
      ]
     },
     "execution_count": 19,
     "metadata": {},
     "output_type": "execute_result"
    }
   ],
   "source": [
    "unique_dict[540].append(346)\n",
    "unique_dict[5391].append(4334)\n",
    "unique_dict[5389].append(4334)\n",
    "unique_dict[5390].append(4334)\n",
    "unique_dict[4672].append(5145)\n",
    "unique_dict[3146].append(4328)\n",
    "unique_dict[3819].append(5303)\n",
    "unique_dict[4729].append(4945)\n",
    "unique_dict[4595].append(4594)\n",
    "unique_dict[3819].pop(0)\n",
    "unique_dict[4595].pop(0)\n",
    "unique_dict[4729].pop(0)\n",
    "unique_dict[3952].pop(1)"
   ]
  },
  {
   "cell_type": "code",
   "execution_count": 20,
   "id": "297b15ca",
   "metadata": {},
   "outputs": [
    {
     "data": {
      "text/plain": [
       "{3951: [3352],\n",
       " 387: [715],\n",
       " 4933: [715],\n",
       " 4942: [715],\n",
       " 3146: [4328],\n",
       " 5312: [830],\n",
       " 5416: [4745],\n",
       " 3819: [5303],\n",
       " 5304: [5303],\n",
       " 5239: [5044],\n",
       " 4685: [4686],\n",
       " 4672: [5145],\n",
       " 5444: [569],\n",
       " 4896: [166],\n",
       " 4888: [166],\n",
       " 209: [166],\n",
       " 5033: [5533],\n",
       " 530: [4786],\n",
       " 418: [4786],\n",
       " 261: [4786],\n",
       " 4477: [5134],\n",
       " 4865: [4855],\n",
       " 3915: [638],\n",
       " 3904: [638],\n",
       " 3304: [638],\n",
       " 253: [4786],\n",
       " 5234: [5208],\n",
       " 3325: [3925],\n",
       " 2725: [3925],\n",
       " 3952: [3352],\n",
       " 4595: [4594],\n",
       " 719: [696],\n",
       " 4057: [4056],\n",
       " 4132: [3532],\n",
       " 5391: [4334],\n",
       " 5390: [4334],\n",
       " 5389: [4334],\n",
       " 5031: [902],\n",
       " 394: [902],\n",
       " 902: [902],\n",
       " 4031: [4029],\n",
       " 5378: [5347],\n",
       " 4729: [4945],\n",
       " 5370: [647],\n",
       " 540: [346],\n",
       " 4868: [4867],\n",
       " 5380: [5337],\n",
       " 5379: [5337],\n",
       " 3814: [2614],\n",
       " 538: [173],\n",
       " 636: [5152],\n",
       " 5394: [4442]}"
      ]
     },
     "execution_count": 20,
     "metadata": {},
     "output_type": "execute_result"
    }
   ],
   "source": [
    "unique_dict"
   ]
  },
  {
   "cell_type": "code",
   "execution_count": null,
   "id": "d70d262d",
   "metadata": {},
   "outputs": [],
   "source": [
    "unique_dict['amlodipine besilate,valsatan'].pop(0)"
   ]
  },
  {
   "cell_type": "code",
   "execution_count": null,
   "id": "fc2d68ba",
   "metadata": {},
   "outputs": [],
   "source": [
    "unique_dict"
   ]
  },
  {
   "cell_type": "code",
   "execution_count": null,
   "id": "010d893f",
   "metadata": {},
   "outputs": [],
   "source": [
    "# loop through the unique products dataframe using its index\n",
    "for i in range(len(unique_pdts_df)):\n",
    "\n",
    "    # loop through the list of duplicates using its index\n",
    "    for j in range(len(unfilled)):\n",
    "        \n",
    "        # extract string from the product\n",
    "        str_a  = unique_pdts_df['GENERIC NAME'][i].lower()\n",
    "        str_b = unfilled['GENERIC NAME'][j].lower()\n",
    "        \n",
    "        # assign ratio to both strings\n",
    "        ratio = fuzz.partial_ratio(str_b, str_a)            \n",
    "        \n",
    "        # sent conditon for comparing the series\n",
    "        if ratio >= 81:\n",
    "            print(str_b, ':', str_a, ':', ratio)\n",
    "            unfilled['new_generic_name'][j] = unique_pdts_df['GENERIC NAME'][i]\n",
    "            unfilled['NEW ID'][j] = unique_pdts_df['PRODUCT ID'][i]            \n",
    "#                 unique_dict[key] = str_b\n",
    "#                 unique_dict.append([str_a])\n",
    "#                 print(unique_dict)\n",
    "#                 unfilled['new_generic_name'][j] = unique_pdts_df['GENERIC NAME'][i]\n",
    "#                 unfilled['NEW ID'][j] = unique_pdts_df['PRODUCT ID'][i]"
   ]
  },
  {
   "cell_type": "code",
   "execution_count": null,
   "id": "3db95faa",
   "metadata": {},
   "outputs": [],
   "source": []
  },
  {
   "cell_type": "code",
   "execution_count": null,
   "id": "6b21113b",
   "metadata": {},
   "outputs": [],
   "source": [
    "# unfilled"
   ]
  },
  {
   "cell_type": "code",
   "execution_count": null,
   "id": "97a4d34c",
   "metadata": {},
   "outputs": [],
   "source": [
    "# combine the dataframes into one dataframe\n",
    "# combined_df = pd.concat([unfilled, filled], axis=0).sort_values('Generic Name')"
   ]
  },
  {
   "cell_type": "code",
   "execution_count": null,
   "id": "5d625baa",
   "metadata": {},
   "outputs": [],
   "source": [
    "# re-index the dataframe\n",
    "# combined_df.reset_index(drop=True, inplace=True)"
   ]
  },
  {
   "cell_type": "code",
   "execution_count": null,
   "id": "5d1ac105",
   "metadata": {},
   "outputs": [],
   "source": [
    "# combined_df"
   ]
  },
  {
   "cell_type": "markdown",
   "id": "55436f01",
   "metadata": {},
   "source": [
    "### The product dataset"
   ]
  },
  {
   "cell_type": "code",
   "execution_count": 21,
   "id": "024dfe98",
   "metadata": {},
   "outputs": [
    {
     "data": {
      "text/plain": [
       "Index(['ID', 'COUNTRY OF ORIGIN', 'FORMULATION',\n",
       "       'RETAIL PRICE PER SMALLEST UNIT', 'RETAIL PRICE PER SMALLEST UNIT.1',\n",
       "       'PACK SIZE', 'GENERIC NAME', 'BRAND NAME', 'STRENGTH', 'eshop_id'],\n",
       "      dtype='object')"
      ]
     },
     "execution_count": 21,
     "metadata": {},
     "output_type": "execute_result"
    }
   ],
   "source": [
    "# investigate the products on columns\n",
    "pdt_df.columns"
   ]
  },
  {
   "cell_type": "code",
   "execution_count": null,
   "id": "8a3b1345",
   "metadata": {},
   "outputs": [],
   "source": [
    "# new_pdt_df= pdt_df.drop(['COUNTRY OF ORIGIN', 'FORMULATION', 'PACK SIZE', 'RETAIL PRICE PER SMALLEST UNIT', \n",
    "#              'RETAIL PRICE PER SMALLEST UNIT.1', 'PACK SIZE', 'STRENGTH', 'eshop_id'], axis=1)"
   ]
  },
  {
   "cell_type": "code",
   "execution_count": 22,
   "id": "bc8b1192",
   "metadata": {},
   "outputs": [
    {
     "data": {
      "text/plain": [
       "ID                                    int64\n",
       "COUNTRY OF ORIGIN                    object\n",
       "FORMULATION                          object\n",
       "RETAIL PRICE PER SMALLEST UNIT      float64\n",
       "RETAIL PRICE PER SMALLEST UNIT.1    float64\n",
       "PACK SIZE                             int64\n",
       "GENERIC NAME                         object\n",
       "BRAND NAME                           object\n",
       "STRENGTH                             object\n",
       "eshop_id                            float64\n",
       "dtype: object"
      ]
     },
     "execution_count": 22,
     "metadata": {},
     "output_type": "execute_result"
    }
   ],
   "source": [
    "# investigate the product's types\n",
    "pdt_df.dtypes"
   ]
  },
  {
   "cell_type": "code",
   "execution_count": null,
   "id": "ae504429",
   "metadata": {},
   "outputs": [],
   "source": [
    "pdt_df.info()"
   ]
  },
  {
   "cell_type": "code",
   "execution_count": null,
   "id": "a09bca58",
   "metadata": {},
   "outputs": [],
   "source": [
    "new_dp_list.head()"
   ]
  },
  {
   "cell_type": "code",
   "execution_count": 23,
   "id": "efedbf86",
   "metadata": {},
   "outputs": [],
   "source": [
    "# change product's id for ease in comparing with other dataframes\n",
    "new_pdt_df = pdt_df.rename(columns={'ID': 'PRODUCT ID'})"
   ]
  },
  {
   "cell_type": "code",
   "execution_count": 24,
   "id": "a15aeb17",
   "metadata": {},
   "outputs": [],
   "source": [
    "# check to find out whether the new_product_df id is identical to the duplicate list id \n",
    "merged_pdt_df = new_pdt_df['PRODUCT ID'].isin(new_dp_list['PRODUCT ID'])"
   ]
  },
  {
   "cell_type": "code",
   "execution_count": 25,
   "id": "9ecaacaa",
   "metadata": {},
   "outputs": [],
   "source": [
    "# drop the identical ids\n",
    "new_pdt_df.drop(new_pdt_df[merged_pdt_df].index, inplace=True)"
   ]
  },
  {
   "cell_type": "code",
   "execution_count": null,
   "id": "d79885df",
   "metadata": {},
   "outputs": [],
   "source": [
    "# checkout the new dataframe\n",
    "new_pdt_df.info()"
   ]
  },
  {
   "cell_type": "code",
   "execution_count": 26,
   "id": "808dad18",
   "metadata": {},
   "outputs": [
    {
     "data": {
      "text/html": [
       "<div>\n",
       "<style scoped>\n",
       "    .dataframe tbody tr th:only-of-type {\n",
       "        vertical-align: middle;\n",
       "    }\n",
       "\n",
       "    .dataframe tbody tr th {\n",
       "        vertical-align: top;\n",
       "    }\n",
       "\n",
       "    .dataframe thead th {\n",
       "        text-align: right;\n",
       "    }\n",
       "</style>\n",
       "<table border=\"1\" class=\"dataframe\">\n",
       "  <thead>\n",
       "    <tr style=\"text-align: right;\">\n",
       "      <th></th>\n",
       "      <th>PRODUCT ID</th>\n",
       "      <th>COUNTRY OF ORIGIN</th>\n",
       "      <th>FORMULATION</th>\n",
       "      <th>RETAIL PRICE PER SMALLEST UNIT</th>\n",
       "      <th>RETAIL PRICE PER SMALLEST UNIT.1</th>\n",
       "      <th>PACK SIZE</th>\n",
       "      <th>GENERIC NAME</th>\n",
       "      <th>BRAND NAME</th>\n",
       "      <th>STRENGTH</th>\n",
       "      <th>eshop_id</th>\n",
       "    </tr>\n",
       "  </thead>\n",
       "  <tbody>\n",
       "  </tbody>\n",
       "</table>\n",
       "</div>"
      ],
      "text/plain": [
       "Empty DataFrame\n",
       "Columns: [PRODUCT ID, COUNTRY OF ORIGIN, FORMULATION, RETAIL PRICE PER SMALLEST UNIT, RETAIL PRICE PER SMALLEST UNIT.1, PACK SIZE, GENERIC NAME, BRAND NAME, STRENGTH, eshop_id]\n",
       "Index: []"
      ]
     },
     "execution_count": 26,
     "metadata": {},
     "output_type": "execute_result"
    }
   ],
   "source": [
    "# test on a product from the duplicates list\n",
    "new_pdt_df[new_pdt_df['PRODUCT ID'] == 3951]"
   ]
  },
  {
   "cell_type": "code",
   "execution_count": null,
   "id": "8a46b61e",
   "metadata": {},
   "outputs": [],
   "source": [
    "# merged_pdt_df[merged_pdt_df['PRODUCT ID'] == 3951]"
   ]
  },
  {
   "cell_type": "markdown",
   "id": "7df176c9",
   "metadata": {},
   "source": [
    "### The batches dataframe"
   ]
  },
  {
   "cell_type": "code",
   "execution_count": null,
   "id": "18d625ee",
   "metadata": {},
   "outputs": [],
   "source": [
    "batches_df.info()"
   ]
  },
  {
   "cell_type": "code",
   "execution_count": 28,
   "id": "227a9b1d",
   "metadata": {},
   "outputs": [
    {
     "data": {
      "text/html": [
       "<div>\n",
       "<style scoped>\n",
       "    .dataframe tbody tr th:only-of-type {\n",
       "        vertical-align: middle;\n",
       "    }\n",
       "\n",
       "    .dataframe tbody tr th {\n",
       "        vertical-align: top;\n",
       "    }\n",
       "\n",
       "    .dataframe thead th {\n",
       "        text-align: right;\n",
       "    }\n",
       "</style>\n",
       "<table border=\"1\" class=\"dataframe\">\n",
       "  <thead>\n",
       "    <tr style=\"text-align: right;\">\n",
       "      <th></th>\n",
       "      <th>PRODUCT ID</th>\n",
       "      <th>id</th>\n",
       "      <th>created</th>\n",
       "      <th>modified</th>\n",
       "      <th>batch_number</th>\n",
       "      <th>cost_price</th>\n",
       "      <th>initial_item_count</th>\n",
       "      <th>item_count</th>\n",
       "      <th>expiration_date</th>\n",
       "      <th>manufacturing_date</th>\n",
       "      <th>product__generic_name</th>\n",
       "      <th>product__brand_name</th>\n",
       "    </tr>\n",
       "  </thead>\n",
       "  <tbody>\n",
       "    <tr>\n",
       "      <th>1678</th>\n",
       "      <td>719</td>\n",
       "      <td>2398</td>\n",
       "      <td>2021-01-09 13:32:19</td>\n",
       "      <td>2021-01-09 13:32:19</td>\n",
       "      <td>1006462</td>\n",
       "      <td>467</td>\n",
       "      <td>280</td>\n",
       "      <td>532</td>\n",
       "      <td>2023-04-30</td>\n",
       "      <td>NaN</td>\n",
       "      <td>Clopidogrel</td>\n",
       "      <td>CLOPIDOGREL 75MG UK</td>\n",
       "    </tr>\n",
       "    <tr>\n",
       "      <th>2022</th>\n",
       "      <td>719</td>\n",
       "      <td>2049</td>\n",
       "      <td>2020-11-22 12:00:25</td>\n",
       "      <td>2020-11-22 12:00:25</td>\n",
       "      <td>PA0830A</td>\n",
       "      <td>467</td>\n",
       "      <td>90</td>\n",
       "      <td>0</td>\n",
       "      <td>2022-12-31</td>\n",
       "      <td>NaN</td>\n",
       "      <td>Clopidogrel</td>\n",
       "      <td>CLOPIDOGREL 75MG UK</td>\n",
       "    </tr>\n",
       "    <tr>\n",
       "      <th>3594</th>\n",
       "      <td>719</td>\n",
       "      <td>449</td>\n",
       "      <td>2020-04-27 15:13:00</td>\n",
       "      <td>2020-11-08 01:43:19</td>\n",
       "      <td>PA1247K</td>\n",
       "      <td>450</td>\n",
       "      <td>0</td>\n",
       "      <td>0</td>\n",
       "      <td>2020-10-31</td>\n",
       "      <td>2020-04-01</td>\n",
       "      <td>Clopidogrel</td>\n",
       "      <td>CLOPIDOGREL 75MG UK</td>\n",
       "    </tr>\n",
       "  </tbody>\n",
       "</table>\n",
       "</div>"
      ],
      "text/plain": [
       "      PRODUCT ID    id              created             modified batch_number  \\\n",
       "1678         719  2398  2021-01-09 13:32:19  2021-01-09 13:32:19      1006462   \n",
       "2022         719  2049  2020-11-22 12:00:25  2020-11-22 12:00:25      PA0830A   \n",
       "3594         719   449  2020-04-27 15:13:00  2020-11-08 01:43:19      PA1247K   \n",
       "\n",
       "      cost_price  initial_item_count  item_count expiration_date  \\\n",
       "1678         467                 280         532      2023-04-30   \n",
       "2022         467                  90           0      2022-12-31   \n",
       "3594         450                   0           0      2020-10-31   \n",
       "\n",
       "     manufacturing_date product__generic_name  product__brand_name  \n",
       "1678                NaN           Clopidogrel  CLOPIDOGREL 75MG UK  \n",
       "2022                NaN           Clopidogrel  CLOPIDOGREL 75MG UK  \n",
       "3594         2020-04-01           Clopidogrel  CLOPIDOGREL 75MG UK  "
      ]
     },
     "execution_count": 28,
     "metadata": {},
     "output_type": "execute_result"
    }
   ],
   "source": [
    "batches_df[batches_df['PRODUCT ID'] == 719]"
   ]
  },
  {
   "cell_type": "code",
   "execution_count": 29,
   "id": "705dc03a",
   "metadata": {},
   "outputs": [
    {
     "name": "stdout",
     "output_type": "stream",
     "text": [
      "<class 'pandas.core.frame.DataFrame'>\n",
      "RangeIndex: 3982 entries, 0 to 3981\n",
      "Data columns (total 13 columns):\n",
      " #   Column                 Non-Null Count  Dtype \n",
      "---  ------                 --------------  ----- \n",
      " 0   PRODUCT ID             3982 non-null   int64 \n",
      " 1   id                     3982 non-null   int64 \n",
      " 2   created                3982 non-null   object\n",
      " 3   modified               3982 non-null   object\n",
      " 4   batch_number           3982 non-null   object\n",
      " 5   cost_price             3982 non-null   int64 \n",
      " 6   initial_item_count     3982 non-null   int64 \n",
      " 7   item_count             3982 non-null   int64 \n",
      " 8   expiration_date        3982 non-null   object\n",
      " 9   manufacturing_date     1179 non-null   object\n",
      " 10  product__generic_name  3982 non-null   object\n",
      " 11  product__brand_name    3982 non-null   object\n",
      " 12  NEW PRODUCT ID         71 non-null     object\n",
      "dtypes: int64(5), object(8)\n",
      "memory usage: 404.5+ KB\n",
      "None\n"
     ]
    }
   ],
   "source": [
    "for key, val in unique_dict.items():\n",
    "    if key in batches_df['PRODUCT ID']:\n",
    "        batches_df['NEW PRODUCT ID'] = batches_df['PRODUCT ID'].map(unique_dict, na_action='ignore')\n",
    "print(batches_df.info())"
   ]
  },
  {
   "cell_type": "code",
   "execution_count": 32,
   "id": "6d8933cb",
   "metadata": {},
   "outputs": [
    {
     "data": {
      "text/html": [
       "<div>\n",
       "<style scoped>\n",
       "    .dataframe tbody tr th:only-of-type {\n",
       "        vertical-align: middle;\n",
       "    }\n",
       "\n",
       "    .dataframe tbody tr th {\n",
       "        vertical-align: top;\n",
       "    }\n",
       "\n",
       "    .dataframe thead th {\n",
       "        text-align: right;\n",
       "    }\n",
       "</style>\n",
       "<table border=\"1\" class=\"dataframe\">\n",
       "  <thead>\n",
       "    <tr style=\"text-align: right;\">\n",
       "      <th></th>\n",
       "      <th>PRODUCT ID</th>\n",
       "      <th>id</th>\n",
       "      <th>created</th>\n",
       "      <th>modified</th>\n",
       "      <th>batch_number</th>\n",
       "      <th>cost_price</th>\n",
       "      <th>initial_item_count</th>\n",
       "      <th>item_count</th>\n",
       "      <th>expiration_date</th>\n",
       "      <th>manufacturing_date</th>\n",
       "      <th>product__generic_name</th>\n",
       "      <th>product__brand_name</th>\n",
       "      <th>NEW PRODUCT ID</th>\n",
       "    </tr>\n",
       "  </thead>\n",
       "  <tbody>\n",
       "    <tr>\n",
       "      <th>1678</th>\n",
       "      <td>719</td>\n",
       "      <td>2398</td>\n",
       "      <td>2021-01-09 13:32:19</td>\n",
       "      <td>2021-01-09 13:32:19</td>\n",
       "      <td>1006462</td>\n",
       "      <td>467</td>\n",
       "      <td>280</td>\n",
       "      <td>532</td>\n",
       "      <td>2023-04-30</td>\n",
       "      <td>NaN</td>\n",
       "      <td>Clopidogrel</td>\n",
       "      <td>CLOPIDOGREL 75MG UK</td>\n",
       "      <td>[696]</td>\n",
       "    </tr>\n",
       "    <tr>\n",
       "      <th>2022</th>\n",
       "      <td>719</td>\n",
       "      <td>2049</td>\n",
       "      <td>2020-11-22 12:00:25</td>\n",
       "      <td>2020-11-22 12:00:25</td>\n",
       "      <td>PA0830A</td>\n",
       "      <td>467</td>\n",
       "      <td>90</td>\n",
       "      <td>0</td>\n",
       "      <td>2022-12-31</td>\n",
       "      <td>NaN</td>\n",
       "      <td>Clopidogrel</td>\n",
       "      <td>CLOPIDOGREL 75MG UK</td>\n",
       "      <td>[696]</td>\n",
       "    </tr>\n",
       "    <tr>\n",
       "      <th>3594</th>\n",
       "      <td>719</td>\n",
       "      <td>449</td>\n",
       "      <td>2020-04-27 15:13:00</td>\n",
       "      <td>2020-11-08 01:43:19</td>\n",
       "      <td>PA1247K</td>\n",
       "      <td>450</td>\n",
       "      <td>0</td>\n",
       "      <td>0</td>\n",
       "      <td>2020-10-31</td>\n",
       "      <td>2020-04-01</td>\n",
       "      <td>Clopidogrel</td>\n",
       "      <td>CLOPIDOGREL 75MG UK</td>\n",
       "      <td>[696]</td>\n",
       "    </tr>\n",
       "  </tbody>\n",
       "</table>\n",
       "</div>"
      ],
      "text/plain": [
       "      PRODUCT ID    id              created             modified batch_number  \\\n",
       "1678         719  2398  2021-01-09 13:32:19  2021-01-09 13:32:19      1006462   \n",
       "2022         719  2049  2020-11-22 12:00:25  2020-11-22 12:00:25      PA0830A   \n",
       "3594         719   449  2020-04-27 15:13:00  2020-11-08 01:43:19      PA1247K   \n",
       "\n",
       "      cost_price  initial_item_count  item_count expiration_date  \\\n",
       "1678         467                 280         532      2023-04-30   \n",
       "2022         467                  90           0      2022-12-31   \n",
       "3594         450                   0           0      2020-10-31   \n",
       "\n",
       "     manufacturing_date product__generic_name  product__brand_name  \\\n",
       "1678                NaN           Clopidogrel  CLOPIDOGREL 75MG UK   \n",
       "2022                NaN           Clopidogrel  CLOPIDOGREL 75MG UK   \n",
       "3594         2020-04-01           Clopidogrel  CLOPIDOGREL 75MG UK   \n",
       "\n",
       "     NEW PRODUCT ID  \n",
       "1678          [696]  \n",
       "2022          [696]  \n",
       "3594          [696]  "
      ]
     },
     "execution_count": 32,
     "metadata": {},
     "output_type": "execute_result"
    }
   ],
   "source": [
    "batches_df[batches_df['PRODUCT ID'] == 719]"
   ]
  },
  {
   "cell_type": "code",
   "execution_count": 33,
   "id": "8bcab74d",
   "metadata": {},
   "outputs": [],
   "source": [
    "new_batches_df = batches_df"
   ]
  },
  {
   "cell_type": "code",
   "execution_count": 35,
   "id": "8c26b713",
   "metadata": {},
   "outputs": [],
   "source": [
    "for key, val in unique_dict.items():\n",
    "    if key in new_batches_df['PRODUCT ID']:\n",
    "        new_batches_df['PRODUCT ID'] = new_batches_df['PRODUCT ID'].replace(new_batches_df['PRODUCT ID'].map(unique_dict, na_action='ignore'))"
   ]
  },
  {
   "cell_type": "code",
   "execution_count": null,
   "id": "af59317a",
   "metadata": {},
   "outputs": [],
   "source": [
    "new_batches_df[new_batches_df['PRODUCT ID'] == ]"
   ]
  },
  {
   "cell_type": "code",
   "execution_count": null,
   "id": "5c398073",
   "metadata": {},
   "outputs": [],
   "source": [
    "batches_df[batches_df['PRODUCT ID'] == 4729]"
   ]
  },
  {
   "cell_type": "code",
   "execution_count": null,
   "id": "57d229a0",
   "metadata": {},
   "outputs": [],
   "source": [
    "batches_df[batches_df['NEW PRODUCT ID'] != NaN ]"
   ]
  },
  {
   "cell_type": "code",
   "execution_count": null,
   "id": "a8e67cf7",
   "metadata": {
    "scrolled": false
   },
   "outputs": [],
   "source": [
    "print(batches_df['PRODUCT ID'].tolist())"
   ]
  },
  {
   "cell_type": "code",
   "execution_count": null,
   "id": "4d3cd659",
   "metadata": {},
   "outputs": [],
   "source": [
    "# cleanup data by renaming pandas series with more meaningfull names\n",
    "batches_df = batches_df.rename(columns={'product__generic_name': 'Generic Name', 'product__brand_name': 'Brand Name'})"
   ]
  },
  {
   "cell_type": "code",
   "execution_count": null,
   "id": "c12af8eb",
   "metadata": {},
   "outputs": [],
   "source": [
    "new_dp_list.info()"
   ]
  },
  {
   "cell_type": "code",
   "execution_count": null,
   "id": "20c1e134",
   "metadata": {},
   "outputs": [],
   "source": [
    "# create a new column on which we will compare our product ids\n",
    "batches_df['NEW ID'] = ''\n",
    "\n",
    "# create a new column on which we will compare our generic names\n",
    "batches_df['new_generic_name'] = ''\n",
    "\n",
    "# loop through the unique products dataframe using its index\n",
    "for i in range(len(unique_pdts_df)):\n",
    "    \n",
    "   # loop through the list of duplicates using its index\n",
    "    for j in range(len(new_dp_list)):\n",
    "        generic_unique = unique_pdts_df['GENERIC NAME'][i].lower()\n",
    "        generic_batch = batches_df['Generic Name'][j].lower()\n",
    "        \n",
    "       # compare the two pandas series on generic names. Coerce them to lowercase for proper comparison\n",
    "        if generic_unique in generic_batch:\n",
    "            \n",
    "            # assign the new ids to the resulting product from unique products loop and do the same for generic name\n",
    "            batches_df['NEW ID'][j] = unique_pdts_df['PRODUCT ID'][i]\n",
    "            batches_df['new_generic_name'][j] = unique_pdts_df['GENERIC NAME'][i]  "
   ]
  },
  {
   "cell_type": "code",
   "execution_count": null,
   "id": "ca871ff7",
   "metadata": {},
   "outputs": [],
   "source": [
    "batches_df.head()"
   ]
  },
  {
   "cell_type": "code",
   "execution_count": null,
   "id": "53fbe734",
   "metadata": {},
   "outputs": [],
   "source": [
    "# subset the rows that were filled\n",
    "filled_batches = batches_df[batches_df['NEW ID'] != '']\n",
    "\n",
    "filled_batches"
   ]
  },
  {
   "cell_type": "code",
   "execution_count": null,
   "id": "54775957",
   "metadata": {},
   "outputs": [],
   "source": [
    "# subset the rows that were not filled\n",
    "unfilled_batches = batches_df[batches_df['NEW ID'] == '']\n",
    "\n",
    "unfilled_batches"
   ]
  },
  {
   "cell_type": "code",
   "execution_count": null,
   "id": "3d34398f",
   "metadata": {},
   "outputs": [],
   "source": [
    "unfilled_batches.reset_index(drop=True, inplace=True)"
   ]
  },
  {
   "cell_type": "code",
   "execution_count": null,
   "id": "33e8918b",
   "metadata": {
    "scrolled": true
   },
   "outputs": [],
   "source": [
    "# loop through the unique products dataframe using its index\n",
    "for i in range(len(unique_pdts_df)):\n",
    "    \n",
    "    # loop through the list of duplicates using its index\n",
    "    for j in range(len(unfilled_batches)):\n",
    "        \n",
    "        # extract string from the product\n",
    "        str_a  = unique_pdts_df['GENERIC NAME'][i]\n",
    "        str_b = unfilled_batches['Generic Name'][j]\n",
    "        \n",
    "        # assign ratio to both strings\n",
    "        ratio = fuzz.partial_ratio(str_b, str_a)\n",
    "     \n",
    "        # sent conditon for comparing the series\n",
    "        if ratio >= 100:\n",
    "            print(str_a, ':', str_b, ':', ratio)            \n",
    "            unfilled_batches['new_generic_name'][j] = unique_pdts_df['GENERIC NAME'][i]\n",
    "            unfilled_batches['NEW ID'][j] = unique_pdts_df['PRODUCT ID'][i]"
   ]
  },
  {
   "cell_type": "code",
   "execution_count": null,
   "id": "4380637d",
   "metadata": {},
   "outputs": [],
   "source": [
    "# loop through the unique products dataframe using its index\n",
    "for i in range(len(unique_pdts_df)):\n",
    "    \n",
    "    # loop through the list of duplicates using its index\n",
    "    for j in range(len(unfilled_batches)):\n",
    "        \n",
    "        # extract string from the product\n",
    "        str_a  = unique_pdts_df['GENERIC NAME'][i]\n",
    "        str_b = unfilled_batches['Generic Name'][j]\n",
    "        unique_brand = unique_pdts_df['BRAND NAME'][i].lower()\n",
    "        batch_brand = batches_df['Brand Name'][j].lower()\n",
    "        \n",
    "        # assign ratio to both strings\n",
    "        first_ratio = fuzz.partial_ratio(str_b, str_a)\n",
    "        second_ratio = fuzz.partial_ratio(batch_brand, unique_brand)\n",
    "     \n",
    "        # sent conditon for comparing the series\n",
    "        if first_ratio >= 80 and second_ratio >= 80:\n",
    "            print(str_a, ':', str_b, ':', first_ratio, second_ratio)            \n",
    "            unfilled_batches['new_generic_name'][j] = unique_pdts_df['GENERIC NAME'][i]\n",
    "            unfilled_batches['NEW ID'][j] = unique_pdts_df['PRODUCT ID'][i]"
   ]
  },
  {
   "cell_type": "code",
   "execution_count": null,
   "id": "72ef8236",
   "metadata": {},
   "outputs": [],
   "source": [
    "unfilled_batches.head()"
   ]
  },
  {
   "cell_type": "code",
   "execution_count": null,
   "id": "befc0d04",
   "metadata": {},
   "outputs": [],
   "source": [
    "unfilled_batches = unfilled_batches[unfilled_batches['NEW ID'] != '']\n",
    "unfilled_batches"
   ]
  },
  {
   "cell_type": "code",
   "execution_count": null,
   "id": "67f21e53",
   "metadata": {},
   "outputs": [],
   "source": [
    "# recipe_df.columns"
   ]
  },
  {
   "cell_type": "code",
   "execution_count": null,
   "id": "6358f6ee",
   "metadata": {},
   "outputs": [],
   "source": [
    "new_recipe_df = recipe_df.drop(['id', 'created', 'modified', 'prescription', 'dosage', 'tablets', 'quantity', 'frequency', \n",
    "                                'duration', 'route', 'price_discount', 'serving_pharmacy', 'price_controller', 'rx_price',\n",
    "                               'external_price', 'requires_approval', 'approved', 'dropped', 'canceling_party', \n",
    "                                'reason_for_cancelation', 'authorized_by_tmcg', 'authorized_by_insurer', 'client_decision', \n",
    "                                'insurer_code'], axis=1)"
   ]
  },
  {
   "cell_type": "code",
   "execution_count": null,
   "id": "2dea8bec",
   "metadata": {},
   "outputs": [],
   "source": [
    "# new_recipe_df.info()"
   ]
  },
  {
   "cell_type": "code",
   "execution_count": null,
   "id": "a4148ba6",
   "metadata": {},
   "outputs": [],
   "source": [
    "# new_recipe_df.head()"
   ]
  },
  {
   "cell_type": "code",
   "execution_count": null,
   "id": "4fc9bb86",
   "metadata": {},
   "outputs": [],
   "source": [
    "dp_list.head()"
   ]
  },
  {
   "cell_type": "code",
   "execution_count": null,
   "id": "54375c92",
   "metadata": {},
   "outputs": [],
   "source": [
    "# unique_pdts_df.info()"
   ]
  },
  {
   "cell_type": "code",
   "execution_count": null,
   "id": "b39ec8dd",
   "metadata": {},
   "outputs": [],
   "source": [
    "# dp_list.columns"
   ]
  },
  {
   "cell_type": "code",
   "execution_count": null,
   "id": "0f2c2f48",
   "metadata": {},
   "outputs": [],
   "source": [
    "# dp_list.info()"
   ]
  },
  {
   "cell_type": "code",
   "execution_count": null,
   "id": "4b5bc5ff",
   "metadata": {},
   "outputs": [],
   "source": [
    "new_dp_list.head()"
   ]
  },
  {
   "cell_type": "code",
   "execution_count": null,
   "id": "91b62e5c",
   "metadata": {
    "scrolled": false
   },
   "outputs": [],
   "source": [
    "new_dp_list.info()"
   ]
  },
  {
   "cell_type": "code",
   "execution_count": null,
   "id": "88398417",
   "metadata": {},
   "outputs": [],
   "source": [
    "# unique_pdts_df.head(49)"
   ]
  },
  {
   "cell_type": "code",
   "execution_count": null,
   "id": "3c45a2ad",
   "metadata": {
    "scrolled": false
   },
   "outputs": [],
   "source": [
    "# new_dp_list['PRODUCT ID'].to_list()"
   ]
  },
  {
   "cell_type": "code",
   "execution_count": null,
   "id": "e41d443b",
   "metadata": {},
   "outputs": [],
   "source": []
  },
  {
   "cell_type": "code",
   "execution_count": null,
   "id": "a3709a0e",
   "metadata": {},
   "outputs": [],
   "source": [
    "new_dp_list.tail()"
   ]
  },
  {
   "cell_type": "code",
   "execution_count": null,
   "id": "86995fe3",
   "metadata": {},
   "outputs": [],
   "source": [
    "new_dp_list.tail()"
   ]
  },
  {
   "cell_type": "code",
   "execution_count": null,
   "id": "32051e14",
   "metadata": {},
   "outputs": [],
   "source": [
    "new_dp_list.info()"
   ]
  },
  {
   "cell_type": "code",
   "execution_count": null,
   "id": "4a67bd76",
   "metadata": {
    "scrolled": false
   },
   "outputs": [],
   "source": [
    "# new_dp_list['PRODUCT ID'].to_list()"
   ]
  },
  {
   "cell_type": "code",
   "execution_count": null,
   "id": "b5557a6b",
   "metadata": {},
   "outputs": [],
   "source": [
    "new_pdt_df = new_pdt_df.rename(columns={'ID': 'PRODUCT ID'})"
   ]
  },
  {
   "cell_type": "code",
   "execution_count": null,
   "id": "18611922",
   "metadata": {},
   "outputs": [],
   "source": [
    "new_pdt_df.head()"
   ]
  },
  {
   "cell_type": "code",
   "execution_count": null,
   "id": "f99625f7",
   "metadata": {},
   "outputs": [],
   "source": [
    "merged_pdt_dup = pd.merge(new_dp_list, new_pdt_df, on=['PRODUCT ID'], how='inner')"
   ]
  },
  {
   "cell_type": "code",
   "execution_count": null,
   "id": "afc090b6",
   "metadata": {},
   "outputs": [],
   "source": [
    "# merged_pdt_dup.head(51)"
   ]
  },
  {
   "cell_type": "code",
   "execution_count": null,
   "id": "fc8f5ec3",
   "metadata": {},
   "outputs": [],
   "source": [
    "merged_batch_dup = pd.merge(new_dp_list, new_batches_df, on=['PRODUCT ID'], how='inner')"
   ]
  },
  {
   "cell_type": "code",
   "execution_count": null,
   "id": "0fd10d1f",
   "metadata": {},
   "outputs": [],
   "source": [
    "merged_batch_dup.info()"
   ]
  },
  {
   "cell_type": "code",
   "execution_count": null,
   "id": "d0795cbd",
   "metadata": {},
   "outputs": [],
   "source": [
    "new_dp_list.shape"
   ]
  },
  {
   "cell_type": "code",
   "execution_count": null,
   "id": "384c8135",
   "metadata": {},
   "outputs": [],
   "source": [
    "# new_recipe_df"
   ]
  },
  {
   "cell_type": "code",
   "execution_count": null,
   "id": "fe194e21",
   "metadata": {},
   "outputs": [],
   "source": [
    "new_recipe_df = new_recipe_df.rename(columns={'product_id': 'PRODUCT ID'})"
   ]
  },
  {
   "cell_type": "code",
   "execution_count": null,
   "id": "fb70d27a",
   "metadata": {},
   "outputs": [],
   "source": [
    "new_recipe_df.head()"
   ]
  },
  {
   "cell_type": "code",
   "execution_count": null,
   "id": "e551b33f",
   "metadata": {},
   "outputs": [],
   "source": [
    "merged_recipe_dup = pd.merge(new_dp_list, new_recipe_df, on=['PRODUCT ID'], how='inner')"
   ]
  },
  {
   "cell_type": "code",
   "execution_count": null,
   "id": "5f2b6441",
   "metadata": {},
   "outputs": [],
   "source": [
    "merged_recipe_dup.info()"
   ]
  },
  {
   "cell_type": "code",
   "execution_count": null,
   "id": "2d5f3036",
   "metadata": {},
   "outputs": [],
   "source": [
    "# new_pdt_df\n",
    "# new_batches_df\n",
    "# new_recipe_df\n",
    "\n",
    "# merged_pdt_dup\n",
    "# merged_batch_dup\n",
    "# merged_recipe_dup"
   ]
  },
  {
   "cell_type": "code",
   "execution_count": null,
   "id": "4340d966",
   "metadata": {},
   "outputs": [],
   "source": [
    "unique_pdts_df.head()"
   ]
  },
  {
   "cell_type": "code",
   "execution_count": null,
   "id": "81c5e663",
   "metadata": {},
   "outputs": [],
   "source": [
    "merged_batch_dup.head()"
   ]
  },
  {
   "cell_type": "code",
   "execution_count": null,
   "id": "eb25e03a",
   "metadata": {},
   "outputs": [],
   "source": [
    "new_batch = merged_batch_dup.replace()"
   ]
  },
  {
   "cell_type": "code",
   "execution_count": null,
   "id": "38308c32",
   "metadata": {},
   "outputs": [],
   "source": [
    "# for prod in merged_batch_dup['Generic Name']:\n",
    "#     if np.where(merged_batch_dup['Generic Name'] == unique_pdts_df['GENERIC NAME'], True, False):\n",
    "#         print(prod)"
   ]
  },
  {
   "cell_type": "code",
   "execution_count": null,
   "id": "b68d9ee9",
   "metadata": {},
   "outputs": [],
   "source": [
    "merged_series = merged_batch_dup['Generic Name']\n",
    "unique_series = unique_pdts_df['GENERIC NAME']"
   ]
  },
  {
   "cell_type": "code",
   "execution_count": null,
   "id": "5ad12649",
   "metadata": {},
   "outputs": [],
   "source": [
    "merged_batch_dup.columns"
   ]
  },
  {
   "cell_type": "code",
   "execution_count": null,
   "id": "a5147cd3",
   "metadata": {},
   "outputs": [],
   "source": [
    "# merged_row = merged_batch_dup.loc[['Montelukast']]\n",
    "# merged_row"
   ]
  },
  {
   "cell_type": "code",
   "execution_count": null,
   "id": "15c3f4cb",
   "metadata": {},
   "outputs": [],
   "source": [
    "merged_batch_dup['Generic Name'].unique()"
   ]
  },
  {
   "cell_type": "code",
   "execution_count": null,
   "id": "1c426f16",
   "metadata": {},
   "outputs": [],
   "source": [
    "unique_pdts_df['GENERIC NAME'].unique()"
   ]
  },
  {
   "cell_type": "code",
   "execution_count": null,
   "id": "6cd2b627",
   "metadata": {},
   "outputs": [],
   "source": [
    "unique_pdts_df.columns"
   ]
  },
  {
   "cell_type": "code",
   "execution_count": null,
   "id": "f5357ed6",
   "metadata": {},
   "outputs": [],
   "source": [
    "pdt_df.head()"
   ]
  },
  {
   "cell_type": "code",
   "execution_count": null,
   "id": "b85755a2",
   "metadata": {},
   "outputs": [],
   "source": [
    "pdt_df['NEW ID'] = \"\""
   ]
  },
  {
   "cell_type": "code",
   "execution_count": null,
   "id": "aea12765",
   "metadata": {},
   "outputs": [],
   "source": [
    "for i in range(len(unique_pdts_df)):\n",
    "    for j in range(len(pdt_df)):\n",
    "#         if unique_pdts_df['GENERIC NAME'][i] == pdt_df['GENERIC NAME'][j]:\n",
    "#             pdt_df['NEW ID'][j] = unique_pdts_df['PRODUCT ID'][i]\n",
    "        if unique_pdts_df['GENERIC NAME'][i].lower() in pdt_df['GENERIC NAME'][j].lower():\n",
    "            pdt_df['NEW ID'][j] = unique_pdts_df['PRODUCT ID'][i]"
   ]
  },
  {
   "cell_type": "code",
   "execution_count": null,
   "id": "f280030f",
   "metadata": {},
   "outputs": [],
   "source": [
    "# unique_pdts_df[unique_pdts_df['GENERIC NAME'] == 'Montelukast']"
   ]
  },
  {
   "cell_type": "code",
   "execution_count": null,
   "id": "c5bc1513",
   "metadata": {},
   "outputs": [],
   "source": [
    "pdt_df.head()"
   ]
  },
  {
   "cell_type": "code",
   "execution_count": null,
   "id": "474f6bc7",
   "metadata": {},
   "outputs": [],
   "source": [
    "unique_pdts_df.head()"
   ]
  },
  {
   "cell_type": "code",
   "execution_count": null,
   "id": "37fc607e",
   "metadata": {},
   "outputs": [],
   "source": [
    "pdt_df[pdt_df['NEW ID'] != \"\"]"
   ]
  },
  {
   "cell_type": "code",
   "execution_count": null,
   "id": "8295f69e",
   "metadata": {
    "scrolled": true
   },
   "outputs": [],
   "source": [
    "list(pdt_df['GENERIC NAME'].unique())"
   ]
  },
  {
   "cell_type": "code",
   "execution_count": null,
   "id": "89affb56",
   "metadata": {},
   "outputs": [],
   "source": [
    "unique_pdts_df['GENERIC NAME'].unique()"
   ]
  },
  {
   "cell_type": "code",
   "execution_count": null,
   "id": "f058cd40",
   "metadata": {},
   "outputs": [],
   "source": [
    "'Montelukast'in(pdt_df['GENERIC NAME'])"
   ]
  },
  {
   "cell_type": "code",
   "execution_count": null,
   "id": "4ccf6fd3",
   "metadata": {},
   "outputs": [],
   "source": []
  },
  {
   "cell_type": "code",
   "execution_count": null,
   "id": "9b5d3cba",
   "metadata": {},
   "outputs": [],
   "source": [
    "new_dp_list.head(20)"
   ]
  },
  {
   "cell_type": "code",
   "execution_count": null,
   "id": "db545799",
   "metadata": {},
   "outputs": [],
   "source": [
    "new_dp_list.columns"
   ]
  },
  {
   "cell_type": "code",
   "execution_count": null,
   "id": "2df2879d",
   "metadata": {},
   "outputs": [],
   "source": []
  },
  {
   "cell_type": "code",
   "execution_count": null,
   "id": "ac4ed5a8",
   "metadata": {},
   "outputs": [],
   "source": [
    "new_dp_list[new_dp_list['Generic Name'] == 'Diclofenac 12.5mg Suppositories']"
   ]
  },
  {
   "cell_type": "code",
   "execution_count": null,
   "id": "59281233",
   "metadata": {},
   "outputs": [],
   "source": [
    "unique_pdts_df[unique_pdts_df['GENERIC NAME'] == 'Diclofenac']"
   ]
  },
  {
   "cell_type": "code",
   "execution_count": null,
   "id": "fb17570f",
   "metadata": {},
   "outputs": [],
   "source": [
    "new_dp_list.head(10)"
   ]
  },
  {
   "cell_type": "code",
   "execution_count": null,
   "id": "a5e2a8b1",
   "metadata": {},
   "outputs": [],
   "source": [
    "print(new_dp_list['Generic Name'])"
   ]
  },
  {
   "cell_type": "code",
   "execution_count": null,
   "id": "3597f5b7",
   "metadata": {},
   "outputs": [],
   "source": [
    "new_dp_list.info()"
   ]
  },
  {
   "cell_type": "code",
   "execution_count": null,
   "id": "004e0515",
   "metadata": {},
   "outputs": [],
   "source": [
    "unique_pdts_df[unique_pdts_df['GENERIC NAME'].str.contains('Loratadine')]"
   ]
  },
  {
   "cell_type": "code",
   "execution_count": null,
   "id": "6581ff9e",
   "metadata": {},
   "outputs": [],
   "source": [
    "pattern = \"+./'\""
   ]
  },
  {
   "cell_type": "code",
   "execution_count": null,
   "id": "5f926c9b",
   "metadata": {},
   "outputs": [],
   "source": [
    "unique_pdts_df.loc['Diclofenac 12.5mg Suppositories', 'GENERIC NAME']"
   ]
  },
  {
   "cell_type": "code",
   "execution_count": null,
   "id": "d3a722e6",
   "metadata": {},
   "outputs": [],
   "source": [
    "#         if unique_pdts_df['GENERIC NAME'][i] == pdt_df['GENERIC NAME'][j]:\n",
    "#             pdt_df['NEW ID'][j] = unique_pdts_df['PRODUCT ID'][i]\n",
    "#         elif new_dp_list['Generic Name'][j].lower().contains(pat=\"+./'\", regex=True) in new_dp_list['Generic Name'][j].lower():\n",
    "#             new_dp_list['NEW ID'][j] = unique_pdts_df['PRODUCT ID'][i]"
   ]
  }
 ],
 "metadata": {
  "kernelspec": {
   "display_name": "Python 3",
   "language": "python",
   "name": "python3"
  },
  "language_info": {
   "codemirror_mode": {
    "name": "ipython",
    "version": 3
   },
   "file_extension": ".py",
   "mimetype": "text/x-python",
   "name": "python",
   "nbconvert_exporter": "python",
   "pygments_lexer": "ipython3",
   "version": "3.8.8"
  }
 },
 "nbformat": 4,
 "nbformat_minor": 5
}
