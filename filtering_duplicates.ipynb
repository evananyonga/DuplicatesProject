{
 "cells": [
  {
   "cell_type": "code",
   "execution_count": 1,
   "id": "e5817582",
   "metadata": {},
   "outputs": [
    {
     "name": "stderr",
     "output_type": "stream",
     "text": [
      "C:\\ProgramData\\Anaconda3\\lib\\site-packages\\fuzzywuzzy\\fuzz.py:11: UserWarning: Using slow pure-python SequenceMatcher. Install python-Levenshtein to remove this warning\n",
      "  warnings.warn('Using slow pure-python SequenceMatcher. Install python-Levenshtein to remove this warning')\n"
     ]
    }
   ],
   "source": [
    "import pandas as pd\n",
    "import numpy as np\n",
    "from fuzzywuzzy import fuzz"
   ]
  },
  {
   "cell_type": "code",
   "execution_count": null,
   "id": "76507cbd",
   "metadata": {},
   "outputs": [],
   "source": [
    "# products_sheet_id = \"1FB2bbvWE2nsf49KO_DkWzbL2hm9r4G8j\"\n",
    "# products_list = \"Tablib%20Dataset\"\n",
    "# url = f\"https://docs.google.com/spreadsheets/d/{products_sheet_id}/gviz/tq?tqx=out:csv&sheet={products_list}\""
   ]
  },
  {
   "cell_type": "code",
   "execution_count": 2,
   "id": "aaabb184",
   "metadata": {},
   "outputs": [],
   "source": [
    "# convert csv datasets into dataframes\n",
    "\n",
    "pdt_df = pd.read_csv('full_products_list.csv')\n",
    "batches_df = pd.read_csv('batches_list.csv')\n",
    "recipe_df = pd.read_csv('recipe_list.csv')"
   ]
  },
  {
   "cell_type": "code",
   "execution_count": 3,
   "id": "9507e956",
   "metadata": {
    "scrolled": false
   },
   "outputs": [],
   "source": [
    "# import excel file from an absolute path with pandas\n",
    "\n",
    "xls = pd.ExcelFile(r'C:\\Users\\NDA\\Desktop\\EVE\\TMCG\\documents\\duplicate_products.xlsx')"
   ]
  },
  {
   "cell_type": "code",
   "execution_count": 4,
   "id": "45fbb8d7",
   "metadata": {},
   "outputs": [],
   "source": [
    "# convert xls datasets on sheet names into dataframes\n",
    "\n",
    "dp_list = pd.read_excel(xls, 'copy_final_list_duplicates')\n",
    "unique_pdts_df = pd.read_excel(xls, 'unique final list')"
   ]
  },
  {
   "cell_type": "code",
   "execution_count": 5,
   "id": "fb3884c1",
   "metadata": {},
   "outputs": [],
   "source": [
    "# drop unwanted columns from the duplicates list dataframe\n",
    "\n",
    "new_dp_list = dp_list.drop(['Unnamed: 1', 'Unnamed: 2', 'Unnamed: 3', 'Unnamed: 4', 'Unnamed: 5', 'Unnamed: 8',\n",
    "                           'Unnamed: 9', 'Unnamed: 10', 'Unnamed: 11', 'Unnamed: 12', 'Unnamed: 13', 'Unnamed: 14',\n",
    "                           'Unnamed: 15', 'Unnamed: 16', 'Unnamed: 17', 'Unnamed: 18', 'Unnamed: 19', 'Unnamed: 20',\n",
    "                           'Unnamed: 21', 'Unnamed: 22', 'Unnamed: 23'], axis=1)"
   ]
  },
  {
   "cell_type": "code",
   "execution_count": 6,
   "id": "27149502",
   "metadata": {},
   "outputs": [],
   "source": [
    "# cleanup data by renaming pandas series with more meaningfull names\n",
    "\n",
    "new_dp_list = new_dp_list.rename(columns={'Eva': 'PRODUCT ID', 'Unnamed: 6': 'Generic Name', 'Unnamed: 7': 'Brand Name'})"
   ]
  },
  {
   "cell_type": "code",
   "execution_count": 7,
   "id": "c6ab8e20",
   "metadata": {},
   "outputs": [],
   "source": [
    "# drop null values based on rows\n",
    "\n",
    "new_dp_list = new_dp_list.dropna(axis='rows')"
   ]
  },
  {
   "cell_type": "code",
   "execution_count": null,
   "id": "77cfb504",
   "metadata": {},
   "outputs": [],
   "source": [
    "# check to see if dataset is now clean \n",
    "\n",
    "new_dp_list.tail()"
   ]
  },
  {
   "cell_type": "code",
   "execution_count": 8,
   "id": "7c21681f",
   "metadata": {},
   "outputs": [],
   "source": [
    "# remove the inverse labels\n",
    "\n",
    "new_dp_list = new_dp_list.drop([new_dp_list.index[-1]])"
   ]
  },
  {
   "cell_type": "code",
   "execution_count": null,
   "id": "25ad35f3",
   "metadata": {},
   "outputs": [],
   "source": [
    "# check to see whether id has numerical values\n",
    "# re-check after running next cell\n",
    "\n",
    "new_dp_list.info()"
   ]
  },
  {
   "cell_type": "code",
   "execution_count": 9,
   "id": "791c66cb",
   "metadata": {},
   "outputs": [],
   "source": [
    "# convert product id into numeric \n",
    "\n",
    "new_dp_list['PRODUCT ID'] = pd.to_numeric(new_dp_list['PRODUCT ID'], errors='ignore')"
   ]
  },
  {
   "cell_type": "code",
   "execution_count": 10,
   "id": "3bb381c7",
   "metadata": {},
   "outputs": [
    {
     "data": {
      "text/html": [
       "<div>\n",
       "<style scoped>\n",
       "    .dataframe tbody tr th:only-of-type {\n",
       "        vertical-align: middle;\n",
       "    }\n",
       "\n",
       "    .dataframe tbody tr th {\n",
       "        vertical-align: top;\n",
       "    }\n",
       "\n",
       "    .dataframe thead th {\n",
       "        text-align: right;\n",
       "    }\n",
       "</style>\n",
       "<table border=\"1\" class=\"dataframe\">\n",
       "  <thead>\n",
       "    <tr style=\"text-align: right;\">\n",
       "      <th></th>\n",
       "      <th>PRODUCT ID</th>\n",
       "      <th>Generic Name</th>\n",
       "      <th>Brand Name</th>\n",
       "    </tr>\n",
       "  </thead>\n",
       "  <tbody>\n",
       "    <tr>\n",
       "      <th>0</th>\n",
       "      <td>3951</td>\n",
       "      <td>Betadine Mouthwash Gargle</td>\n",
       "      <td>Betadine Mouthwash Gargle</td>\n",
       "    </tr>\n",
       "    <tr>\n",
       "      <th>1</th>\n",
       "      <td>387</td>\n",
       "      <td>Montelukast</td>\n",
       "      <td>DENK AIR JUNIOR 5mg</td>\n",
       "    </tr>\n",
       "    <tr>\n",
       "      <th>2</th>\n",
       "      <td>4933</td>\n",
       "      <td>Montelukast Tabs</td>\n",
       "      <td>Denk-air</td>\n",
       "    </tr>\n",
       "    <tr>\n",
       "      <th>3</th>\n",
       "      <td>4942</td>\n",
       "      <td>Montelukast Tabs</td>\n",
       "      <td>Denk-Air Junior</td>\n",
       "    </tr>\n",
       "    <tr>\n",
       "      <th>4</th>\n",
       "      <td>3146</td>\n",
       "      <td>Diclofenac Tabs</td>\n",
       "      <td>Diclomol SR</td>\n",
       "    </tr>\n",
       "  </tbody>\n",
       "</table>\n",
       "</div>"
      ],
      "text/plain": [
       "   PRODUCT ID               Generic Name                 Brand Name\n",
       "0        3951  Betadine Mouthwash Gargle  Betadine Mouthwash Gargle\n",
       "1         387                Montelukast        DENK AIR JUNIOR 5mg\n",
       "2        4933           Montelukast Tabs                   Denk-air\n",
       "3        4942           Montelukast Tabs            Denk-Air Junior\n",
       "4        3146            Diclofenac Tabs                Diclomol SR"
      ]
     },
     "execution_count": 10,
     "metadata": {},
     "output_type": "execute_result"
    }
   ],
   "source": [
    "new_dp_list.head()"
   ]
  },
  {
   "cell_type": "code",
   "execution_count": 11,
   "id": "32411cde",
   "metadata": {},
   "outputs": [
    {
     "data": {
      "text/plain": [
       "Index(['ID', 'COUNTRY OF ORIGIN', 'FORMULATION',\n",
       "       'RETAIL PRICE PER SMALLEST UNIT', 'RETAIL PRICE PER SMALLEST UNIT.1',\n",
       "       'PACK SIZE', 'GENERIC NAME', 'BRAND NAME', 'STRENGTH', 'eshop_id',\n",
       "       'Unnamed: 10', 'Unnamed: 11', 'Unnamed: 12', 'Unnamed: 13',\n",
       "       'Unnamed: 14', 'Unnamed: 15', 'Unnamed: 16', 'Unnamed: 17',\n",
       "       'Unnamed: 18', 'Unnamed: 19', 'Unnamed: 20', 'Unnamed: 21',\n",
       "       'Unnamed: 22', 'Unnamed: 23', 'Unnamed: 24', 'Unnamed: 25'],\n",
       "      dtype='object')"
      ]
     },
     "execution_count": 11,
     "metadata": {},
     "output_type": "execute_result"
    }
   ],
   "source": [
    "# check unique products dataframe\n",
    "\n",
    "unique_pdts_df.columns"
   ]
  },
  {
   "cell_type": "code",
   "execution_count": 12,
   "id": "743e6fb5",
   "metadata": {},
   "outputs": [],
   "source": [
    "# drop unnecessary columns from unique lists\n",
    "\n",
    "unique_pdts_df = unique_pdts_df.drop(['COUNTRY OF ORIGIN', 'FORMULATION', 'RETAIL PRICE PER SMALLEST UNIT', \n",
    "                                      'RETAIL PRICE PER SMALLEST UNIT.1', 'PACK SIZE', 'STRENGTH', 'eshop_id', \n",
    "                                      'Unnamed: 10', 'Unnamed: 11', 'Unnamed: 12', 'Unnamed: 13', 'Unnamed: 14', \n",
    "                                      'Unnamed: 15', 'Unnamed: 16', 'Unnamed: 17', 'Unnamed: 18', 'Unnamed: 19', \n",
    "                                      'Unnamed: 20', 'Unnamed: 21', 'Unnamed: 22', 'Unnamed: 23', 'Unnamed: 24', \n",
    "                                      'Unnamed: 25'], axis=1)"
   ]
  },
  {
   "cell_type": "code",
   "execution_count": 13,
   "id": "40e12ce4",
   "metadata": {},
   "outputs": [
    {
     "data": {
      "text/html": [
       "<div>\n",
       "<style scoped>\n",
       "    .dataframe tbody tr th:only-of-type {\n",
       "        vertical-align: middle;\n",
       "    }\n",
       "\n",
       "    .dataframe tbody tr th {\n",
       "        vertical-align: top;\n",
       "    }\n",
       "\n",
       "    .dataframe thead th {\n",
       "        text-align: right;\n",
       "    }\n",
       "</style>\n",
       "<table border=\"1\" class=\"dataframe\">\n",
       "  <thead>\n",
       "    <tr style=\"text-align: right;\">\n",
       "      <th></th>\n",
       "      <th>ID</th>\n",
       "      <th>GENERIC NAME</th>\n",
       "      <th>BRAND NAME</th>\n",
       "    </tr>\n",
       "  </thead>\n",
       "  <tbody>\n",
       "    <tr>\n",
       "      <th>0</th>\n",
       "      <td>5302</td>\n",
       "      <td>Glyceryl trinitrate</td>\n",
       "      <td>accord 500mcg</td>\n",
       "    </tr>\n",
       "    <tr>\n",
       "      <th>1</th>\n",
       "      <td>3949</td>\n",
       "      <td>Betadine Antiseptic Solution</td>\n",
       "      <td>Betadine Antiseptic Solution</td>\n",
       "    </tr>\n",
       "    <tr>\n",
       "      <th>2</th>\n",
       "      <td>715</td>\n",
       "      <td>Montelukast</td>\n",
       "      <td>DENK AIR 10MG</td>\n",
       "    </tr>\n",
       "    <tr>\n",
       "      <th>3</th>\n",
       "      <td>4328</td>\n",
       "      <td>Diclofenac SR Tabs</td>\n",
       "      <td>Diclomol</td>\n",
       "    </tr>\n",
       "    <tr>\n",
       "      <th>4</th>\n",
       "      <td>830</td>\n",
       "      <td>Doxazosin</td>\n",
       "      <td>DOXAZOSIN 4MG UK</td>\n",
       "    </tr>\n",
       "  </tbody>\n",
       "</table>\n",
       "</div>"
      ],
      "text/plain": [
       "     ID                  GENERIC NAME                    BRAND NAME\n",
       "0  5302           Glyceryl trinitrate                 accord 500mcg\n",
       "1  3949  Betadine Antiseptic Solution  Betadine Antiseptic Solution\n",
       "2   715                   Montelukast                 DENK AIR 10MG\n",
       "3  4328            Diclofenac SR Tabs                      Diclomol\n",
       "4   830                     Doxazosin              DOXAZOSIN 4MG UK"
      ]
     },
     "execution_count": 13,
     "metadata": {},
     "output_type": "execute_result"
    }
   ],
   "source": [
    "unique_pdts_df.head()"
   ]
  },
  {
   "cell_type": "code",
   "execution_count": 14,
   "id": "a90ecca8",
   "metadata": {},
   "outputs": [],
   "source": [
    "# change column name into product id for easy manipulation\n",
    "\n",
    "unique_pdts_df = unique_pdts_df.rename(columns={'ID': 'PRODUCT ID'})"
   ]
  },
  {
   "cell_type": "code",
   "execution_count": 15,
   "id": "1636e170",
   "metadata": {},
   "outputs": [],
   "source": [
    "# give proper indices to the dataset\n",
    "\n",
    "new_dp_list.reset_index(drop=True, inplace=True)"
   ]
  },
  {
   "cell_type": "code",
   "execution_count": 16,
   "id": "71d3f498",
   "metadata": {
    "scrolled": false
   },
   "outputs": [
    {
     "name": "stderr",
     "output_type": "stream",
     "text": [
      "<ipython-input-16-3f3e64898cba>:7: SettingWithCopyWarning: \n",
      "A value is trying to be set on a copy of a slice from a DataFrame\n",
      "\n",
      "See the caveats in the documentation: https://pandas.pydata.org/pandas-docs/stable/user_guide/indexing.html#returning-a-view-versus-a-copy\n",
      "  new_dp_list['NEW ID'][j] = unique_pdts_df['PRODUCT ID'][i]\n",
      "<ipython-input-16-3f3e64898cba>:8: SettingWithCopyWarning: \n",
      "A value is trying to be set on a copy of a slice from a DataFrame\n",
      "\n",
      "See the caveats in the documentation: https://pandas.pydata.org/pandas-docs/stable/user_guide/indexing.html#returning-a-view-versus-a-copy\n",
      "  new_dp_list['new_generic_name'][j] = unique_pdts_df['GENERIC NAME'][i]\n"
     ]
    }
   ],
   "source": [
    "# create a new column on which we will compare our product ids\n",
    "new_dp_list['NEW ID'] = ''\n",
    "\n",
    "# create a new column on which we will compare our generic names\n",
    "new_dp_list['new_generic_name'] = ''\n",
    "\n",
    "# loop through the unique products dataframe using its index\n",
    "for i in range(len(unique_pdts_df)):\n",
    "    \n",
    "   # loop through the list of duplicates using its index\n",
    "    for j in range(len(new_dp_list)):\n",
    "        \n",
    "       # compare the two pandas series on generic names. Coerce them to lowercase for proper comparison\n",
    "        if unique_pdts_df['GENERIC NAME'][i].lower() in new_dp_list['Generic Name'][j].lower():\n",
    "            \n",
    "            # assign the new ids to the resulting product from unique products loop and do the same for generic name\n",
    "            new_dp_list['NEW ID'][j] = unique_pdts_df['PRODUCT ID'][i]\n",
    "            new_dp_list['new_generic_name'][j] = unique_pdts_df['GENERIC NAME'][i]        "
   ]
  },
  {
   "cell_type": "code",
   "execution_count": 17,
   "id": "0102a9b9",
   "metadata": {},
   "outputs": [],
   "source": [
    "# subset the rows that were filled\n",
    "filled = new_dp_list[new_dp_list['NEW ID'] != '']\n",
    "\n",
    "# filled"
   ]
  },
  {
   "cell_type": "code",
   "execution_count": 18,
   "id": "c9f36f9d",
   "metadata": {},
   "outputs": [],
   "source": [
    "# subset the unfilled rows\n",
    "unfilled = new_dp_list[new_dp_list['NEW ID'] == '']\n",
    "\n",
    "# unfilled"
   ]
  },
  {
   "cell_type": "code",
   "execution_count": 19,
   "id": "000f9a87",
   "metadata": {},
   "outputs": [],
   "source": [
    "# re-index the dataframe because dropping out rows has messed up with its indexing\n",
    "\n",
    "unfilled.reset_index(drop=True, inplace=True)"
   ]
  },
  {
   "cell_type": "code",
   "execution_count": 20,
   "id": "fb158521",
   "metadata": {},
   "outputs": [
    {
     "name": "stderr",
     "output_type": "stream",
     "text": [
      "<ipython-input-20-97984ad8ed7d>:7: SettingWithCopyWarning: \n",
      "A value is trying to be set on a copy of a slice from a DataFrame\n",
      "\n",
      "See the caveats in the documentation: https://pandas.pydata.org/pandas-docs/stable/user_guide/indexing.html#returning-a-view-versus-a-copy\n",
      "  unfilled['new_generic_name'][j] = unique_pdts_df['GENERIC NAME'][i]\n",
      "C:\\ProgramData\\Anaconda3\\lib\\site-packages\\IPython\\core\\interactiveshell.py:3437: SettingWithCopyWarning: \n",
      "A value is trying to be set on a copy of a slice from a DataFrame\n",
      "\n",
      "See the caveats in the documentation: https://pandas.pydata.org/pandas-docs/stable/user_guide/indexing.html#returning-a-view-versus-a-copy\n",
      "  exec(code_obj, self.user_global_ns, self.user_ns)\n",
      "<ipython-input-20-97984ad8ed7d>:8: SettingWithCopyWarning: \n",
      "A value is trying to be set on a copy of a slice from a DataFrame\n",
      "\n",
      "See the caveats in the documentation: https://pandas.pydata.org/pandas-docs/stable/user_guide/indexing.html#returning-a-view-versus-a-copy\n",
      "  unfilled['NEW ID'][j] = unique_pdts_df['PRODUCT ID'][i]\n"
     ]
    }
   ],
   "source": [
    "# loop through the unique products dataframe using its index\n",
    "for i in range(len(unique_pdts_df)):\n",
    "    \n",
    "    # loop through the list of duplicates using its index\n",
    "    for j in range(len(unfilled)):\n",
    "        \n",
    "        # extract string from the product\n",
    "        str_a  = unique_pdts_df['GENERIC NAME'][i].lower()\n",
    "        str_b = unfilled['Generic Name'][j].lower()\n",
    "        \n",
    "        # assign ratio to both strings\n",
    "        ratio = fuzz.partial_ratio(str_b, str_a)            \n",
    "        \n",
    "        # sent conditon for comparing the series\n",
    "        if ratio >= 70:\n",
    "            unfilled['new_generic_name'][j] = unique_pdts_df['GENERIC NAME'][i]\n",
    "            unfilled['NEW ID'][j] = unique_pdts_df['PRODUCT ID'][i]"
   ]
  },
  {
   "cell_type": "code",
   "execution_count": 21,
   "id": "5475e387",
   "metadata": {
    "scrolled": false
   },
   "outputs": [],
   "source": [
    "# unfilled"
   ]
  },
  {
   "cell_type": "code",
   "execution_count": 22,
   "id": "f621129b",
   "metadata": {},
   "outputs": [],
   "source": [
    "# combine the dataframes into one dataframe\n",
    "combined_df = pd.concat([unfilled, filled], axis=0).sort_values('Generic Name')"
   ]
  },
  {
   "cell_type": "code",
   "execution_count": 23,
   "id": "73844d3f",
   "metadata": {},
   "outputs": [],
   "source": [
    "# re-index the dataframe\n",
    "combined_df.reset_index(drop=True, inplace=True)"
   ]
  },
  {
   "cell_type": "code",
   "execution_count": 24,
   "id": "591d17a0",
   "metadata": {},
   "outputs": [],
   "source": [
    "# combined_df"
   ]
  },
  {
   "cell_type": "markdown",
   "id": "2a02d3ad",
   "metadata": {},
   "source": [
    "### The product dataset"
   ]
  },
  {
   "cell_type": "code",
   "execution_count": 25,
   "id": "024dfe98",
   "metadata": {},
   "outputs": [
    {
     "data": {
      "text/plain": [
       "Index(['ID', 'COUNTRY OF ORIGIN', 'FORMULATION',\n",
       "       'RETAIL PRICE PER SMALLEST UNIT', 'RETAIL PRICE PER SMALLEST UNIT.1',\n",
       "       'PACK SIZE', 'GENERIC NAME', 'BRAND NAME', 'STRENGTH', 'eshop_id'],\n",
       "      dtype='object')"
      ]
     },
     "execution_count": 25,
     "metadata": {},
     "output_type": "execute_result"
    }
   ],
   "source": [
    "# investigate the products on columns\n",
    "pdt_df.columns"
   ]
  },
  {
   "cell_type": "code",
   "execution_count": null,
   "id": "8a3b1345",
   "metadata": {},
   "outputs": [],
   "source": [
    "# new_pdt_df= pdt_df.drop(['COUNTRY OF ORIGIN', 'FORMULATION', 'PACK SIZE', 'RETAIL PRICE PER SMALLEST UNIT', \n",
    "#              'RETAIL PRICE PER SMALLEST UNIT.1', 'PACK SIZE', 'STRENGTH', 'eshop_id'], axis=1)"
   ]
  },
  {
   "cell_type": "code",
   "execution_count": 26,
   "id": "bc8b1192",
   "metadata": {},
   "outputs": [
    {
     "data": {
      "text/plain": [
       "ID                                    int64\n",
       "COUNTRY OF ORIGIN                    object\n",
       "FORMULATION                          object\n",
       "RETAIL PRICE PER SMALLEST UNIT      float64\n",
       "RETAIL PRICE PER SMALLEST UNIT.1    float64\n",
       "PACK SIZE                             int64\n",
       "GENERIC NAME                         object\n",
       "BRAND NAME                           object\n",
       "STRENGTH                             object\n",
       "eshop_id                            float64\n",
       "dtype: object"
      ]
     },
     "execution_count": 26,
     "metadata": {},
     "output_type": "execute_result"
    }
   ],
   "source": [
    "# investigate the product's types\n",
    "pdt_df.dtypes"
   ]
  },
  {
   "cell_type": "code",
   "execution_count": 27,
   "id": "d33746bb",
   "metadata": {},
   "outputs": [
    {
     "data": {
      "text/html": [
       "<div>\n",
       "<style scoped>\n",
       "    .dataframe tbody tr th:only-of-type {\n",
       "        vertical-align: middle;\n",
       "    }\n",
       "\n",
       "    .dataframe tbody tr th {\n",
       "        vertical-align: top;\n",
       "    }\n",
       "\n",
       "    .dataframe thead th {\n",
       "        text-align: right;\n",
       "    }\n",
       "</style>\n",
       "<table border=\"1\" class=\"dataframe\">\n",
       "  <thead>\n",
       "    <tr style=\"text-align: right;\">\n",
       "      <th></th>\n",
       "      <th>PRODUCT ID</th>\n",
       "      <th>Generic Name</th>\n",
       "      <th>Brand Name</th>\n",
       "      <th>NEW ID</th>\n",
       "      <th>new_generic_name</th>\n",
       "    </tr>\n",
       "  </thead>\n",
       "  <tbody>\n",
       "    <tr>\n",
       "      <th>0</th>\n",
       "      <td>3951</td>\n",
       "      <td>Betadine Mouthwash Gargle</td>\n",
       "      <td>Betadine Mouthwash Gargle</td>\n",
       "      <td>3352</td>\n",
       "      <td>Betadine Mouthwash Gargle</td>\n",
       "    </tr>\n",
       "    <tr>\n",
       "      <th>1</th>\n",
       "      <td>387</td>\n",
       "      <td>Montelukast</td>\n",
       "      <td>DENK AIR JUNIOR 5mg</td>\n",
       "      <td>715</td>\n",
       "      <td>Montelukast</td>\n",
       "    </tr>\n",
       "    <tr>\n",
       "      <th>2</th>\n",
       "      <td>4933</td>\n",
       "      <td>Montelukast Tabs</td>\n",
       "      <td>Denk-air</td>\n",
       "      <td>715</td>\n",
       "      <td>Montelukast</td>\n",
       "    </tr>\n",
       "    <tr>\n",
       "      <th>3</th>\n",
       "      <td>4942</td>\n",
       "      <td>Montelukast Tabs</td>\n",
       "      <td>Denk-Air Junior</td>\n",
       "      <td>715</td>\n",
       "      <td>Montelukast</td>\n",
       "    </tr>\n",
       "    <tr>\n",
       "      <th>4</th>\n",
       "      <td>3146</td>\n",
       "      <td>Diclofenac Tabs</td>\n",
       "      <td>Diclomol SR</td>\n",
       "      <td></td>\n",
       "      <td></td>\n",
       "    </tr>\n",
       "  </tbody>\n",
       "</table>\n",
       "</div>"
      ],
      "text/plain": [
       "   PRODUCT ID               Generic Name                 Brand Name NEW ID  \\\n",
       "0        3951  Betadine Mouthwash Gargle  Betadine Mouthwash Gargle   3352   \n",
       "1         387                Montelukast        DENK AIR JUNIOR 5mg    715   \n",
       "2        4933           Montelukast Tabs                   Denk-air    715   \n",
       "3        4942           Montelukast Tabs            Denk-Air Junior    715   \n",
       "4        3146            Diclofenac Tabs                Diclomol SR          \n",
       "\n",
       "            new_generic_name  \n",
       "0  Betadine Mouthwash Gargle  \n",
       "1                Montelukast  \n",
       "2                Montelukast  \n",
       "3                Montelukast  \n",
       "4                             "
      ]
     },
     "execution_count": 27,
     "metadata": {},
     "output_type": "execute_result"
    }
   ],
   "source": [
    "new_dp_list.head()"
   ]
  },
  {
   "cell_type": "code",
   "execution_count": 28,
   "id": "def4dff0",
   "metadata": {},
   "outputs": [],
   "source": [
    "# change product's id for ease in comparing with other dataframes\n",
    "new_pdt_df = pdt_df.rename(columns={'ID': 'PRODUCT ID'})\n"
   ]
  },
  {
   "cell_type": "code",
   "execution_count": 29,
   "id": "d2c4c77e",
   "metadata": {},
   "outputs": [],
   "source": [
    "# check to find out whether the new_product_df id is identical to the duplicate list id \n",
    "merged_pdt_df = new_pdt_df['PRODUCT ID'].isin(new_dp_list['PRODUCT ID'])"
   ]
  },
  {
   "cell_type": "code",
   "execution_count": 30,
   "id": "0266e679",
   "metadata": {},
   "outputs": [],
   "source": [
    "# drop the identical ids\n",
    "new_pdt_df.drop(new_pdt_df[merged_pdt_df].index, inplace=True)"
   ]
  },
  {
   "cell_type": "code",
   "execution_count": 31,
   "id": "a7dd991d",
   "metadata": {},
   "outputs": [
    {
     "name": "stdout",
     "output_type": "stream",
     "text": [
      "<class 'pandas.core.frame.DataFrame'>\n",
      "Int64Index: 2554 entries, 0 to 2603\n",
      "Data columns (total 10 columns):\n",
      " #   Column                            Non-Null Count  Dtype  \n",
      "---  ------                            --------------  -----  \n",
      " 0   PRODUCT ID                        2554 non-null   int64  \n",
      " 1   COUNTRY OF ORIGIN                 1218 non-null   object \n",
      " 2   FORMULATION                       1484 non-null   object \n",
      " 3   RETAIL PRICE PER SMALLEST UNIT    2532 non-null   float64\n",
      " 4   RETAIL PRICE PER SMALLEST UNIT.1  2483 non-null   float64\n",
      " 5   PACK SIZE                         2554 non-null   int64  \n",
      " 6   GENERIC NAME                      2554 non-null   object \n",
      " 7   BRAND NAME                        2554 non-null   object \n",
      " 8   STRENGTH                          2229 non-null   object \n",
      " 9   eshop_id                          389 non-null    float64\n",
      "dtypes: float64(3), int64(2), object(5)\n",
      "memory usage: 219.5+ KB\n"
     ]
    }
   ],
   "source": [
    "# checkout the new dataframe\n",
    "new_pdt_df.info()"
   ]
  },
  {
   "cell_type": "code",
   "execution_count": 33,
   "id": "1c264424",
   "metadata": {},
   "outputs": [
    {
     "data": {
      "text/html": [
       "<div>\n",
       "<style scoped>\n",
       "    .dataframe tbody tr th:only-of-type {\n",
       "        vertical-align: middle;\n",
       "    }\n",
       "\n",
       "    .dataframe tbody tr th {\n",
       "        vertical-align: top;\n",
       "    }\n",
       "\n",
       "    .dataframe thead th {\n",
       "        text-align: right;\n",
       "    }\n",
       "</style>\n",
       "<table border=\"1\" class=\"dataframe\">\n",
       "  <thead>\n",
       "    <tr style=\"text-align: right;\">\n",
       "      <th></th>\n",
       "      <th>PRODUCT ID</th>\n",
       "      <th>COUNTRY OF ORIGIN</th>\n",
       "      <th>FORMULATION</th>\n",
       "      <th>RETAIL PRICE PER SMALLEST UNIT</th>\n",
       "      <th>RETAIL PRICE PER SMALLEST UNIT.1</th>\n",
       "      <th>PACK SIZE</th>\n",
       "      <th>GENERIC NAME</th>\n",
       "      <th>BRAND NAME</th>\n",
       "      <th>STRENGTH</th>\n",
       "      <th>eshop_id</th>\n",
       "    </tr>\n",
       "  </thead>\n",
       "  <tbody>\n",
       "  </tbody>\n",
       "</table>\n",
       "</div>"
      ],
      "text/plain": [
       "Empty DataFrame\n",
       "Columns: [PRODUCT ID, COUNTRY OF ORIGIN, FORMULATION, RETAIL PRICE PER SMALLEST UNIT, RETAIL PRICE PER SMALLEST UNIT.1, PACK SIZE, GENERIC NAME, BRAND NAME, STRENGTH, eshop_id]\n",
       "Index: []"
      ]
     },
     "execution_count": 33,
     "metadata": {},
     "output_type": "execute_result"
    }
   ],
   "source": [
    "# test on a product from the duplicates list\n",
    "new_pdt_df[new_pdt_df['PRODUCT ID'] == 3951]"
   ]
  },
  {
   "cell_type": "code",
   "execution_count": null,
   "id": "0d56530a",
   "metadata": {},
   "outputs": [],
   "source": [
    "# merged_pdt_df[merged_pdt_df['PRODUCT ID'] == 3951]"
   ]
  },
  {
   "cell_type": "code",
   "execution_count": null,
   "id": "a1903173",
   "metadata": {},
   "outputs": [],
   "source": [
    "### The batches dataframe"
   ]
  },
  {
   "cell_type": "code",
   "execution_count": null,
   "id": "f648efdf",
   "metadata": {},
   "outputs": [],
   "source": [
    "merged_pdt_df.info()"
   ]
  },
  {
   "cell_type": "code",
   "execution_count": null,
   "id": "97fdfa40",
   "metadata": {},
   "outputs": [],
   "source": [
    "new_batches_df= batches_df.drop(['id', 'created', 'modified', 'initial_item_count', \n",
    "             'cost_price', 'item_count', 'expiration_date', 'manufacturing_date'], axis=1)"
   ]
  },
  {
   "cell_type": "code",
   "execution_count": null,
   "id": "18d625ee",
   "metadata": {},
   "outputs": [],
   "source": [
    "# new_batches_df.info()"
   ]
  },
  {
   "cell_type": "code",
   "execution_count": null,
   "id": "67f21e53",
   "metadata": {},
   "outputs": [],
   "source": [
    "# recipe_df.columns"
   ]
  },
  {
   "cell_type": "code",
   "execution_count": null,
   "id": "6358f6ee",
   "metadata": {},
   "outputs": [],
   "source": [
    "new_recipe_df = recipe_df.drop(['id', 'created', 'modified', 'prescription', 'dosage', 'tablets', 'quantity', 'frequency', \n",
    "                                'duration', 'route', 'price_discount', 'serving_pharmacy', 'price_controller', 'rx_price',\n",
    "                               'external_price', 'requires_approval', 'approved', 'dropped', 'canceling_party', \n",
    "                                'reason_for_cancelation', 'authorized_by_tmcg', 'authorized_by_insurer', 'client_decision', \n",
    "                                'insurer_code'], axis=1)"
   ]
  },
  {
   "cell_type": "code",
   "execution_count": null,
   "id": "2dea8bec",
   "metadata": {},
   "outputs": [],
   "source": [
    "# new_recipe_df.info()"
   ]
  },
  {
   "cell_type": "code",
   "execution_count": null,
   "id": "a4148ba6",
   "metadata": {},
   "outputs": [],
   "source": [
    "# new_recipe_df.head()"
   ]
  },
  {
   "cell_type": "code",
   "execution_count": null,
   "id": "4fc9bb86",
   "metadata": {},
   "outputs": [],
   "source": [
    "dp_list.head()"
   ]
  },
  {
   "cell_type": "code",
   "execution_count": null,
   "id": "54375c92",
   "metadata": {},
   "outputs": [],
   "source": [
    "# unique_pdts_df.info()"
   ]
  },
  {
   "cell_type": "code",
   "execution_count": null,
   "id": "b39ec8dd",
   "metadata": {},
   "outputs": [],
   "source": [
    "# dp_list.columns"
   ]
  },
  {
   "cell_type": "code",
   "execution_count": null,
   "id": "0f2c2f48",
   "metadata": {},
   "outputs": [],
   "source": [
    "# dp_list.info()"
   ]
  },
  {
   "cell_type": "code",
   "execution_count": null,
   "id": "4b5bc5ff",
   "metadata": {},
   "outputs": [],
   "source": [
    "new_dp_list.head()"
   ]
  },
  {
   "cell_type": "code",
   "execution_count": null,
   "id": "91b62e5c",
   "metadata": {
    "scrolled": false
   },
   "outputs": [],
   "source": [
    "new_dp_list.info()"
   ]
  },
  {
   "cell_type": "code",
   "execution_count": null,
   "id": "88398417",
   "metadata": {},
   "outputs": [],
   "source": [
    "# unique_pdts_df.head(49)"
   ]
  },
  {
   "cell_type": "code",
   "execution_count": null,
   "id": "3c45a2ad",
   "metadata": {
    "scrolled": false
   },
   "outputs": [],
   "source": [
    "# new_dp_list['PRODUCT ID'].to_list()"
   ]
  },
  {
   "cell_type": "code",
   "execution_count": null,
   "id": "e41d443b",
   "metadata": {},
   "outputs": [],
   "source": []
  },
  {
   "cell_type": "code",
   "execution_count": null,
   "id": "a3709a0e",
   "metadata": {},
   "outputs": [],
   "source": [
    "new_dp_list.tail()"
   ]
  },
  {
   "cell_type": "code",
   "execution_count": null,
   "id": "86995fe3",
   "metadata": {},
   "outputs": [],
   "source": [
    "new_dp_list.tail()"
   ]
  },
  {
   "cell_type": "code",
   "execution_count": null,
   "id": "32051e14",
   "metadata": {},
   "outputs": [],
   "source": [
    "new_dp_list.info()"
   ]
  },
  {
   "cell_type": "code",
   "execution_count": null,
   "id": "4a67bd76",
   "metadata": {
    "scrolled": false
   },
   "outputs": [],
   "source": [
    "# new_dp_list['PRODUCT ID'].to_list()"
   ]
  },
  {
   "cell_type": "code",
   "execution_count": null,
   "id": "b5557a6b",
   "metadata": {},
   "outputs": [],
   "source": [
    "new_pdt_df = new_pdt_df.rename(columns={'ID': 'PRODUCT ID'})"
   ]
  },
  {
   "cell_type": "code",
   "execution_count": null,
   "id": "18611922",
   "metadata": {},
   "outputs": [],
   "source": [
    "new_pdt_df.head()"
   ]
  },
  {
   "cell_type": "code",
   "execution_count": null,
   "id": "f99625f7",
   "metadata": {},
   "outputs": [],
   "source": [
    "merged_pdt_dup = pd.merge(new_dp_list, new_pdt_df, on=['PRODUCT ID'], how='inner')"
   ]
  },
  {
   "cell_type": "code",
   "execution_count": null,
   "id": "afc090b6",
   "metadata": {},
   "outputs": [],
   "source": [
    "# merged_pdt_dup.head(51)"
   ]
  },
  {
   "cell_type": "code",
   "execution_count": null,
   "id": "fc8f5ec3",
   "metadata": {},
   "outputs": [],
   "source": [
    "merged_batch_dup = pd.merge(new_dp_list, new_batches_df, on=['PRODUCT ID'], how='inner')"
   ]
  },
  {
   "cell_type": "code",
   "execution_count": null,
   "id": "0fd10d1f",
   "metadata": {},
   "outputs": [],
   "source": [
    "merged_batch_dup.info()"
   ]
  },
  {
   "cell_type": "code",
   "execution_count": null,
   "id": "d0795cbd",
   "metadata": {},
   "outputs": [],
   "source": [
    "new_dp_list.shape"
   ]
  },
  {
   "cell_type": "code",
   "execution_count": null,
   "id": "384c8135",
   "metadata": {},
   "outputs": [],
   "source": [
    "# new_recipe_df"
   ]
  },
  {
   "cell_type": "code",
   "execution_count": null,
   "id": "fe194e21",
   "metadata": {},
   "outputs": [],
   "source": [
    "new_recipe_df = new_recipe_df.rename(columns={'product_id': 'PRODUCT ID'})"
   ]
  },
  {
   "cell_type": "code",
   "execution_count": null,
   "id": "fb70d27a",
   "metadata": {},
   "outputs": [],
   "source": [
    "new_recipe_df.head()"
   ]
  },
  {
   "cell_type": "code",
   "execution_count": null,
   "id": "e551b33f",
   "metadata": {},
   "outputs": [],
   "source": [
    "merged_recipe_dup = pd.merge(new_dp_list, new_recipe_df, on=['PRODUCT ID'], how='inner')"
   ]
  },
  {
   "cell_type": "code",
   "execution_count": null,
   "id": "5f2b6441",
   "metadata": {},
   "outputs": [],
   "source": [
    "merged_recipe_dup.info()"
   ]
  },
  {
   "cell_type": "code",
   "execution_count": null,
   "id": "2d5f3036",
   "metadata": {},
   "outputs": [],
   "source": [
    "# new_pdt_df\n",
    "# new_batches_df\n",
    "# new_recipe_df\n",
    "\n",
    "# merged_pdt_dup\n",
    "# merged_batch_dup\n",
    "# merged_recipe_dup"
   ]
  },
  {
   "cell_type": "code",
   "execution_count": null,
   "id": "4340d966",
   "metadata": {},
   "outputs": [],
   "source": [
    "unique_pdts_df.head()"
   ]
  },
  {
   "cell_type": "code",
   "execution_count": null,
   "id": "81c5e663",
   "metadata": {},
   "outputs": [],
   "source": [
    "merged_batch_dup.head()"
   ]
  },
  {
   "cell_type": "code",
   "execution_count": null,
   "id": "eb25e03a",
   "metadata": {},
   "outputs": [],
   "source": [
    "new_batch = merged_batch_dup.replace()"
   ]
  },
  {
   "cell_type": "code",
   "execution_count": null,
   "id": "38308c32",
   "metadata": {},
   "outputs": [],
   "source": [
    "# for prod in merged_batch_dup['Generic Name']:\n",
    "#     if np.where(merged_batch_dup['Generic Name'] == unique_pdts_df['GENERIC NAME'], True, False):\n",
    "#         print(prod)"
   ]
  },
  {
   "cell_type": "code",
   "execution_count": null,
   "id": "b68d9ee9",
   "metadata": {},
   "outputs": [],
   "source": [
    "merged_series = merged_batch_dup['Generic Name']\n",
    "unique_series = unique_pdts_df['GENERIC NAME']"
   ]
  },
  {
   "cell_type": "code",
   "execution_count": null,
   "id": "5ad12649",
   "metadata": {},
   "outputs": [],
   "source": [
    "merged_batch_dup.columns"
   ]
  },
  {
   "cell_type": "code",
   "execution_count": null,
   "id": "a5147cd3",
   "metadata": {},
   "outputs": [],
   "source": [
    "# merged_row = merged_batch_dup.loc[['Montelukast']]\n",
    "# merged_row"
   ]
  },
  {
   "cell_type": "code",
   "execution_count": null,
   "id": "15c3f4cb",
   "metadata": {},
   "outputs": [],
   "source": [
    "merged_batch_dup['Generic Name'].unique()"
   ]
  },
  {
   "cell_type": "code",
   "execution_count": null,
   "id": "1c426f16",
   "metadata": {},
   "outputs": [],
   "source": [
    "unique_pdts_df['GENERIC NAME'].unique()"
   ]
  },
  {
   "cell_type": "code",
   "execution_count": null,
   "id": "6cd2b627",
   "metadata": {},
   "outputs": [],
   "source": [
    "unique_pdts_df.columns"
   ]
  },
  {
   "cell_type": "code",
   "execution_count": null,
   "id": "f5357ed6",
   "metadata": {},
   "outputs": [],
   "source": [
    "pdt_df.head()"
   ]
  },
  {
   "cell_type": "code",
   "execution_count": null,
   "id": "a64b08b6",
   "metadata": {},
   "outputs": [],
   "source": [
    "pdt_df['NEW ID'] = \"\""
   ]
  },
  {
   "cell_type": "code",
   "execution_count": null,
   "id": "575e4b4a",
   "metadata": {},
   "outputs": [],
   "source": [
    "for i in range(len(unique_pdts_df)):\n",
    "    for j in range(len(pdt_df)):\n",
    "#         if unique_pdts_df['GENERIC NAME'][i] == pdt_df['GENERIC NAME'][j]:\n",
    "#             pdt_df['NEW ID'][j] = unique_pdts_df['PRODUCT ID'][i]\n",
    "        if unique_pdts_df['GENERIC NAME'][i].lower() in pdt_df['GENERIC NAME'][j].lower():\n",
    "            pdt_df['NEW ID'][j] = unique_pdts_df['PRODUCT ID'][i]"
   ]
  },
  {
   "cell_type": "code",
   "execution_count": null,
   "id": "f280030f",
   "metadata": {},
   "outputs": [],
   "source": [
    "# unique_pdts_df[unique_pdts_df['GENERIC NAME'] == 'Montelukast']"
   ]
  },
  {
   "cell_type": "code",
   "execution_count": null,
   "id": "26753408",
   "metadata": {},
   "outputs": [],
   "source": [
    "pdt_df.head()"
   ]
  },
  {
   "cell_type": "code",
   "execution_count": null,
   "id": "a2c2fca3",
   "metadata": {},
   "outputs": [],
   "source": [
    "unique_pdts_df.head()"
   ]
  },
  {
   "cell_type": "code",
   "execution_count": null,
   "id": "659698fb",
   "metadata": {},
   "outputs": [],
   "source": [
    "pdt_df[pdt_df['NEW ID'] != \"\"]"
   ]
  },
  {
   "cell_type": "code",
   "execution_count": null,
   "id": "e30abb9d",
   "metadata": {
    "scrolled": true
   },
   "outputs": [],
   "source": [
    "list(pdt_df['GENERIC NAME'].unique())"
   ]
  },
  {
   "cell_type": "code",
   "execution_count": null,
   "id": "22ba9c06",
   "metadata": {},
   "outputs": [],
   "source": [
    "unique_pdts_df['GENERIC NAME'].unique()"
   ]
  },
  {
   "cell_type": "code",
   "execution_count": null,
   "id": "c2507029",
   "metadata": {},
   "outputs": [],
   "source": [
    "'Montelukast'in(pdt_df['GENERIC NAME'])"
   ]
  },
  {
   "cell_type": "code",
   "execution_count": null,
   "id": "c802e8ea",
   "metadata": {},
   "outputs": [],
   "source": []
  },
  {
   "cell_type": "code",
   "execution_count": null,
   "id": "da21fdc4",
   "metadata": {},
   "outputs": [],
   "source": [
    "new_dp_list.head(20)"
   ]
  },
  {
   "cell_type": "code",
   "execution_count": null,
   "id": "9cad7e47",
   "metadata": {},
   "outputs": [],
   "source": [
    "new_dp_list.columns"
   ]
  },
  {
   "cell_type": "code",
   "execution_count": null,
   "id": "2a15cd07",
   "metadata": {},
   "outputs": [],
   "source": []
  },
  {
   "cell_type": "code",
   "execution_count": null,
   "id": "56ed099b",
   "metadata": {},
   "outputs": [],
   "source": [
    "new_dp_list[new_dp_list['Generic Name'] == 'Diclofenac 12.5mg Suppositories']"
   ]
  },
  {
   "cell_type": "code",
   "execution_count": null,
   "id": "4782f041",
   "metadata": {},
   "outputs": [],
   "source": [
    "unique_pdts_df[unique_pdts_df['GENERIC NAME'] == 'Diclofenac']"
   ]
  },
  {
   "cell_type": "code",
   "execution_count": null,
   "id": "4904eb3b",
   "metadata": {},
   "outputs": [],
   "source": [
    "new_dp_list.head(10)"
   ]
  },
  {
   "cell_type": "code",
   "execution_count": null,
   "id": "568f8182",
   "metadata": {},
   "outputs": [],
   "source": [
    "print(new_dp_list['Generic Name'])"
   ]
  },
  {
   "cell_type": "code",
   "execution_count": null,
   "id": "252df12e",
   "metadata": {},
   "outputs": [],
   "source": [
    "new_dp_list.info()"
   ]
  },
  {
   "cell_type": "code",
   "execution_count": null,
   "id": "b6cc5f1a",
   "metadata": {},
   "outputs": [],
   "source": [
    "unique_pdts_df[unique_pdts_df['GENERIC NAME'].str.contains('Loratadine')]"
   ]
  },
  {
   "cell_type": "code",
   "execution_count": null,
   "id": "18e009c9",
   "metadata": {},
   "outputs": [],
   "source": [
    "pattern = \"+./'\""
   ]
  },
  {
   "cell_type": "code",
   "execution_count": null,
   "id": "31b3a9ca",
   "metadata": {},
   "outputs": [],
   "source": [
    "unique_pdts_df.loc['Diclofenac 12.5mg Suppositories', 'GENERIC NAME']"
   ]
  },
  {
   "cell_type": "code",
   "execution_count": null,
   "id": "54bd3ae1",
   "metadata": {},
   "outputs": [],
   "source": [
    "#         if unique_pdts_df['GENERIC NAME'][i] == pdt_df['GENERIC NAME'][j]:\n",
    "#             pdt_df['NEW ID'][j] = unique_pdts_df['PRODUCT ID'][i]\n",
    "#         elif new_dp_list['Generic Name'][j].lower().contains(pat=\"+./'\", regex=True) in new_dp_list['Generic Name'][j].lower():\n",
    "#             new_dp_list['NEW ID'][j] = unique_pdts_df['PRODUCT ID'][i]"
   ]
  }
 ],
 "metadata": {
  "kernelspec": {
   "display_name": "Python 3",
   "language": "python",
   "name": "python3"
  },
  "language_info": {
   "codemirror_mode": {
    "name": "ipython",
    "version": 3
   },
   "file_extension": ".py",
   "mimetype": "text/x-python",
   "name": "python",
   "nbconvert_exporter": "python",
   "pygments_lexer": "ipython3",
   "version": "3.8.8"
  }
 },
 "nbformat": 4,
 "nbformat_minor": 5
}
