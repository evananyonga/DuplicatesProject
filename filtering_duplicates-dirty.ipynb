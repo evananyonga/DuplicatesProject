{
 "cells": [
  {
   "cell_type": "code",
   "execution_count": 1,
   "id": "e5817582",
   "metadata": {},
   "outputs": [
    {
     "name": "stderr",
     "output_type": "stream",
     "text": [
      "C:\\ProgramData\\Anaconda3\\lib\\site-packages\\fuzzywuzzy\\fuzz.py:11: UserWarning: Using slow pure-python SequenceMatcher. Install python-Levenshtein to remove this warning\n",
      "  warnings.warn('Using slow pure-python SequenceMatcher. Install python-Levenshtein to remove this warning')\n"
     ]
    }
   ],
   "source": [
    "import pandas as pd\n",
    "import numpy as np\n",
    "from fuzzywuzzy import fuzz"
   ]
  },
  {
   "cell_type": "code",
   "execution_count": null,
   "id": "76507cbd",
   "metadata": {},
   "outputs": [],
   "source": [
    "# products_sheet_id = \"1FB2bbvWE2nsf49KO_DkWzbL2hm9r4G8j\"\n",
    "# products_list = \"Tablib%20Dataset\"\n",
    "# url = f\"https://docs.google.com/spreadsheets/d/{products_sheet_id}/gviz/tq?tqx=out:csv&sheet={products_list}\""
   ]
  },
  {
   "cell_type": "code",
   "execution_count": 2,
   "id": "aaabb184",
   "metadata": {},
   "outputs": [],
   "source": [
    "# convert csv datasets into dataframes\n",
    "\n",
    "pdt_df = pd.read_csv('full_products_list.csv')\n",
    "batches_df = pd.read_csv('batches_list.csv')\n",
    "recipe_df = pd.read_csv('recipe_list.csv')"
   ]
  },
  {
   "cell_type": "code",
   "execution_count": 3,
   "id": "9507e956",
   "metadata": {
    "scrolled": false
   },
   "outputs": [],
   "source": [
    "# import excel file from an absolute path with pandas\n",
    "\n",
    "xls = pd.ExcelFile(r'C:\\Users\\NDA\\Desktop\\EVE\\TMCG\\documents\\duplicate_products.xlsx')"
   ]
  },
  {
   "cell_type": "code",
   "execution_count": 4,
   "id": "45fbb8d7",
   "metadata": {},
   "outputs": [],
   "source": [
    "# convert xls datasets on sheet names into dataframes\n",
    "\n",
    "dp_list = pd.read_excel(xls, 'copy_final_list_duplicates')\n",
    "unique_pdts_df = pd.read_excel(xls, 'unique final list')"
   ]
  },
  {
   "cell_type": "code",
   "execution_count": 5,
   "id": "fb3884c1",
   "metadata": {},
   "outputs": [],
   "source": [
    "# drop unwanted columns from the duplicates list dataframe\n",
    "\n",
    "new_dp_list = dp_list.drop(['Unnamed: 1', 'Unnamed: 2', 'Unnamed: 3', 'Unnamed: 4', 'Unnamed: 5', 'Unnamed: 8',\n",
    "                           'Unnamed: 9', 'Unnamed: 10', 'Unnamed: 11', 'Unnamed: 12', 'Unnamed: 13', 'Unnamed: 14',\n",
    "                           'Unnamed: 15', 'Unnamed: 16', 'Unnamed: 17', 'Unnamed: 18', 'Unnamed: 19', 'Unnamed: 20',\n",
    "                           'Unnamed: 21', 'Unnamed: 22', 'Unnamed: 23'], axis=1)"
   ]
  },
  {
   "cell_type": "code",
   "execution_count": 6,
   "id": "27149502",
   "metadata": {},
   "outputs": [],
   "source": [
    "# cleanup data by renaming pandas series with more meaningfull names\n",
    "\n",
    "new_dp_list = new_dp_list.rename(columns={'Eva': 'PRODUCT ID', 'Unnamed: 6': 'GENERIC NAME', 'Unnamed: 7': 'BRAND NAME'})"
   ]
  },
  {
   "cell_type": "code",
   "execution_count": 7,
   "id": "c6ab8e20",
   "metadata": {},
   "outputs": [],
   "source": [
    "# drop null values based on rows\n",
    "\n",
    "new_dp_list = new_dp_list.dropna(axis='rows')"
   ]
  },
  {
   "cell_type": "code",
   "execution_count": null,
   "id": "9ab2e92d",
   "metadata": {},
   "outputs": [],
   "source": [
    "# check to see if dataset is now clean \n",
    "\n",
    "new_dp_list.tail()"
   ]
  },
  {
   "cell_type": "code",
   "execution_count": 8,
   "id": "7c21681f",
   "metadata": {},
   "outputs": [],
   "source": [
    "# remove the inverse labels\n",
    "\n",
    "new_dp_list = new_dp_list.drop([new_dp_list.index[-1]])"
   ]
  },
  {
   "cell_type": "code",
   "execution_count": null,
   "id": "b9e7ff43",
   "metadata": {},
   "outputs": [],
   "source": [
    "# check to see whether id has numerical values\n",
    "# re-check after running next cell\n",
    "\n",
    "new_dp_list.info()"
   ]
  },
  {
   "cell_type": "code",
   "execution_count": 9,
   "id": "791c66cb",
   "metadata": {},
   "outputs": [],
   "source": [
    "# convert product id into numeric \n",
    "\n",
    "new_dp_list['PRODUCT ID'] = pd.to_numeric(new_dp_list['PRODUCT ID'], errors='ignore')"
   ]
  },
  {
   "cell_type": "code",
   "execution_count": null,
   "id": "2e316dbd",
   "metadata": {},
   "outputs": [],
   "source": [
    "# new_row = unique_pdts_df.iloc[14]\n",
    "# new_row"
   ]
  },
  {
   "cell_type": "code",
   "execution_count": null,
   "id": "645026d6",
   "metadata": {},
   "outputs": [],
   "source": [
    "# new_dp_list = new_dp_list.append(new_row, ignore_index=True)"
   ]
  },
  {
   "cell_type": "code",
   "execution_count": null,
   "id": "3bb381c7",
   "metadata": {},
   "outputs": [],
   "source": [
    "new_dp_list.head()"
   ]
  },
  {
   "cell_type": "code",
   "execution_count": null,
   "id": "32411cde",
   "metadata": {},
   "outputs": [],
   "source": [
    "# check unique products dataframe\n",
    "\n",
    "unique_pdts_df.columns"
   ]
  },
  {
   "cell_type": "code",
   "execution_count": 10,
   "id": "743e6fb5",
   "metadata": {},
   "outputs": [],
   "source": [
    "# drop unnecessary columns from unique lists\n",
    "\n",
    "unique_pdts_df = unique_pdts_df.drop(['COUNTRY OF ORIGIN', 'FORMULATION', 'RETAIL PRICE PER SMALLEST UNIT', \n",
    "                                      'RETAIL PRICE PER SMALLEST UNIT.1', 'PACK SIZE', 'STRENGTH', 'eshop_id', \n",
    "                                      'Unnamed: 10', 'Unnamed: 11', 'Unnamed: 12', 'Unnamed: 13', 'Unnamed: 14', \n",
    "                                      'Unnamed: 15', 'Unnamed: 16', 'Unnamed: 17', 'Unnamed: 18', 'Unnamed: 19', \n",
    "                                      'Unnamed: 20', 'Unnamed: 21', 'Unnamed: 22', 'Unnamed: 23', 'Unnamed: 24', \n",
    "                                      'Unnamed: 25'], axis=1)"
   ]
  },
  {
   "cell_type": "code",
   "execution_count": 11,
   "id": "a90ecca8",
   "metadata": {},
   "outputs": [],
   "source": [
    "# change column name into product id for easy manipulation\n",
    "\n",
    "unique_pdts_df = unique_pdts_df.rename(columns={'ID': 'PRODUCT ID'})"
   ]
  },
  {
   "cell_type": "code",
   "execution_count": null,
   "id": "27241ef3",
   "metadata": {},
   "outputs": [],
   "source": [
    "# unique_pdts_df = unique_pdts_df.drop(labels=14, axis=0)"
   ]
  },
  {
   "cell_type": "code",
   "execution_count": null,
   "id": "b7c930dd",
   "metadata": {},
   "outputs": [],
   "source": [
    "# unique_pdts_df.reset_index(drop=True, inplace=True)"
   ]
  },
  {
   "cell_type": "code",
   "execution_count": null,
   "id": "2ed69a7d",
   "metadata": {},
   "outputs": [],
   "source": [
    "unique_pdts_df"
   ]
  },
  {
   "cell_type": "code",
   "execution_count": 12,
   "id": "56131008",
   "metadata": {},
   "outputs": [],
   "source": [
    "# give proper indices to the dataset\n",
    "\n",
    "new_dp_list.reset_index(drop=True, inplace=True)"
   ]
  },
  {
   "cell_type": "code",
   "execution_count": null,
   "id": "c44a9eb6",
   "metadata": {
    "scrolled": false
   },
   "outputs": [],
   "source": [
    "# create a new column on which we will compare our product ids\n",
    "new_dp_list['NEW ID'] = ''\n",
    "\n",
    "# create a new column on which we will compare our generic names\n",
    "new_dp_list['new_generic_name'] = ''\n",
    "\n",
    "# loop through the unique products dataframe using its index\n",
    "for i in range(len(unique_pdts_df)):\n",
    "    \n",
    "   # loop through the list of duplicates using its index\n",
    "    for j in range(len(new_dp_list)):\n",
    "        \n",
    "       # compare the two pandas series on generic names. Coerce them to lowercase for proper comparison\n",
    "        if unique_pdts_df['GENERIC NAME'][i].lower() in new_dp_list['GENERIC NAME'][j].lower():\n",
    "            \n",
    "            # assign the new ids to the resulting product from unique products loop and do the same for generic name\n",
    "            new_dp_list['NEW ID'][j] = unique_pdts_df['PRODUCT ID'][i]\n",
    "            new_dp_list['new_generic_name'][j] = unique_pdts_df['GENERIC NAME'][i]        "
   ]
  },
  {
   "cell_type": "code",
   "execution_count": null,
   "id": "2373fe61",
   "metadata": {},
   "outputs": [],
   "source": [
    "# subset the rows that were filled\n",
    "filled = new_dp_list[new_dp_list['NEW ID'] != '']\n",
    "\n",
    "# filled"
   ]
  },
  {
   "cell_type": "code",
   "execution_count": null,
   "id": "31f6f39a",
   "metadata": {},
   "outputs": [],
   "source": [
    "# subset the unfilled rows\n",
    "unfilled = new_dp_list[new_dp_list['NEW ID'] == '']\n",
    "\n",
    "# unfilled"
   ]
  },
  {
   "cell_type": "code",
   "execution_count": null,
   "id": "d1515dbe",
   "metadata": {},
   "outputs": [],
   "source": [
    "# re-index the dataframe because dropping out rows has messed up with its indexing\n",
    "\n",
    "unfilled.reset_index(drop=True, inplace=True)"
   ]
  },
  {
   "cell_type": "code",
   "execution_count": null,
   "id": "ae0797da",
   "metadata": {},
   "outputs": [],
   "source": [
    "# unique_pdts_df"
   ]
  },
  {
   "cell_type": "code",
   "execution_count": null,
   "id": "9b21216a",
   "metadata": {},
   "outputs": [],
   "source": [
    "new_dp_list"
   ]
  },
  {
   "cell_type": "code",
   "execution_count": null,
   "id": "7280d129",
   "metadata": {},
   "outputs": [],
   "source": [
    "new_dp_list.head()"
   ]
  },
  {
   "cell_type": "code",
   "execution_count": 13,
   "id": "7a0c07ca",
   "metadata": {},
   "outputs": [
    {
     "data": {
      "text/plain": [
       "{3951: [3352],\n",
       " 387: [715],\n",
       " 4933: [715],\n",
       " 4942: [715],\n",
       " 3146: [],\n",
       " 5312: [830],\n",
       " 5416: [],\n",
       " 3819: [],\n",
       " 5304: [5303],\n",
       " 5239: [],\n",
       " 4685: [4686],\n",
       " 4672: [],\n",
       " 5444: [569],\n",
       " 4896: [166],\n",
       " 4888: [166],\n",
       " 209: [166],\n",
       " 5033: [5533],\n",
       " 530: [],\n",
       " 418: [],\n",
       " 261: [],\n",
       " 4477: [5134],\n",
       " 4865: [4855],\n",
       " 3915: [638],\n",
       " 3904: [638],\n",
       " 3304: [638],\n",
       " 253: [],\n",
       " 5234: [],\n",
       " 3325: [3925],\n",
       " 2725: [3925],\n",
       " 3952: [3352, 4594],\n",
       " 4595: [715],\n",
       " 719: [696],\n",
       " 4057: [4056],\n",
       " 4132: [3532],\n",
       " 5391: [],\n",
       " 5390: [],\n",
       " 5389: [],\n",
       " 5031: [902],\n",
       " 394: [902],\n",
       " 902: [902],\n",
       " 4031: [4029],\n",
       " 5378: [5347],\n",
       " 4729: [715],\n",
       " 5370: [647],\n",
       " 540: [],\n",
       " 4868: [4867],\n",
       " 5380: [],\n",
       " 5379: [],\n",
       " 3814: [2614],\n",
       " 538: [173],\n",
       " 636: [5152],\n",
       " 5394: [4442]}"
      ]
     },
     "execution_count": 13,
     "metadata": {},
     "output_type": "execute_result"
    }
   ],
   "source": [
    "unique_dict = {k:[] for k in new_dp_list['PRODUCT ID']}\n",
    "\n",
    "for i in range(len(unique_pdts_df)):\n",
    "    \n",
    "   # loop through the list of duplicates using its index\n",
    "    for j in range(len(new_dp_list)):\n",
    "        \n",
    "       # compare the two pandas series on generic names. Coerce them to lowercase for proper comparison\n",
    "        if unique_pdts_df['GENERIC NAME'][i].lower() in new_dp_list['GENERIC NAME'][j].lower():\n",
    "            \n",
    "            unique_dict[new_dp_list['PRODUCT ID'][j]].append(unique_pdts_df['PRODUCT ID'][i])\n",
    "            \n",
    "unique_dict\n",
    "\n",
    "# loop through the unique products dataframe using its index\n",
    "# for i in range(len(unique_pdts_df)):\n",
    "# #     print(unique_dict)\n",
    "    \n",
    "#     for key, val in unique_dict.items():\n",
    "# #         if unique_pdts_df['GENERIC NAME'][i].lower() in new_dp_list['Generic Name'][j].lower():\n",
    "#         val.append(unique_pdts_df['PRODUCT ID'][i])\n",
    "# #         print(val)\n",
    "       "
   ]
  },
  {
   "cell_type": "code",
   "execution_count": null,
   "id": "a4fac81f",
   "metadata": {},
   "outputs": [],
   "source": [
    "unique_dict = {k.lower():[] for k in new_dp_list['GENERIC NAME']}\n",
    "\n",
    "for i in range(len(unique_pdts_df)):\n",
    "    \n",
    "   # loop through the list of duplicates using its index\n",
    "    for j in range(len(new_dp_list)):\n",
    "        \n",
    "       # compare the two pandas series on generic names. Coerce them to lowercase for proper comparison\n",
    "        if unique_pdts_df['GENERIC NAME'][i].lower() in new_dp_list['GENERIC NAME'][j].lower():\n",
    "            \n",
    "            unique_dict[new_dp_list['GENERIC NAME'][j].lower()].append(unique_pdts_df['PRODUCT ID'][i])\n",
    "            \n",
    "unique_dict"
   ]
  },
  {
   "cell_type": "code",
   "execution_count": 15,
   "id": "28cb7191",
   "metadata": {
    "scrolled": false
   },
   "outputs": [
    {
     "data": {
      "text/plain": [
       "{3951: [3352],\n",
       " 387: [715],\n",
       " 4933: [715],\n",
       " 4942: [715],\n",
       " 3146: [],\n",
       " 5312: [830],\n",
       " 5416: [4745],\n",
       " 3819: [3816],\n",
       " 5304: [5303],\n",
       " 5239: [5044],\n",
       " 4685: [4686],\n",
       " 4672: [],\n",
       " 5444: [569],\n",
       " 4896: [166],\n",
       " 4888: [166],\n",
       " 209: [166],\n",
       " 5033: [5533],\n",
       " 530: [4786],\n",
       " 418: [4786],\n",
       " 261: [4786],\n",
       " 4477: [5134],\n",
       " 4865: [4855],\n",
       " 3915: [638],\n",
       " 3904: [638],\n",
       " 3304: [638],\n",
       " 253: [4786],\n",
       " 5234: [5208],\n",
       " 3325: [3925],\n",
       " 2725: [3925],\n",
       " 3952: [3352, 4594],\n",
       " 4595: [715],\n",
       " 719: [696],\n",
       " 4057: [4056],\n",
       " 4132: [3532],\n",
       " 5391: [],\n",
       " 5390: [],\n",
       " 5389: [],\n",
       " 5031: [902],\n",
       " 394: [902],\n",
       " 902: [902],\n",
       " 4031: [4029],\n",
       " 5378: [5347],\n",
       " 4729: [715],\n",
       " 5370: [647],\n",
       " 540: [],\n",
       " 4868: [4867],\n",
       " 5380: [5337],\n",
       " 5379: [5337],\n",
       " 3814: [2614],\n",
       " 538: [173],\n",
       " 636: [5152],\n",
       " 5394: [4442]}"
      ]
     },
     "execution_count": 15,
     "metadata": {},
     "output_type": "execute_result"
    }
   ],
   "source": [
    "# loop through the unique products dataframe using its index\n",
    "for i in range(len(unique_pdts_df)):\n",
    "    \n",
    "    # loop through the list of duplicates using its index\n",
    "    for j in range(len(new_dp_list)):\n",
    "        if len(unique_dict[new_dp_list['PRODUCT ID'][j]]) == 0:\n",
    "        \n",
    "            # extract string from the product\n",
    "            str_a  = unique_pdts_df['GENERIC NAME'][i].lower()\n",
    "            str_b = new_dp_list['GENERIC NAME'][j].lower()\n",
    "\n",
    "            # assign ratio to both strings\n",
    "            ratio = fuzz.partial_ratio(str_b, str_a)            \n",
    "\n",
    "            # sent conditon for comparing the series\n",
    "            if ratio >= 81:\n",
    "                unique_dict[new_dp_list['PRODUCT ID'][j]].append(unique_pdts_df['PRODUCT ID'][i])\n",
    "unique_dict\n",
    "\n",
    "    #                 unique_dict[key] = str_b\n",
    "    #                 unique_dict.append([str_a])\n",
    "    #                 print(unique_dict)\n",
    "    #                 unfilled['new_generic_name'][j] = unique_pdts_df['GENERIC NAME'][i]\n",
    "    #                 unfilled['NEW ID'][j] = unique_pdts_df['PRODUCT ID'][i]"
   ]
  },
  {
   "cell_type": "code",
   "execution_count": 14,
   "id": "558ec867",
   "metadata": {},
   "outputs": [
    {
     "ename": "KeyError",
     "evalue": "'betadine mouthwash gargle'",
     "output_type": "error",
     "traceback": [
      "\u001b[1;31m---------------------------------------------------------------------------\u001b[0m",
      "\u001b[1;31mKeyError\u001b[0m                                  Traceback (most recent call last)",
      "\u001b[1;32m<ipython-input-14-1149c1623883>\u001b[0m in \u001b[0;36m<module>\u001b[1;34m\u001b[0m\n\u001b[0;32m      4\u001b[0m     \u001b[1;31m# loop through the list of duplicates using its index\u001b[0m\u001b[1;33m\u001b[0m\u001b[1;33m\u001b[0m\u001b[1;33m\u001b[0m\u001b[0m\n\u001b[0;32m      5\u001b[0m     \u001b[1;32mfor\u001b[0m \u001b[0mj\u001b[0m \u001b[1;32min\u001b[0m \u001b[0mrange\u001b[0m\u001b[1;33m(\u001b[0m\u001b[0mlen\u001b[0m\u001b[1;33m(\u001b[0m\u001b[0mnew_dp_list\u001b[0m\u001b[1;33m)\u001b[0m\u001b[1;33m)\u001b[0m\u001b[1;33m:\u001b[0m\u001b[1;33m\u001b[0m\u001b[1;33m\u001b[0m\u001b[0m\n\u001b[1;32m----> 6\u001b[1;33m         \u001b[1;32mif\u001b[0m \u001b[0mlen\u001b[0m\u001b[1;33m(\u001b[0m\u001b[0munique_dict\u001b[0m\u001b[1;33m[\u001b[0m\u001b[0mnew_dp_list\u001b[0m\u001b[1;33m[\u001b[0m\u001b[1;34m'GENERIC NAME'\u001b[0m\u001b[1;33m]\u001b[0m\u001b[1;33m[\u001b[0m\u001b[0mj\u001b[0m\u001b[1;33m]\u001b[0m\u001b[1;33m.\u001b[0m\u001b[0mlower\u001b[0m\u001b[1;33m(\u001b[0m\u001b[1;33m)\u001b[0m\u001b[1;33m]\u001b[0m\u001b[1;33m)\u001b[0m \u001b[1;33m==\u001b[0m \u001b[1;36m0\u001b[0m\u001b[1;33m:\u001b[0m\u001b[1;33m\u001b[0m\u001b[1;33m\u001b[0m\u001b[0m\n\u001b[0m\u001b[0;32m      7\u001b[0m \u001b[1;33m\u001b[0m\u001b[0m\n\u001b[0;32m      8\u001b[0m             \u001b[1;31m# extract string from the product\u001b[0m\u001b[1;33m\u001b[0m\u001b[1;33m\u001b[0m\u001b[1;33m\u001b[0m\u001b[0m\n",
      "\u001b[1;31mKeyError\u001b[0m: 'betadine mouthwash gargle'"
     ]
    }
   ],
   "source": [
    "# loop through the unique products dataframe using its index\n",
    "for i in range(len(unique_pdts_df)):\n",
    "    \n",
    "    # loop through the list of duplicates using its index\n",
    "    for j in range(len(new_dp_list)):\n",
    "        if len(unique_dict[new_dp_list['GENERIC NAME'][j].lower()]) == 0:\n",
    "        \n",
    "            # extract string from the product\n",
    "            str_a  = unique_pdts_df['GENERIC NAME'][i].lower()\n",
    "            str_b = new_dp_list['GENERIC NAME'][j].lower()\n",
    "\n",
    "            # assign ratio to both strings\n",
    "            ratio = fuzz.partial_ratio(str_b, str_a)            \n",
    "\n",
    "            # sent conditon for comparing the series\n",
    "            if ratio >= 81:\n",
    "                unique_dict[new_dp_list['GENERIC NAME'][j].lower()].append(unique_pdts_df['PRODUCT ID'][i])\n",
    "unique_dict"
   ]
  },
  {
   "cell_type": "code",
   "execution_count": null,
   "id": "366cf21e",
   "metadata": {},
   "outputs": [],
   "source": [
    "unique_dict['miconazole, clebetasol and gentamycin'].append(346)\n",
    "unique_dict['diclofenac 12.5mg suppositories'].append(4334)\n",
    "unique_dict['kabuuti herbal cough syrup'].append(5145)\n",
    "unique_dict['diclofenac tabs'].append(4328)\n",
    "unique_dict['amlodipine besilate,valsatan'].append(5303)"
   ]
  },
  {
   "cell_type": "code",
   "execution_count": 16,
   "id": "9815f1ad",
   "metadata": {},
   "outputs": [
    {
     "data": {
      "text/plain": [
       "4594"
      ]
     },
     "execution_count": 16,
     "metadata": {},
     "output_type": "execute_result"
    }
   ],
   "source": [
    "unique_dict[540].append(346)\n",
    "unique_dict[5391].append(4334)\n",
    "unique_dict[5389].append(4334)\n",
    "unique_dict[5390].append(4334)\n",
    "unique_dict[4672].append(5145)\n",
    "unique_dict[3146].append(4328)\n",
    "unique_dict[3819].append(5303)\n",
    "unique_dict[4729].append(4945)\n",
    "unique_dict[4595].append(4594)\n",
    "unique_dict[3819].pop(0)\n",
    "unique_dict[4595].pop(0)\n",
    "unique_dict[4729].pop(0)\n",
    "unique_dict[3952].pop(1)"
   ]
  },
  {
   "cell_type": "code",
   "execution_count": null,
   "id": "41463f9d",
   "metadata": {},
   "outputs": [],
   "source": [
    "unique_dict['amlodipine besilate,valsatan'].pop(0)"
   ]
  },
  {
   "cell_type": "code",
   "execution_count": null,
   "id": "1eddd7ff",
   "metadata": {},
   "outputs": [],
   "source": [
    "unique_dict"
   ]
  },
  {
   "cell_type": "code",
   "execution_count": null,
   "id": "faf22240",
   "metadata": {},
   "outputs": [],
   "source": [
    "# loop through the unique products dataframe using its index\n",
    "for i in range(len(unique_pdts_df)):\n",
    "\n",
    "    # loop through the list of duplicates using its index\n",
    "    for j in range(len(unfilled)):\n",
    "        \n",
    "        # extract string from the product\n",
    "        str_a  = unique_pdts_df['GENERIC NAME'][i].lower()\n",
    "        str_b = unfilled['GENERIC NAME'][j].lower()\n",
    "        \n",
    "        # assign ratio to both strings\n",
    "        ratio = fuzz.partial_ratio(str_b, str_a)            \n",
    "        \n",
    "        # sent conditon for comparing the series\n",
    "        if ratio >= 81:\n",
    "            print(str_b, ':', str_a, ':', ratio)\n",
    "            unfilled['new_generic_name'][j] = unique_pdts_df['GENERIC NAME'][i]\n",
    "            unfilled['NEW ID'][j] = unique_pdts_df['PRODUCT ID'][i]            \n",
    "#                 unique_dict[key] = str_b\n",
    "#                 unique_dict.append([str_a])\n",
    "#                 print(unique_dict)\n",
    "#                 unfilled['new_generic_name'][j] = unique_pdts_df['GENERIC NAME'][i]\n",
    "#                 unfilled['NEW ID'][j] = unique_pdts_df['PRODUCT ID'][i]"
   ]
  },
  {
   "cell_type": "code",
   "execution_count": null,
   "id": "9fc37e08",
   "metadata": {},
   "outputs": [],
   "source": []
  },
  {
   "cell_type": "code",
   "execution_count": null,
   "id": "8fc43124",
   "metadata": {},
   "outputs": [],
   "source": [
    "# unfilled"
   ]
  },
  {
   "cell_type": "code",
   "execution_count": null,
   "id": "97a4d34c",
   "metadata": {},
   "outputs": [],
   "source": [
    "# combine the dataframes into one dataframe\n",
    "# combined_df = pd.concat([unfilled, filled], axis=0).sort_values('Generic Name')"
   ]
  },
  {
   "cell_type": "code",
   "execution_count": null,
   "id": "5d625baa",
   "metadata": {},
   "outputs": [],
   "source": [
    "# re-index the dataframe\n",
    "# combined_df.reset_index(drop=True, inplace=True)"
   ]
  },
  {
   "cell_type": "code",
   "execution_count": null,
   "id": "5d1ac105",
   "metadata": {},
   "outputs": [],
   "source": [
    "# combined_df"
   ]
  },
  {
   "cell_type": "markdown",
   "id": "55436f01",
   "metadata": {},
   "source": [
    "### The product dataset"
   ]
  },
  {
   "cell_type": "code",
   "execution_count": null,
   "id": "024dfe98",
   "metadata": {},
   "outputs": [],
   "source": [
    "# investigate the products on columns\n",
    "pdt_df.columns"
   ]
  },
  {
   "cell_type": "code",
   "execution_count": null,
   "id": "8a3b1345",
   "metadata": {},
   "outputs": [],
   "source": [
    "# new_pdt_df= pdt_df.drop(['COUNTRY OF ORIGIN', 'FORMULATION', 'PACK SIZE', 'RETAIL PRICE PER SMALLEST UNIT', \n",
    "#              'RETAIL PRICE PER SMALLEST UNIT.1', 'PACK SIZE', 'STRENGTH', 'eshop_id'], axis=1)"
   ]
  },
  {
   "cell_type": "code",
   "execution_count": null,
   "id": "bc8b1192",
   "metadata": {},
   "outputs": [],
   "source": [
    "# investigate the product's types\n",
    "pdt_df.dtypes"
   ]
  },
  {
   "cell_type": "code",
   "execution_count": null,
   "id": "b791ccfe",
   "metadata": {},
   "outputs": [],
   "source": [
    "pdt_df.info()"
   ]
  },
  {
   "cell_type": "code",
   "execution_count": null,
   "id": "a09bca58",
   "metadata": {},
   "outputs": [],
   "source": [
    "new_dp_list.head()"
   ]
  },
  {
   "cell_type": "code",
   "execution_count": null,
   "id": "efedbf86",
   "metadata": {},
   "outputs": [],
   "source": [
    "# change product's id for ease in comparing with other dataframes\n",
    "new_pdt_df = pdt_df.rename(columns={'ID': 'PRODUCT ID'})"
   ]
  },
  {
   "cell_type": "code",
   "execution_count": null,
   "id": "a15aeb17",
   "metadata": {},
   "outputs": [],
   "source": [
    "# check to find out whether the new_product_df id is identical to the duplicate list id \n",
    "merged_pdt_df = new_pdt_df['PRODUCT ID'].isin(new_dp_list['PRODUCT ID'])"
   ]
  },
  {
   "cell_type": "code",
   "execution_count": null,
   "id": "9ecaacaa",
   "metadata": {},
   "outputs": [],
   "source": [
    "# drop the identical ids\n",
    "new_pdt_df.drop(new_pdt_df[merged_pdt_df].index, inplace=True)"
   ]
  },
  {
   "cell_type": "code",
   "execution_count": null,
   "id": "d79885df",
   "metadata": {},
   "outputs": [],
   "source": [
    "# checkout the new dataframe\n",
    "new_pdt_df.info()"
   ]
  },
  {
   "cell_type": "code",
   "execution_count": null,
   "id": "808dad18",
   "metadata": {},
   "outputs": [],
   "source": [
    "# test on a product from the duplicates list\n",
    "new_pdt_df[new_pdt_df['PRODUCT ID'] == 387]"
   ]
  },
  {
   "cell_type": "code",
   "execution_count": null,
   "id": "8a46b61e",
   "metadata": {},
   "outputs": [],
   "source": [
    "# merged_pdt_df[merged_pdt_df['PRODUCT ID'] == 3951]"
   ]
  },
  {
   "cell_type": "markdown",
   "id": "7df176c9",
   "metadata": {},
   "source": [
    "### The batches dataframe"
   ]
  },
  {
   "cell_type": "code",
   "execution_count": null,
   "id": "18d625ee",
   "metadata": {},
   "outputs": [],
   "source": [
    "batches_df.head(20)"
   ]
  },
  {
   "cell_type": "code",
   "execution_count": null,
   "id": "ee7b5310",
   "metadata": {},
   "outputs": [],
   "source": [
    "batches_df[batches_df['PRODUCT ID'] == 3352]"
   ]
  },
  {
   "cell_type": "code",
   "execution_count": 17,
   "id": "c3c0e2b4",
   "metadata": {},
   "outputs": [
    {
     "data": {
      "text/plain": [
       "{3951: [3352],\n",
       " 387: [715],\n",
       " 4933: [715],\n",
       " 4942: [715],\n",
       " 3146: [4328],\n",
       " 5312: [830],\n",
       " 5416: [4745],\n",
       " 3819: [5303],\n",
       " 5304: [5303],\n",
       " 5239: [5044],\n",
       " 4685: [4686],\n",
       " 4672: [5145],\n",
       " 5444: [569],\n",
       " 4896: [166],\n",
       " 4888: [166],\n",
       " 209: [166],\n",
       " 5033: [5533],\n",
       " 530: [4786],\n",
       " 418: [4786],\n",
       " 261: [4786],\n",
       " 4477: [5134],\n",
       " 4865: [4855],\n",
       " 3915: [638],\n",
       " 3904: [638],\n",
       " 3304: [638],\n",
       " 253: [4786],\n",
       " 5234: [5208],\n",
       " 3325: [3925],\n",
       " 2725: [3925],\n",
       " 3952: [3352],\n",
       " 4595: [4594],\n",
       " 719: [696],\n",
       " 4057: [4056],\n",
       " 4132: [3532],\n",
       " 5391: [4334],\n",
       " 5390: [4334],\n",
       " 5389: [4334],\n",
       " 5031: [902],\n",
       " 394: [902],\n",
       " 902: [902],\n",
       " 4031: [4029],\n",
       " 5378: [5347],\n",
       " 4729: [4945],\n",
       " 5370: [647],\n",
       " 540: [346],\n",
       " 4868: [4867],\n",
       " 5380: [5337],\n",
       " 5379: [5337],\n",
       " 3814: [2614],\n",
       " 538: [173],\n",
       " 636: [5152],\n",
       " 5394: [4442]}"
      ]
     },
     "execution_count": 17,
     "metadata": {},
     "output_type": "execute_result"
    }
   ],
   "source": [
    "unique_dict"
   ]
  },
  {
   "cell_type": "code",
   "execution_count": 18,
   "id": "0e02e095",
   "metadata": {},
   "outputs": [
    {
     "name": "stdout",
     "output_type": "stream",
     "text": [
      "<class 'pandas.core.frame.DataFrame'>\n",
      "RangeIndex: 3982 entries, 0 to 3981\n",
      "Data columns (total 13 columns):\n",
      " #   Column                 Non-Null Count  Dtype  \n",
      "---  ------                 --------------  -----  \n",
      " 0   PRODUCT ID             3982 non-null   int64  \n",
      " 1   id                     3982 non-null   int64  \n",
      " 2   created                3982 non-null   object \n",
      " 3   modified               3982 non-null   object \n",
      " 4   batch_number           3982 non-null   object \n",
      " 5   cost_price             3982 non-null   int64  \n",
      " 6   initial_item_count     3982 non-null   int64  \n",
      " 7   item_count             3982 non-null   int64  \n",
      " 8   expiration_date        3982 non-null   object \n",
      " 9   manufacturing_date     1179 non-null   object \n",
      " 10  product__generic_name  3982 non-null   object \n",
      " 11  product__brand_name    3982 non-null   object \n",
      " 12  NEW PRODUCT ID         71 non-null     float64\n",
      "dtypes: float64(1), int64(5), object(7)\n",
      "memory usage: 404.5+ KB\n",
      "None\n"
     ]
    }
   ],
   "source": [
    "for key, val in unique_dict.items():\n",
    "    if key in batches_df['PRODUCT ID']:\n",
    "        batches_df['NEW PRODUCT ID'] = batches_df['PRODUCT ID'].map(unique_dict, na_action='ignore')\n",
    "        batches_df['NEW PRODUCT ID'] = batches_df['NEW PRODUCT ID'].str.get(0)\n",
    "print(batches_df.info())"
   ]
  },
  {
   "cell_type": "code",
   "execution_count": 92,
   "id": "2cb27207",
   "metadata": {},
   "outputs": [],
   "source": [
    "\n",
    "batches_df['NEW PRODUCT ID'] = batches_df['NEW PRODUCT ID'].astype(int)"
   ]
  },
  {
   "cell_type": "code",
   "execution_count": 98,
   "id": "345470a0",
   "metadata": {},
   "outputs": [
    {
     "data": {
      "text/html": [
       "<div>\n",
       "<style scoped>\n",
       "    .dataframe tbody tr th:only-of-type {\n",
       "        vertical-align: middle;\n",
       "    }\n",
       "\n",
       "    .dataframe tbody tr th {\n",
       "        vertical-align: top;\n",
       "    }\n",
       "\n",
       "    .dataframe thead th {\n",
       "        text-align: right;\n",
       "    }\n",
       "</style>\n",
       "<table border=\"1\" class=\"dataframe\">\n",
       "  <thead>\n",
       "    <tr style=\"text-align: right;\">\n",
       "      <th></th>\n",
       "      <th>PRODUCT ID</th>\n",
       "      <th>id</th>\n",
       "      <th>created</th>\n",
       "      <th>modified</th>\n",
       "      <th>batch_number</th>\n",
       "      <th>cost_price</th>\n",
       "      <th>initial_item_count</th>\n",
       "      <th>item_count</th>\n",
       "      <th>expiration_date</th>\n",
       "      <th>manufacturing_date</th>\n",
       "      <th>product__generic_name</th>\n",
       "      <th>product__brand_name</th>\n",
       "      <th>NEW PRODUCT ID</th>\n",
       "    </tr>\n",
       "  </thead>\n",
       "  <tbody>\n",
       "  </tbody>\n",
       "</table>\n",
       "</div>"
      ],
      "text/plain": [
       "Empty DataFrame\n",
       "Columns: [PRODUCT ID, id, created, modified, batch_number, cost_price, initial_item_count, item_count, expiration_date, manufacturing_date, product__generic_name, product__brand_name, NEW PRODUCT ID]\n",
       "Index: []"
      ]
     },
     "execution_count": 98,
     "metadata": {},
     "output_type": "execute_result"
    }
   ],
   "source": [
    "batches_df[batches_df['PRODUCT ID'] == 5378]"
   ]
  },
  {
   "cell_type": "code",
   "execution_count": null,
   "id": "7aadb6dc",
   "metadata": {},
   "outputs": [],
   "source": []
  },
  {
   "cell_type": "code",
   "execution_count": 99,
   "id": "5ba142b3",
   "metadata": {},
   "outputs": [
    {
     "data": {
      "text/html": [
       "<div>\n",
       "<style scoped>\n",
       "    .dataframe tbody tr th:only-of-type {\n",
       "        vertical-align: middle;\n",
       "    }\n",
       "\n",
       "    .dataframe tbody tr th {\n",
       "        vertical-align: top;\n",
       "    }\n",
       "\n",
       "    .dataframe thead th {\n",
       "        text-align: right;\n",
       "    }\n",
       "</style>\n",
       "<table border=\"1\" class=\"dataframe\">\n",
       "  <thead>\n",
       "    <tr style=\"text-align: right;\">\n",
       "      <th></th>\n",
       "      <th>PRODUCT ID</th>\n",
       "      <th>id</th>\n",
       "      <th>created</th>\n",
       "      <th>modified</th>\n",
       "      <th>batch_number</th>\n",
       "      <th>cost_price</th>\n",
       "      <th>initial_item_count</th>\n",
       "      <th>item_count</th>\n",
       "      <th>expiration_date</th>\n",
       "      <th>manufacturing_date</th>\n",
       "      <th>product__generic_name</th>\n",
       "      <th>product__brand_name</th>\n",
       "      <th>NEW PRODUCT ID</th>\n",
       "    </tr>\n",
       "  </thead>\n",
       "  <tbody>\n",
       "    <tr>\n",
       "      <th>1698</th>\n",
       "      <td>5347</td>\n",
       "      <td>2378</td>\n",
       "      <td>2021-01-05 18:21:41</td>\n",
       "      <td>2021-01-05 18:21:41</td>\n",
       "      <td>CE-2262-A</td>\n",
       "      <td>610</td>\n",
       "      <td>0</td>\n",
       "      <td>0</td>\n",
       "      <td>2022-01-31</td>\n",
       "      <td>NaN</td>\n",
       "      <td>FLUCONAZOLE</td>\n",
       "      <td>FLUCAZ 100MG</td>\n",
       "      <td>5347</td>\n",
       "    </tr>\n",
       "    <tr>\n",
       "      <th>1699</th>\n",
       "      <td>5347</td>\n",
       "      <td>2377</td>\n",
       "      <td>2021-01-05 18:20:37</td>\n",
       "      <td>2021-01-05 18:20:40</td>\n",
       "      <td>CE-2262-A</td>\n",
       "      <td>610</td>\n",
       "      <td>0</td>\n",
       "      <td>0</td>\n",
       "      <td>2021-01-31</td>\n",
       "      <td>NaN</td>\n",
       "      <td>FLUCONAZOLE</td>\n",
       "      <td>FLUCAZ 100MG</td>\n",
       "      <td>5347</td>\n",
       "    </tr>\n",
       "  </tbody>\n",
       "</table>\n",
       "</div>"
      ],
      "text/plain": [
       "      PRODUCT ID    id              created             modified batch_number  \\\n",
       "1698        5347  2378  2021-01-05 18:21:41  2021-01-05 18:21:41    CE-2262-A   \n",
       "1699        5347  2377  2021-01-05 18:20:37  2021-01-05 18:20:40    CE-2262-A   \n",
       "\n",
       "      cost_price  initial_item_count  item_count expiration_date  \\\n",
       "1698         610                   0           0      2022-01-31   \n",
       "1699         610                   0           0      2021-01-31   \n",
       "\n",
       "     manufacturing_date product__generic_name product__brand_name  \\\n",
       "1698                NaN           FLUCONAZOLE        FLUCAZ 100MG   \n",
       "1699                NaN           FLUCONAZOLE        FLUCAZ 100MG   \n",
       "\n",
       "      NEW PRODUCT ID  \n",
       "1698            5347  \n",
       "1699            5347  "
      ]
     },
     "execution_count": 99,
     "metadata": {},
     "output_type": "execute_result"
    }
   ],
   "source": [
    "batches_df[batches_df['PRODUCT ID'] == 5347]"
   ]
  },
  {
   "cell_type": "code",
   "execution_count": 90,
   "id": "a3aed9ba",
   "metadata": {},
   "outputs": [],
   "source": [
    "batches_df['NEW PRODUCT ID'] = batches_df['NEW PRODUCT ID'].fillna(0)"
   ]
  },
  {
   "cell_type": "code",
   "execution_count": null,
   "id": "986dd500",
   "metadata": {},
   "outputs": [],
   "source": []
  },
  {
   "cell_type": "code",
   "execution_count": 95,
   "id": "c024dc8c",
   "metadata": {},
   "outputs": [
    {
     "name": "stderr",
     "output_type": "stream",
     "text": [
      "<ipython-input-95-3dc723979feb>:4: SettingWithCopyWarning: \n",
      "A value is trying to be set on a copy of a slice from a DataFrame\n",
      "\n",
      "See the caveats in the documentation: https://pandas.pydata.org/pandas-docs/stable/user_guide/indexing.html#returning-a-view-versus-a-copy\n",
      "  batches_df['PRODUCT ID'][i] = batches_df['NEW PRODUCT ID'][i]\n"
     ]
    }
   ],
   "source": [
    "for i in range(len(batches_df)):\n",
    "    if batches_df['NEW PRODUCT ID'][i] != 0:\n",
    "#         print(batches_df.head())\n",
    "        batches_df['PRODUCT ID'][i] = batches_df['NEW PRODUCT ID'][i]"
   ]
  },
  {
   "cell_type": "code",
   "execution_count": 93,
   "id": "23013ee1",
   "metadata": {},
   "outputs": [
    {
     "data": {
      "text/html": [
       "<div>\n",
       "<style scoped>\n",
       "    .dataframe tbody tr th:only-of-type {\n",
       "        vertical-align: middle;\n",
       "    }\n",
       "\n",
       "    .dataframe tbody tr th {\n",
       "        vertical-align: top;\n",
       "    }\n",
       "\n",
       "    .dataframe thead th {\n",
       "        text-align: right;\n",
       "    }\n",
       "</style>\n",
       "<table border=\"1\" class=\"dataframe\">\n",
       "  <thead>\n",
       "    <tr style=\"text-align: right;\">\n",
       "      <th></th>\n",
       "      <th>PRODUCT ID</th>\n",
       "      <th>id</th>\n",
       "      <th>created</th>\n",
       "      <th>modified</th>\n",
       "      <th>batch_number</th>\n",
       "      <th>cost_price</th>\n",
       "      <th>initial_item_count</th>\n",
       "      <th>item_count</th>\n",
       "      <th>expiration_date</th>\n",
       "      <th>manufacturing_date</th>\n",
       "      <th>product__generic_name</th>\n",
       "      <th>product__brand_name</th>\n",
       "      <th>NEW PRODUCT ID</th>\n",
       "    </tr>\n",
       "  </thead>\n",
       "  <tbody>\n",
       "    <tr>\n",
       "      <th>0</th>\n",
       "      <td>5567</td>\n",
       "      <td>4087</td>\n",
       "      <td>2021-05-30 20:49:51</td>\n",
       "      <td>2021-05-30 20:49:51</td>\n",
       "      <td>9104KYU</td>\n",
       "      <td>1500</td>\n",
       "      <td>120</td>\n",
       "      <td>0</td>\n",
       "      <td>2022-05-31</td>\n",
       "      <td>NaN</td>\n",
       "      <td>Nifedipine 30mg</td>\n",
       "      <td>ADALAT</td>\n",
       "      <td>0</td>\n",
       "    </tr>\n",
       "    <tr>\n",
       "      <th>1</th>\n",
       "      <td>848</td>\n",
       "      <td>4086</td>\n",
       "      <td>2021-05-30 20:49:17</td>\n",
       "      <td>2021-05-30 20:49:17</td>\n",
       "      <td>77371DR</td>\n",
       "      <td>800</td>\n",
       "      <td>60</td>\n",
       "      <td>0</td>\n",
       "      <td>2022-05-31</td>\n",
       "      <td>NaN</td>\n",
       "      <td>Metoprolol</td>\n",
       "      <td>METOPROLOL 50MG UK</td>\n",
       "      <td>0</td>\n",
       "    </tr>\n",
       "    <tr>\n",
       "      <th>2</th>\n",
       "      <td>5637</td>\n",
       "      <td>4085</td>\n",
       "      <td>2021-05-30 20:48:50</td>\n",
       "      <td>2021-05-30 20:48:50</td>\n",
       "      <td>BBN</td>\n",
       "      <td>2400</td>\n",
       "      <td>120</td>\n",
       "      <td>0</td>\n",
       "      <td>2022-05-31</td>\n",
       "      <td>NaN</td>\n",
       "      <td>Tacrolimus</td>\n",
       "      <td>TACROLIMUS PROGRAF 1MG</td>\n",
       "      <td>0</td>\n",
       "    </tr>\n",
       "    <tr>\n",
       "      <th>3</th>\n",
       "      <td>5663</td>\n",
       "      <td>4084</td>\n",
       "      <td>2021-05-30 20:48:21</td>\n",
       "      <td>2021-05-30 20:48:21</td>\n",
       "      <td>WWC</td>\n",
       "      <td>3500</td>\n",
       "      <td>90</td>\n",
       "      <td>0</td>\n",
       "      <td>2022-05-31</td>\n",
       "      <td>NaN</td>\n",
       "      <td>Mycophenolate Mofetil</td>\n",
       "      <td>CELLCEPT 500MG TAB</td>\n",
       "      <td>0</td>\n",
       "    </tr>\n",
       "    <tr>\n",
       "      <th>4</th>\n",
       "      <td>5485</td>\n",
       "      <td>4083</td>\n",
       "      <td>2021-05-30 20:21:11</td>\n",
       "      <td>2021-05-30 20:21:11</td>\n",
       "      <td>9104BN</td>\n",
       "      <td>2100</td>\n",
       "      <td>30</td>\n",
       "      <td>0</td>\n",
       "      <td>2022-05-31</td>\n",
       "      <td>NaN</td>\n",
       "      <td>Sitagliptin, Metformin</td>\n",
       "      <td>JANUMET 50/500 MG</td>\n",
       "      <td>0</td>\n",
       "    </tr>\n",
       "    <tr>\n",
       "      <th>5</th>\n",
       "      <td>247</td>\n",
       "      <td>4082</td>\n",
       "      <td>2021-05-30 18:38:59</td>\n",
       "      <td>2021-05-30 18:38:59</td>\n",
       "      <td>W0002D</td>\n",
       "      <td>11500</td>\n",
       "      <td>5</td>\n",
       "      <td>0</td>\n",
       "      <td>2023-01-30</td>\n",
       "      <td>NaN</td>\n",
       "      <td>Xylometazoline</td>\n",
       "      <td>XYLO ACINO 0.1%</td>\n",
       "      <td>0</td>\n",
       "    </tr>\n",
       "    <tr>\n",
       "      <th>6</th>\n",
       "      <td>389</td>\n",
       "      <td>4081</td>\n",
       "      <td>2021-05-30 17:19:35</td>\n",
       "      <td>2021-05-30 17:19:35</td>\n",
       "      <td>2007403</td>\n",
       "      <td>18500</td>\n",
       "      <td>3</td>\n",
       "      <td>0</td>\n",
       "      <td>2023-09-30</td>\n",
       "      <td>NaN</td>\n",
       "      <td>Ceftriaxone</td>\n",
       "      <td>EPICEPHIN 2G INJ</td>\n",
       "      <td>0</td>\n",
       "    </tr>\n",
       "    <tr>\n",
       "      <th>7</th>\n",
       "      <td>4925</td>\n",
       "      <td>4080</td>\n",
       "      <td>2021-05-30 17:08:06</td>\n",
       "      <td>2021-05-30 17:08:06</td>\n",
       "      <td>T026363</td>\n",
       "      <td>60000</td>\n",
       "      <td>2</td>\n",
       "      <td>0</td>\n",
       "      <td>2022-07-30</td>\n",
       "      <td>NaN</td>\n",
       "      <td>Mometasone Nasal Spray 120 Sprays</td>\n",
       "      <td>Nasonex</td>\n",
       "      <td>0</td>\n",
       "    </tr>\n",
       "    <tr>\n",
       "      <th>8</th>\n",
       "      <td>4786</td>\n",
       "      <td>4079</td>\n",
       "      <td>2021-05-30 14:08:29</td>\n",
       "      <td>2021-05-30 14:08:29</td>\n",
       "      <td>A0236002</td>\n",
       "      <td>750</td>\n",
       "      <td>70</td>\n",
       "      <td>0</td>\n",
       "      <td>2022-12-02</td>\n",
       "      <td>NaN</td>\n",
       "      <td>Loratidine</td>\n",
       "      <td>MOSEDINE</td>\n",
       "      <td>4786</td>\n",
       "    </tr>\n",
       "    <tr>\n",
       "      <th>9</th>\n",
       "      <td>286</td>\n",
       "      <td>4078</td>\n",
       "      <td>2021-05-30 09:03:54</td>\n",
       "      <td>2021-05-30 09:03:54</td>\n",
       "      <td>Y106XK</td>\n",
       "      <td>124</td>\n",
       "      <td>100</td>\n",
       "      <td>0</td>\n",
       "      <td>2022-08-30</td>\n",
       "      <td>NaN</td>\n",
       "      <td>Paracetamol,Caffeine</td>\n",
       "      <td>PANADOL EXTRA</td>\n",
       "      <td>0</td>\n",
       "    </tr>\n",
       "    <tr>\n",
       "      <th>10</th>\n",
       "      <td>5649</td>\n",
       "      <td>4077</td>\n",
       "      <td>2021-05-29 20:21:16</td>\n",
       "      <td>2021-05-29 20:21:16</td>\n",
       "      <td>5231402</td>\n",
       "      <td>500</td>\n",
       "      <td>12500</td>\n",
       "      <td>12500</td>\n",
       "      <td>2023-09-30</td>\n",
       "      <td>2020-09-30</td>\n",
       "      <td>Face Mask</td>\n",
       "      <td>DISPOSABLE MEDICAL MASK</td>\n",
       "      <td>0</td>\n",
       "    </tr>\n",
       "    <tr>\n",
       "      <th>11</th>\n",
       "      <td>653</td>\n",
       "      <td>4076</td>\n",
       "      <td>2021-05-29 18:15:19</td>\n",
       "      <td>2021-05-29 18:15:19</td>\n",
       "      <td>PA14380</td>\n",
       "      <td>1333</td>\n",
       "      <td>150</td>\n",
       "      <td>0</td>\n",
       "      <td>2021-10-31</td>\n",
       "      <td>NaN</td>\n",
       "      <td>Azithromycin</td>\n",
       "      <td>AZILIDE/ZAHA 500MG TABS</td>\n",
       "      <td>0</td>\n",
       "    </tr>\n",
       "    <tr>\n",
       "      <th>12</th>\n",
       "      <td>449</td>\n",
       "      <td>4075</td>\n",
       "      <td>2021-05-29 18:12:46</td>\n",
       "      <td>2021-05-29 18:12:46</td>\n",
       "      <td>00721</td>\n",
       "      <td>50</td>\n",
       "      <td>1500</td>\n",
       "      <td>0</td>\n",
       "      <td>2023-02-28</td>\n",
       "      <td>NaN</td>\n",
       "      <td>Zinc Sulphate</td>\n",
       "      <td>ZINC SULPHATE 20mg</td>\n",
       "      <td>0</td>\n",
       "    </tr>\n",
       "    <tr>\n",
       "      <th>13</th>\n",
       "      <td>5077</td>\n",
       "      <td>4074</td>\n",
       "      <td>2021-05-29 16:53:23</td>\n",
       "      <td>2021-05-29 16:53:23</td>\n",
       "      <td>1709546S</td>\n",
       "      <td>333</td>\n",
       "      <td>96</td>\n",
       "      <td>0</td>\n",
       "      <td>2022-05-31</td>\n",
       "      <td>NaN</td>\n",
       "      <td>Vitamin D</td>\n",
       "      <td>VITAMIN D ULTRA-D3 1000IU</td>\n",
       "      <td>0</td>\n",
       "    </tr>\n",
       "    <tr>\n",
       "      <th>14</th>\n",
       "      <td>4418</td>\n",
       "      <td>4073</td>\n",
       "      <td>2021-05-29 16:24:55</td>\n",
       "      <td>2021-05-29 16:24:55</td>\n",
       "      <td>9104Q</td>\n",
       "      <td>2700</td>\n",
       "      <td>30</td>\n",
       "      <td>0</td>\n",
       "      <td>2022-05-31</td>\n",
       "      <td>NaN</td>\n",
       "      <td>Eplerenone</td>\n",
       "      <td>EPNONE 25MG 30 Tablest</td>\n",
       "      <td>0</td>\n",
       "    </tr>\n",
       "    <tr>\n",
       "      <th>15</th>\n",
       "      <td>4418</td>\n",
       "      <td>4072</td>\n",
       "      <td>2021-05-29 16:24:38</td>\n",
       "      <td>2021-05-29 16:24:38</td>\n",
       "      <td>9104C</td>\n",
       "      <td>2700</td>\n",
       "      <td>60</td>\n",
       "      <td>0</td>\n",
       "      <td>2022-05-31</td>\n",
       "      <td>NaN</td>\n",
       "      <td>Eplerenone</td>\n",
       "      <td>EPNONE 25MG 30 Tablest</td>\n",
       "      <td>0</td>\n",
       "    </tr>\n",
       "    <tr>\n",
       "      <th>16</th>\n",
       "      <td>4418</td>\n",
       "      <td>4071</td>\n",
       "      <td>2021-05-29 11:24:24</td>\n",
       "      <td>2021-05-29 11:24:24</td>\n",
       "      <td>LC6CQ</td>\n",
       "      <td>2700</td>\n",
       "      <td>30</td>\n",
       "      <td>0</td>\n",
       "      <td>2022-12-12</td>\n",
       "      <td>NaN</td>\n",
       "      <td>Eplerenone</td>\n",
       "      <td>EPNONE 25MG 30 Tablest</td>\n",
       "      <td>0</td>\n",
       "    </tr>\n",
       "    <tr>\n",
       "      <th>17</th>\n",
       "      <td>4418</td>\n",
       "      <td>4070</td>\n",
       "      <td>2021-05-29 11:23:56</td>\n",
       "      <td>2021-05-29 11:23:56</td>\n",
       "      <td>LC6CQ</td>\n",
       "      <td>2700</td>\n",
       "      <td>30</td>\n",
       "      <td>0</td>\n",
       "      <td>2022-12-12</td>\n",
       "      <td>NaN</td>\n",
       "      <td>Eplerenone</td>\n",
       "      <td>EPNONE 25MG 30 Tablest</td>\n",
       "      <td>0</td>\n",
       "    </tr>\n",
       "    <tr>\n",
       "      <th>18</th>\n",
       "      <td>902</td>\n",
       "      <td>4069</td>\n",
       "      <td>2021-05-29 10:39:48</td>\n",
       "      <td>2021-05-29 10:39:48</td>\n",
       "      <td>LC6C</td>\n",
       "      <td>250</td>\n",
       "      <td>1</td>\n",
       "      <td>0</td>\n",
       "      <td>2022-12-12</td>\n",
       "      <td>NaN</td>\n",
       "      <td>Face Mask</td>\n",
       "      <td>Disposable Medical Face Mask 1’s</td>\n",
       "      <td>902</td>\n",
       "    </tr>\n",
       "    <tr>\n",
       "      <th>19</th>\n",
       "      <td>249</td>\n",
       "      <td>4068</td>\n",
       "      <td>2021-05-28 21:47:05</td>\n",
       "      <td>2021-05-28 21:47:05</td>\n",
       "      <td>LC6C</td>\n",
       "      <td>19900</td>\n",
       "      <td>1</td>\n",
       "      <td>0</td>\n",
       "      <td>2022-12-12</td>\n",
       "      <td>NaN</td>\n",
       "      <td>Carbocisteine</td>\n",
       "      <td>RHINATHIOL ADULT SYRUP 5% sugar free</td>\n",
       "      <td>0</td>\n",
       "    </tr>\n",
       "  </tbody>\n",
       "</table>\n",
       "</div>"
      ],
      "text/plain": [
       "    PRODUCT ID    id              created             modified batch_number  \\\n",
       "0         5567  4087  2021-05-30 20:49:51  2021-05-30 20:49:51      9104KYU   \n",
       "1          848  4086  2021-05-30 20:49:17  2021-05-30 20:49:17      77371DR   \n",
       "2         5637  4085  2021-05-30 20:48:50  2021-05-30 20:48:50          BBN   \n",
       "3         5663  4084  2021-05-30 20:48:21  2021-05-30 20:48:21          WWC   \n",
       "4         5485  4083  2021-05-30 20:21:11  2021-05-30 20:21:11       9104BN   \n",
       "5          247  4082  2021-05-30 18:38:59  2021-05-30 18:38:59       W0002D   \n",
       "6          389  4081  2021-05-30 17:19:35  2021-05-30 17:19:35      2007403   \n",
       "7         4925  4080  2021-05-30 17:08:06  2021-05-30 17:08:06      T026363   \n",
       "8         4786  4079  2021-05-30 14:08:29  2021-05-30 14:08:29     A0236002   \n",
       "9          286  4078  2021-05-30 09:03:54  2021-05-30 09:03:54       Y106XK   \n",
       "10        5649  4077  2021-05-29 20:21:16  2021-05-29 20:21:16      5231402   \n",
       "11         653  4076  2021-05-29 18:15:19  2021-05-29 18:15:19      PA14380   \n",
       "12         449  4075  2021-05-29 18:12:46  2021-05-29 18:12:46        00721   \n",
       "13        5077  4074  2021-05-29 16:53:23  2021-05-29 16:53:23     1709546S   \n",
       "14        4418  4073  2021-05-29 16:24:55  2021-05-29 16:24:55        9104Q   \n",
       "15        4418  4072  2021-05-29 16:24:38  2021-05-29 16:24:38        9104C   \n",
       "16        4418  4071  2021-05-29 11:24:24  2021-05-29 11:24:24        LC6CQ   \n",
       "17        4418  4070  2021-05-29 11:23:56  2021-05-29 11:23:56        LC6CQ   \n",
       "18         902  4069  2021-05-29 10:39:48  2021-05-29 10:39:48         LC6C   \n",
       "19         249  4068  2021-05-28 21:47:05  2021-05-28 21:47:05         LC6C   \n",
       "\n",
       "    cost_price  initial_item_count  item_count expiration_date  \\\n",
       "0         1500                 120           0      2022-05-31   \n",
       "1          800                  60           0      2022-05-31   \n",
       "2         2400                 120           0      2022-05-31   \n",
       "3         3500                  90           0      2022-05-31   \n",
       "4         2100                  30           0      2022-05-31   \n",
       "5        11500                   5           0      2023-01-30   \n",
       "6        18500                   3           0      2023-09-30   \n",
       "7        60000                   2           0      2022-07-30   \n",
       "8          750                  70           0      2022-12-02   \n",
       "9          124                 100           0      2022-08-30   \n",
       "10         500               12500       12500      2023-09-30   \n",
       "11        1333                 150           0      2021-10-31   \n",
       "12          50                1500           0      2023-02-28   \n",
       "13         333                  96           0      2022-05-31   \n",
       "14        2700                  30           0      2022-05-31   \n",
       "15        2700                  60           0      2022-05-31   \n",
       "16        2700                  30           0      2022-12-12   \n",
       "17        2700                  30           0      2022-12-12   \n",
       "18         250                   1           0      2022-12-12   \n",
       "19       19900                   1           0      2022-12-12   \n",
       "\n",
       "   manufacturing_date              product__generic_name  \\\n",
       "0                 NaN                    Nifedipine 30mg   \n",
       "1                 NaN                         Metoprolol   \n",
       "2                 NaN                         Tacrolimus   \n",
       "3                 NaN              Mycophenolate Mofetil   \n",
       "4                 NaN             Sitagliptin, Metformin   \n",
       "5                 NaN                     Xylometazoline   \n",
       "6                 NaN                        Ceftriaxone   \n",
       "7                 NaN  Mometasone Nasal Spray 120 Sprays   \n",
       "8                 NaN                         Loratidine   \n",
       "9                 NaN               Paracetamol,Caffeine   \n",
       "10         2020-09-30                          Face Mask   \n",
       "11                NaN                       Azithromycin   \n",
       "12                NaN                      Zinc Sulphate   \n",
       "13                NaN                          Vitamin D   \n",
       "14                NaN                         Eplerenone   \n",
       "15                NaN                         Eplerenone   \n",
       "16                NaN                         Eplerenone   \n",
       "17                NaN                         Eplerenone   \n",
       "18                NaN                          Face Mask   \n",
       "19                NaN                      Carbocisteine   \n",
       "\n",
       "                     product__brand_name  NEW PRODUCT ID  \n",
       "0                                 ADALAT               0  \n",
       "1                     METOPROLOL 50MG UK               0  \n",
       "2                 TACROLIMUS PROGRAF 1MG               0  \n",
       "3                     CELLCEPT 500MG TAB               0  \n",
       "4                      JANUMET 50/500 MG               0  \n",
       "5                        XYLO ACINO 0.1%               0  \n",
       "6                       EPICEPHIN 2G INJ               0  \n",
       "7                                Nasonex               0  \n",
       "8                               MOSEDINE            4786  \n",
       "9                          PANADOL EXTRA               0  \n",
       "10               DISPOSABLE MEDICAL MASK               0  \n",
       "11               AZILIDE/ZAHA 500MG TABS               0  \n",
       "12                    ZINC SULPHATE 20mg               0  \n",
       "13             VITAMIN D ULTRA-D3 1000IU               0  \n",
       "14                EPNONE 25MG 30 Tablest               0  \n",
       "15                EPNONE 25MG 30 Tablest               0  \n",
       "16                EPNONE 25MG 30 Tablest               0  \n",
       "17                EPNONE 25MG 30 Tablest               0  \n",
       "18      Disposable Medical Face Mask 1’s             902  \n",
       "19  RHINATHIOL ADULT SYRUP 5% sugar free               0  "
      ]
     },
     "execution_count": 93,
     "metadata": {},
     "output_type": "execute_result"
    }
   ],
   "source": [
    "batches_df.head(20)"
   ]
  },
  {
   "cell_type": "code",
   "execution_count": null,
   "id": "e75191c0",
   "metadata": {},
   "outputs": [],
   "source": [
    "new_batches_df[new_batches_df['NEW PRODUCT ID'] == 696.0]"
   ]
  },
  {
   "cell_type": "code",
   "execution_count": null,
   "id": "5af8e541",
   "metadata": {
    "scrolled": false
   },
   "outputs": [],
   "source": [
    "print(batches_df['PRODUCT ID'].tolist())"
   ]
  },
  {
   "cell_type": "code",
   "execution_count": null,
   "id": "4d3cd659",
   "metadata": {},
   "outputs": [],
   "source": [
    "# cleanup data by renaming pandas series with more meaningfull names\n",
    "batches_df = batches_df.rename(columns={'product__generic_name': 'Generic Name', 'product__brand_name': 'Brand Name'})"
   ]
  },
  {
   "cell_type": "code",
   "execution_count": null,
   "id": "c12af8eb",
   "metadata": {},
   "outputs": [],
   "source": [
    "new_dp_list.info()"
   ]
  },
  {
   "cell_type": "code",
   "execution_count": null,
   "id": "20c1e134",
   "metadata": {},
   "outputs": [],
   "source": [
    "# create a new column on which we will compare our product ids\n",
    "batches_df['NEW ID'] = ''\n",
    "\n",
    "# create a new column on which we will compare our generic names\n",
    "batches_df['new_generic_name'] = ''\n",
    "\n",
    "# loop through the unique products dataframe using its index\n",
    "for i in range(len(unique_pdts_df)):\n",
    "    \n",
    "   # loop through the list of duplicates using its index\n",
    "    for j in range(len(new_dp_list)):\n",
    "        generic_unique = unique_pdts_df['GENERIC NAME'][i].lower()\n",
    "        generic_batch = batches_df['Generic Name'][j].lower()\n",
    "        \n",
    "       # compare the two pandas series on generic names. Coerce them to lowercase for proper comparison\n",
    "        if generic_unique in generic_batch:\n",
    "            \n",
    "            # assign the new ids to the resulting product from unique products loop and do the same for generic name\n",
    "            batches_df['NEW ID'][j] = unique_pdts_df['PRODUCT ID'][i]\n",
    "            batches_df['new_generic_name'][j] = unique_pdts_df['GENERIC NAME'][i]  "
   ]
  },
  {
   "cell_type": "code",
   "execution_count": null,
   "id": "ca871ff7",
   "metadata": {},
   "outputs": [],
   "source": [
    "batches_df.head()"
   ]
  },
  {
   "cell_type": "code",
   "execution_count": null,
   "id": "53fbe734",
   "metadata": {},
   "outputs": [],
   "source": [
    "# subset the rows that were filled\n",
    "filled_batches = batches_df[batches_df['NEW ID'] != '']\n",
    "\n",
    "filled_batches"
   ]
  },
  {
   "cell_type": "code",
   "execution_count": null,
   "id": "54775957",
   "metadata": {},
   "outputs": [],
   "source": [
    "# subset the rows that were not filled\n",
    "unfilled_batches = batches_df[batches_df['NEW ID'] == '']\n",
    "\n",
    "unfilled_batches"
   ]
  },
  {
   "cell_type": "code",
   "execution_count": null,
   "id": "3d34398f",
   "metadata": {},
   "outputs": [],
   "source": [
    "unfilled_batches.reset_index(drop=True, inplace=True)"
   ]
  },
  {
   "cell_type": "code",
   "execution_count": null,
   "id": "72ef8236",
   "metadata": {},
   "outputs": [],
   "source": [
    "unfilled_batches.head()"
   ]
  },
  {
   "cell_type": "code",
   "execution_count": null,
   "id": "befc0d04",
   "metadata": {},
   "outputs": [],
   "source": [
    "unfilled_batches = unfilled_batches[unfilled_batches['NEW ID'] != '']\n",
    "unfilled_batches"
   ]
  },
  {
   "cell_type": "code",
   "execution_count": null,
   "id": "67f21e53",
   "metadata": {},
   "outputs": [],
   "source": [
    "# recipe_df.columns"
   ]
  },
  {
   "cell_type": "code",
   "execution_count": null,
   "id": "6358f6ee",
   "metadata": {},
   "outputs": [],
   "source": [
    "new_recipe_df = recipe_df.drop(['id', 'created', 'modified', 'prescription', 'dosage', 'tablets', 'quantity', 'frequency', \n",
    "                                'duration', 'route', 'price_discount', 'serving_pharmacy', 'price_controller', 'rx_price',\n",
    "                               'external_price', 'requires_approval', 'approved', 'dropped', 'canceling_party', \n",
    "                                'reason_for_cancelation', 'authorized_by_tmcg', 'authorized_by_insurer', 'client_decision', \n",
    "                                'insurer_code'], axis=1)"
   ]
  },
  {
   "cell_type": "code",
   "execution_count": null,
   "id": "2dea8bec",
   "metadata": {},
   "outputs": [],
   "source": [
    "# new_recipe_df.info()"
   ]
  },
  {
   "cell_type": "code",
   "execution_count": null,
   "id": "a4148ba6",
   "metadata": {},
   "outputs": [],
   "source": [
    "# new_recipe_df.head()"
   ]
  },
  {
   "cell_type": "code",
   "execution_count": null,
   "id": "4fc9bb86",
   "metadata": {},
   "outputs": [],
   "source": [
    "dp_list.head()"
   ]
  },
  {
   "cell_type": "code",
   "execution_count": null,
   "id": "54375c92",
   "metadata": {},
   "outputs": [],
   "source": [
    "# unique_pdts_df.info()"
   ]
  },
  {
   "cell_type": "code",
   "execution_count": null,
   "id": "b39ec8dd",
   "metadata": {},
   "outputs": [],
   "source": [
    "# dp_list.columns"
   ]
  },
  {
   "cell_type": "code",
   "execution_count": null,
   "id": "0f2c2f48",
   "metadata": {},
   "outputs": [],
   "source": [
    "# dp_list.info()"
   ]
  },
  {
   "cell_type": "code",
   "execution_count": null,
   "id": "4b5bc5ff",
   "metadata": {},
   "outputs": [],
   "source": [
    "new_dp_list.head()"
   ]
  },
  {
   "cell_type": "code",
   "execution_count": null,
   "id": "91b62e5c",
   "metadata": {
    "scrolled": false
   },
   "outputs": [],
   "source": [
    "new_dp_list.info()"
   ]
  },
  {
   "cell_type": "code",
   "execution_count": null,
   "id": "88398417",
   "metadata": {},
   "outputs": [],
   "source": [
    "# unique_pdts_df.head(49)"
   ]
  },
  {
   "cell_type": "code",
   "execution_count": null,
   "id": "3c45a2ad",
   "metadata": {
    "scrolled": false
   },
   "outputs": [],
   "source": [
    "# new_dp_list['PRODUCT ID'].to_list()"
   ]
  },
  {
   "cell_type": "code",
   "execution_count": null,
   "id": "e41d443b",
   "metadata": {},
   "outputs": [],
   "source": []
  },
  {
   "cell_type": "code",
   "execution_count": null,
   "id": "a3709a0e",
   "metadata": {},
   "outputs": [],
   "source": [
    "new_dp_list.tail()"
   ]
  },
  {
   "cell_type": "code",
   "execution_count": null,
   "id": "86995fe3",
   "metadata": {},
   "outputs": [],
   "source": [
    "new_dp_list.tail()"
   ]
  },
  {
   "cell_type": "code",
   "execution_count": null,
   "id": "32051e14",
   "metadata": {},
   "outputs": [],
   "source": [
    "new_dp_list.info()"
   ]
  },
  {
   "cell_type": "code",
   "execution_count": null,
   "id": "4a67bd76",
   "metadata": {
    "scrolled": false
   },
   "outputs": [],
   "source": [
    "# new_dp_list['PRODUCT ID'].to_list()"
   ]
  },
  {
   "cell_type": "code",
   "execution_count": null,
   "id": "b5557a6b",
   "metadata": {},
   "outputs": [],
   "source": [
    "new_pdt_df = new_pdt_df.rename(columns={'ID': 'PRODUCT ID'})"
   ]
  },
  {
   "cell_type": "code",
   "execution_count": null,
   "id": "18611922",
   "metadata": {},
   "outputs": [],
   "source": [
    "new_pdt_df.head()"
   ]
  },
  {
   "cell_type": "code",
   "execution_count": null,
   "id": "f99625f7",
   "metadata": {},
   "outputs": [],
   "source": [
    "merged_pdt_dup = pd.merge(new_dp_list, new_pdt_df, on=['PRODUCT ID'], how='inner')"
   ]
  },
  {
   "cell_type": "code",
   "execution_count": null,
   "id": "afc090b6",
   "metadata": {},
   "outputs": [],
   "source": [
    "# merged_pdt_dup.head(51)"
   ]
  },
  {
   "cell_type": "code",
   "execution_count": null,
   "id": "fc8f5ec3",
   "metadata": {},
   "outputs": [],
   "source": [
    "merged_batch_dup = pd.merge(new_dp_list, new_batches_df, on=['PRODUCT ID'], how='inner')"
   ]
  },
  {
   "cell_type": "code",
   "execution_count": null,
   "id": "0fd10d1f",
   "metadata": {},
   "outputs": [],
   "source": [
    "merged_batch_dup.info()"
   ]
  },
  {
   "cell_type": "code",
   "execution_count": null,
   "id": "d0795cbd",
   "metadata": {},
   "outputs": [],
   "source": [
    "new_dp_list.shape"
   ]
  },
  {
   "cell_type": "code",
   "execution_count": null,
   "id": "384c8135",
   "metadata": {},
   "outputs": [],
   "source": [
    "# new_recipe_df"
   ]
  },
  {
   "cell_type": "code",
   "execution_count": null,
   "id": "fe194e21",
   "metadata": {},
   "outputs": [],
   "source": [
    "new_recipe_df = new_recipe_df.rename(columns={'product_id': 'PRODUCT ID'})"
   ]
  },
  {
   "cell_type": "code",
   "execution_count": null,
   "id": "fb70d27a",
   "metadata": {},
   "outputs": [],
   "source": [
    "new_recipe_df.head()"
   ]
  },
  {
   "cell_type": "code",
   "execution_count": null,
   "id": "e551b33f",
   "metadata": {},
   "outputs": [],
   "source": [
    "merged_recipe_dup = pd.merge(new_dp_list, new_recipe_df, on=['PRODUCT ID'], how='inner')"
   ]
  },
  {
   "cell_type": "code",
   "execution_count": null,
   "id": "5f2b6441",
   "metadata": {},
   "outputs": [],
   "source": [
    "merged_recipe_dup.info()"
   ]
  },
  {
   "cell_type": "code",
   "execution_count": null,
   "id": "2d5f3036",
   "metadata": {},
   "outputs": [],
   "source": [
    "# new_pdt_df\n",
    "# new_batches_df\n",
    "# new_recipe_df\n",
    "\n",
    "# merged_pdt_dup\n",
    "# merged_batch_dup\n",
    "# merged_recipe_dup"
   ]
  },
  {
   "cell_type": "code",
   "execution_count": null,
   "id": "4340d966",
   "metadata": {},
   "outputs": [],
   "source": [
    "unique_pdts_df.head()"
   ]
  },
  {
   "cell_type": "code",
   "execution_count": null,
   "id": "81c5e663",
   "metadata": {},
   "outputs": [],
   "source": [
    "merged_batch_dup.head()"
   ]
  },
  {
   "cell_type": "code",
   "execution_count": null,
   "id": "eb25e03a",
   "metadata": {},
   "outputs": [],
   "source": [
    "new_batch = merged_batch_dup.replace()"
   ]
  },
  {
   "cell_type": "code",
   "execution_count": null,
   "id": "38308c32",
   "metadata": {},
   "outputs": [],
   "source": [
    "# for prod in merged_batch_dup['Generic Name']:\n",
    "#     if np.where(merged_batch_dup['Generic Name'] == unique_pdts_df['GENERIC NAME'], True, False):\n",
    "#         print(prod)"
   ]
  },
  {
   "cell_type": "code",
   "execution_count": null,
   "id": "b68d9ee9",
   "metadata": {},
   "outputs": [],
   "source": [
    "merged_series = merged_batch_dup['Generic Name']\n",
    "unique_series = unique_pdts_df['GENERIC NAME']"
   ]
  },
  {
   "cell_type": "code",
   "execution_count": null,
   "id": "5ad12649",
   "metadata": {},
   "outputs": [],
   "source": [
    "merged_batch_dup.columns"
   ]
  },
  {
   "cell_type": "code",
   "execution_count": null,
   "id": "a5147cd3",
   "metadata": {},
   "outputs": [],
   "source": [
    "# merged_row = merged_batch_dup.loc[['Montelukast']]\n",
    "# merged_row"
   ]
  },
  {
   "cell_type": "code",
   "execution_count": null,
   "id": "15c3f4cb",
   "metadata": {},
   "outputs": [],
   "source": [
    "merged_batch_dup['Generic Name'].unique()"
   ]
  },
  {
   "cell_type": "code",
   "execution_count": null,
   "id": "1c426f16",
   "metadata": {},
   "outputs": [],
   "source": [
    "unique_pdts_df['GENERIC NAME'].unique()"
   ]
  },
  {
   "cell_type": "code",
   "execution_count": null,
   "id": "6cd2b627",
   "metadata": {},
   "outputs": [],
   "source": [
    "unique_pdts_df.columns"
   ]
  },
  {
   "cell_type": "code",
   "execution_count": null,
   "id": "f5357ed6",
   "metadata": {},
   "outputs": [],
   "source": [
    "pdt_df.head()"
   ]
  },
  {
   "cell_type": "code",
   "execution_count": null,
   "id": "b85755a2",
   "metadata": {},
   "outputs": [],
   "source": [
    "pdt_df['NEW ID'] = \"\""
   ]
  },
  {
   "cell_type": "code",
   "execution_count": null,
   "id": "aea12765",
   "metadata": {},
   "outputs": [],
   "source": [
    "for i in range(len(unique_pdts_df)):\n",
    "    for j in range(len(pdt_df)):\n",
    "#         if unique_pdts_df['GENERIC NAME'][i] == pdt_df['GENERIC NAME'][j]:\n",
    "#             pdt_df['NEW ID'][j] = unique_pdts_df['PRODUCT ID'][i]\n",
    "        if unique_pdts_df['GENERIC NAME'][i].lower() in pdt_df['GENERIC NAME'][j].lower():\n",
    "            pdt_df['NEW ID'][j] = unique_pdts_df['PRODUCT ID'][i]"
   ]
  },
  {
   "cell_type": "code",
   "execution_count": null,
   "id": "f280030f",
   "metadata": {},
   "outputs": [],
   "source": [
    "# unique_pdts_df[unique_pdts_df['GENERIC NAME'] == 'Montelukast']"
   ]
  },
  {
   "cell_type": "code",
   "execution_count": null,
   "id": "c5bc1513",
   "metadata": {},
   "outputs": [],
   "source": [
    "pdt_df.head()"
   ]
  },
  {
   "cell_type": "code",
   "execution_count": null,
   "id": "474f6bc7",
   "metadata": {},
   "outputs": [],
   "source": [
    "unique_pdts_df.head()"
   ]
  },
  {
   "cell_type": "code",
   "execution_count": null,
   "id": "37fc607e",
   "metadata": {},
   "outputs": [],
   "source": [
    "pdt_df[pdt_df['NEW ID'] != \"\"]"
   ]
  },
  {
   "cell_type": "code",
   "execution_count": null,
   "id": "8295f69e",
   "metadata": {
    "scrolled": true
   },
   "outputs": [],
   "source": [
    "list(pdt_df['GENERIC NAME'].unique())"
   ]
  },
  {
   "cell_type": "code",
   "execution_count": null,
   "id": "89affb56",
   "metadata": {},
   "outputs": [],
   "source": [
    "unique_pdts_df['GENERIC NAME'].unique()"
   ]
  },
  {
   "cell_type": "code",
   "execution_count": null,
   "id": "f058cd40",
   "metadata": {},
   "outputs": [],
   "source": [
    "'Montelukast'in(pdt_df['GENERIC NAME'])"
   ]
  },
  {
   "cell_type": "code",
   "execution_count": null,
   "id": "4ccf6fd3",
   "metadata": {},
   "outputs": [],
   "source": []
  },
  {
   "cell_type": "code",
   "execution_count": null,
   "id": "9b5d3cba",
   "metadata": {},
   "outputs": [],
   "source": [
    "new_dp_list.head(20)"
   ]
  },
  {
   "cell_type": "code",
   "execution_count": null,
   "id": "db545799",
   "metadata": {},
   "outputs": [],
   "source": [
    "new_dp_list.columns"
   ]
  },
  {
   "cell_type": "code",
   "execution_count": null,
   "id": "2df2879d",
   "metadata": {},
   "outputs": [],
   "source": []
  },
  {
   "cell_type": "code",
   "execution_count": null,
   "id": "ac4ed5a8",
   "metadata": {},
   "outputs": [],
   "source": [
    "new_dp_list[new_dp_list['Generic Name'] == 'Diclofenac 12.5mg Suppositories']"
   ]
  },
  {
   "cell_type": "code",
   "execution_count": null,
   "id": "59281233",
   "metadata": {},
   "outputs": [],
   "source": [
    "unique_pdts_df[unique_pdts_df['GENERIC NAME'] == 'Diclofenac']"
   ]
  },
  {
   "cell_type": "code",
   "execution_count": null,
   "id": "fb17570f",
   "metadata": {},
   "outputs": [],
   "source": [
    "new_dp_list.head(10)"
   ]
  },
  {
   "cell_type": "code",
   "execution_count": null,
   "id": "a5e2a8b1",
   "metadata": {},
   "outputs": [],
   "source": [
    "print(new_dp_list['Generic Name'])"
   ]
  },
  {
   "cell_type": "code",
   "execution_count": null,
   "id": "3597f5b7",
   "metadata": {},
   "outputs": [],
   "source": [
    "new_dp_list.info()"
   ]
  },
  {
   "cell_type": "code",
   "execution_count": null,
   "id": "004e0515",
   "metadata": {},
   "outputs": [],
   "source": [
    "unique_pdts_df[unique_pdts_df['GENERIC NAME'].str.contains('Loratadine')]"
   ]
  },
  {
   "cell_type": "code",
   "execution_count": null,
   "id": "6581ff9e",
   "metadata": {},
   "outputs": [],
   "source": [
    "pattern = \"+./'\""
   ]
  },
  {
   "cell_type": "code",
   "execution_count": null,
   "id": "5f926c9b",
   "metadata": {},
   "outputs": [],
   "source": [
    "unique_pdts_df.loc['Diclofenac 12.5mg Suppositories', 'GENERIC NAME']"
   ]
  },
  {
   "cell_type": "code",
   "execution_count": null,
   "id": "d3a722e6",
   "metadata": {},
   "outputs": [],
   "source": [
    "#         if unique_pdts_df['GENERIC NAME'][i] == pdt_df['GENERIC NAME'][j]:\n",
    "#             pdt_df['NEW ID'][j] = unique_pdts_df['PRODUCT ID'][i]\n",
    "#         elif new_dp_list['Generic Name'][j].lower().contains(pat=\"+./'\", regex=True) in new_dp_list['Generic Name'][j].lower():\n",
    "#             new_dp_list['NEW ID'][j] = unique_pdts_df['PRODUCT ID'][i]"
   ]
  }
 ],
 "metadata": {
  "kernelspec": {
   "display_name": "Python 3",
   "language": "python",
   "name": "python3"
  },
  "language_info": {
   "codemirror_mode": {
    "name": "ipython",
    "version": 3
   },
   "file_extension": ".py",
   "mimetype": "text/x-python",
   "name": "python",
   "nbconvert_exporter": "python",
   "pygments_lexer": "ipython3",
   "version": "3.8.8"
  }
 },
 "nbformat": 4,
 "nbformat_minor": 5
}
