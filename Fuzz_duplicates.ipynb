{
 "cells": [
  {
   "cell_type": "code",
   "execution_count": 1,
   "id": "975f40f6",
   "metadata": {},
   "outputs": [
    {
     "name": "stderr",
     "output_type": "stream",
     "text": [
      "C:\\ProgramData\\Anaconda3\\lib\\site-packages\\fuzzywuzzy\\fuzz.py:11: UserWarning: Using slow pure-python SequenceMatcher. Install python-Levenshtein to remove this warning\n",
      "  warnings.warn('Using slow pure-python SequenceMatcher. Install python-Levenshtein to remove this warning')\n"
     ]
    }
   ],
   "source": [
    "import pandas as pd\n",
    "import numpy as np\n",
    "from fuzzywuzzy import fuzz, process\n",
    "import re"
   ]
  },
  {
   "cell_type": "code",
   "execution_count": 2,
   "id": "e7eabae2",
   "metadata": {},
   "outputs": [],
   "source": [
    "pdt_df = pd.read_csv('full_products_list.csv', dtype={'ID': int})\n",
    "batches_df = pd.read_csv('batches_list.csv')\n",
    "recipe_df = pd.read_csv('recipe_list.csv')"
   ]
  },
  {
   "cell_type": "code",
   "execution_count": 3,
   "id": "7b8ead3e",
   "metadata": {},
   "outputs": [],
   "source": [
    "xls = pd.ExcelFile(r'C:\\Users\\NDA\\Desktop\\EVE\\TMCG\\documents\\duplicate_products.xlsx')\n",
    "dp_list = pd.read_excel(xls, 'copy_final_list_duplicates')\n",
    "unique_pdts_df = pd.read_excel(xls, 'unique final list')"
   ]
  },
  {
   "cell_type": "code",
   "execution_count": 4,
   "id": "40b9f915",
   "metadata": {},
   "outputs": [],
   "source": [
    "new_dp_list = dp_list.drop(['Unnamed: 1', 'Unnamed: 2', 'Unnamed: 3', 'Unnamed: 4', 'Unnamed: 5', 'Unnamed: 8',\n",
    "                           'Unnamed: 9', 'Unnamed: 10', 'Unnamed: 11', 'Unnamed: 12', 'Unnamed: 13', 'Unnamed: 14',\n",
    "                           'Unnamed: 15', 'Unnamed: 16', 'Unnamed: 17', 'Unnamed: 18', 'Unnamed: 19', 'Unnamed: 20',\n",
    "                           'Unnamed: 21', 'Unnamed: 22', 'Unnamed: 23'], axis=1)"
   ]
  },
  {
   "cell_type": "code",
   "execution_count": 5,
   "id": "aa33fefb",
   "metadata": {},
   "outputs": [],
   "source": [
    "new_dp_list = new_dp_list.rename(columns={'Eva': 'PRODUCT ID', 'Unnamed: 6': 'Generic Name', 'Unnamed: 7': 'Brand Name'})"
   ]
  },
  {
   "cell_type": "code",
   "execution_count": 6,
   "id": "42b5e942",
   "metadata": {},
   "outputs": [],
   "source": [
    "new_dp_list = new_dp_list.dropna(axis='rows')"
   ]
  },
  {
   "cell_type": "code",
   "execution_count": 7,
   "id": "13004e92",
   "metadata": {},
   "outputs": [],
   "source": [
    "new_dp_list = new_dp_list.drop([new_dp_list.index[-1]])"
   ]
  },
  {
   "cell_type": "code",
   "execution_count": 8,
   "id": "1a4a4323",
   "metadata": {},
   "outputs": [],
   "source": [
    "new_dp_list['PRODUCT ID'] = pd.to_numeric(new_dp_list['PRODUCT ID'], errors='ignore')"
   ]
  },
  {
   "cell_type": "code",
   "execution_count": 9,
   "id": "a53f07ea",
   "metadata": {},
   "outputs": [],
   "source": [
    "unique_pdts_df = unique_pdts_df.drop(['COUNTRY OF ORIGIN', 'FORMULATION', 'RETAIL PRICE PER SMALLEST UNIT', \n",
    "                                      'RETAIL PRICE PER SMALLEST UNIT.1', 'PACK SIZE', 'STRENGTH', 'eshop_id', \n",
    "                                      'Unnamed: 10', 'Unnamed: 11', 'Unnamed: 12', 'Unnamed: 13', 'Unnamed: 14', \n",
    "                                      'Unnamed: 15', 'Unnamed: 16', 'Unnamed: 17', 'Unnamed: 18', 'Unnamed: 19', \n",
    "                                      'Unnamed: 20', 'Unnamed: 21', 'Unnamed: 22', 'Unnamed: 23', 'Unnamed: 24', \n",
    "                                      'Unnamed: 25'], axis=1)"
   ]
  },
  {
   "cell_type": "code",
   "execution_count": null,
   "id": "130767e7",
   "metadata": {},
   "outputs": [],
   "source": [
    "# new_dp_list['PRODUCT ID'] = pd.to_numeric(new_dp_list['PRODUCT ID'], errors='ignore')"
   ]
  },
  {
   "cell_type": "code",
   "execution_count": 10,
   "id": "e989c489",
   "metadata": {},
   "outputs": [],
   "source": [
    "pdt_df = pdt_df.rename(columns={'ID': 'PRODUCT ID'})"
   ]
  },
  {
   "cell_type": "code",
   "execution_count": null,
   "id": "01a3dcb2",
   "metadata": {},
   "outputs": [],
   "source": [
    "new_dp_list.info()"
   ]
  },
  {
   "cell_type": "code",
   "execution_count": null,
   "id": "444ef263",
   "metadata": {},
   "outputs": [],
   "source": [
    "unique_pdts_df.info()"
   ]
  },
  {
   "cell_type": "code",
   "execution_count": null,
   "id": "d9ef47ca",
   "metadata": {},
   "outputs": [],
   "source": [
    "new_dp_list.head(20)"
   ]
  },
  {
   "cell_type": "code",
   "execution_count": null,
   "id": "ce0eb166",
   "metadata": {},
   "outputs": [],
   "source": [
    "for product in unique_pdts_df['GENERIC NAME']:\n",
    "    # find matches\n",
    "    matches = process.extract(product.lower(), new_dp_list['Generic Name'].str.lower(), limit=new_dp_list.shape[0])\n",
    "#     print(matches)\n",
    "    for match in matches:\n",
    "        if match[1] >= 25:\n",
    "            new_dp_list['NEW ID'] = (str(match[0]))\n",
    "            new_dp_list['NEW ID'] = unique_pdts_df['ID']            "
   ]
  },
  {
   "cell_type": "code",
   "execution_count": null,
   "id": "daf58155",
   "metadata": {},
   "outputs": [],
   "source": []
  },
  {
   "cell_type": "code",
   "execution_count": null,
   "id": "7032d8f4",
   "metadata": {},
   "outputs": [],
   "source": [
    "new_dp_list.head()"
   ]
  },
  {
   "cell_type": "code",
   "execution_count": null,
   "id": "9bc490e8",
   "metadata": {},
   "outputs": [],
   "source": [
    "new_dp_list['PRODUCT ID'] = new_dp_list['PRODUCT ID'].astype(int)"
   ]
  },
  {
   "cell_type": "code",
   "execution_count": null,
   "id": "16603de6",
   "metadata": {},
   "outputs": [],
   "source": [
    "new_dp_list.info()"
   ]
  },
  {
   "cell_type": "code",
   "execution_count": null,
   "id": "2d2b30f8",
   "metadata": {},
   "outputs": [],
   "source": [
    "unique_pdts_df[unique_pdts_df['ID'] == 3949]"
   ]
  },
  {
   "cell_type": "code",
   "execution_count": 11,
   "id": "b70d1da4",
   "metadata": {},
   "outputs": [],
   "source": [
    "dp_names = new_dp_list['Generic Name'].unique()\n",
    "uniq_names = unique_pdts_df['GENERIC NAME'].unique()"
   ]
  },
  {
   "cell_type": "code",
   "execution_count": 12,
   "id": "20e10358",
   "metadata": {},
   "outputs": [],
   "source": [
    "def match_names(name, list_names, min_score=0):\n",
    "    max_score = -1\n",
    "    max_name = ''\n",
    "    for n in list_names:\n",
    "        score = fuzz.ratio(name, n)\n",
    "        if (score > min_score) & (score > max_score):\n",
    "            max_name = n\n",
    "            max_score = score\n",
    "        return (max_name, max_score)"
   ]
  },
  {
   "cell_type": "code",
   "execution_count": 13,
   "id": "98c54837",
   "metadata": {},
   "outputs": [],
   "source": [
    "new_dp_list['new_id'] = '' "
   ]
  },
  {
   "cell_type": "code",
   "execution_count": 16,
   "id": "e0f5c056",
   "metadata": {},
   "outputs": [
    {
     "name": "stdout",
     "output_type": "stream",
     "text": [
      "Betadine Mouthwash Gargle\n"
     ]
    },
    {
     "name": "stderr",
     "output_type": "stream",
     "text": [
      "<ipython-input-16-70fbb9666e3f>:5: SettingWithCopyWarning: \n",
      "A value is trying to be set on a copy of a slice from a DataFrame\n",
      "\n",
      "See the caveats in the documentation: https://pandas.pydata.org/pandas-docs/stable/user_guide/indexing.html#returning-a-view-versus-a-copy\n",
      "  new_dp_list['new_id'][p] = new_dp_list['PRODUCT ID']\n"
     ]
    }
   ],
   "source": [
    "for p in unique_pdts_df['GENERIC NAME']:\n",
    "    match = match_names(p, new_dp_list['Generic Name'], 75)\n",
    "    if match[1] >= 75:\n",
    "        print(p)\n",
    "        new_dp_list['new_id'][p] = new_dp_list['PRODUCT ID']\n",
    "    "
   ]
  },
  {
   "cell_type": "code",
   "execution_count": 15,
   "id": "e6ff3379",
   "metadata": {},
   "outputs": [
    {
     "data": {
      "text/html": [
       "<div>\n",
       "<style scoped>\n",
       "    .dataframe tbody tr th:only-of-type {\n",
       "        vertical-align: middle;\n",
       "    }\n",
       "\n",
       "    .dataframe tbody tr th {\n",
       "        vertical-align: top;\n",
       "    }\n",
       "\n",
       "    .dataframe thead th {\n",
       "        text-align: right;\n",
       "    }\n",
       "</style>\n",
       "<table border=\"1\" class=\"dataframe\">\n",
       "  <thead>\n",
       "    <tr style=\"text-align: right;\">\n",
       "      <th></th>\n",
       "      <th>PRODUCT ID</th>\n",
       "      <th>Generic Name</th>\n",
       "      <th>Brand Name</th>\n",
       "      <th>new_id</th>\n",
       "    </tr>\n",
       "  </thead>\n",
       "  <tbody>\n",
       "    <tr>\n",
       "      <th>0</th>\n",
       "      <td>3951</td>\n",
       "      <td>Betadine Mouthwash Gargle</td>\n",
       "      <td>Betadine Mouthwash Gargle</td>\n",
       "      <td></td>\n",
       "    </tr>\n",
       "    <tr>\n",
       "      <th>1</th>\n",
       "      <td>387</td>\n",
       "      <td>Montelukast</td>\n",
       "      <td>DENK AIR JUNIOR 5mg</td>\n",
       "      <td></td>\n",
       "    </tr>\n",
       "    <tr>\n",
       "      <th>2</th>\n",
       "      <td>4933</td>\n",
       "      <td>Montelukast Tabs</td>\n",
       "      <td>Denk-air</td>\n",
       "      <td></td>\n",
       "    </tr>\n",
       "    <tr>\n",
       "      <th>3</th>\n",
       "      <td>4942</td>\n",
       "      <td>Montelukast Tabs</td>\n",
       "      <td>Denk-Air Junior</td>\n",
       "      <td></td>\n",
       "    </tr>\n",
       "    <tr>\n",
       "      <th>4</th>\n",
       "      <td>3146</td>\n",
       "      <td>Diclofenac Tabs</td>\n",
       "      <td>Diclomol SR</td>\n",
       "      <td></td>\n",
       "    </tr>\n",
       "  </tbody>\n",
       "</table>\n",
       "</div>"
      ],
      "text/plain": [
       "   PRODUCT ID               Generic Name                 Brand Name new_id\n",
       "0        3951  Betadine Mouthwash Gargle  Betadine Mouthwash Gargle       \n",
       "1         387                Montelukast        DENK AIR JUNIOR 5mg       \n",
       "2        4933           Montelukast Tabs                   Denk-air       \n",
       "3        4942           Montelukast Tabs            Denk-Air Junior       \n",
       "4        3146            Diclofenac Tabs                Diclomol SR       "
      ]
     },
     "execution_count": 15,
     "metadata": {},
     "output_type": "execute_result"
    }
   ],
   "source": [
    "new_dp_list.head()"
   ]
  },
  {
   "cell_type": "code",
   "execution_count": null,
   "id": "a1c70c72",
   "metadata": {},
   "outputs": [],
   "source": []
  }
 ],
 "metadata": {
  "kernelspec": {
   "display_name": "Python 3",
   "language": "python",
   "name": "python3"
  },
  "language_info": {
   "codemirror_mode": {
    "name": "ipython",
    "version": 3
   },
   "file_extension": ".py",
   "mimetype": "text/x-python",
   "name": "python",
   "nbconvert_exporter": "python",
   "pygments_lexer": "ipython3",
   "version": "3.8.8"
  }
 },
 "nbformat": 4,
 "nbformat_minor": 5
}
